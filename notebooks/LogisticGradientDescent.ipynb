{
 "cells": [
  {
   "cell_type": "markdown",
   "metadata": {},
   "source": [
    "Data set from Table 1.1\n",
    "\n"
   ]
  },
  {
   "cell_type": "code",
   "execution_count": 1,
   "metadata": {},
   "outputs": [],
   "source": [
    "import numpy as np\n",
    "def sigma(x):\n",
    "    return 1/(1+np.exp(-x))"
   ]
  },
  {
   "cell_type": "code",
   "execution_count": 2,
   "metadata": {},
   "outputs": [],
   "source": [
    "K=[1]*10+[0]*90+[1]*18+[0]*82+[1]*38+[0]*62+[1]*50+[0]*50+[1]*69+[0]*31+[1]*78+[0]*22+[1]*86+[0]*14\n",
    "Y = np.array(K).reshape(700,1)\n",
    "L=[-3]*100+[-2]*100+[-1]*100+[0]*100+[1]*100+[2]*100+[3]*100\n",
    "X = np.concatenate([np.array(L).reshape(700,1),np.ones(700).reshape(700,1)],axis=1)"
   ]
  },
  {
   "cell_type": "code",
   "execution_count": 17,
   "metadata": {},
   "outputs": [],
   "source": [
    "def L(M):\n",
    "    return -Y.T @ np.log(sigma(X @ M))-(1-Y).T@(np.log(1-sigma(X@M)))\n",
    "def nablaL(M):\n",
    "    return X.T @ (sigma(X @M) - Y)"
   ]
  },
  {
   "cell_type": "code",
   "execution_count": 18,
   "metadata": {},
   "outputs": [],
   "source": [
    "nu = .001\n",
    "M0 = np.array([[1],[0]])"
   ]
  },
  {
   "cell_type": "code",
   "execution_count": 19,
   "metadata": {},
   "outputs": [
    {
     "data": {
      "text/plain": [
       "(2, 1)"
      ]
     },
     "execution_count": 19,
     "metadata": {},
     "output_type": "execute_result"
    }
   ],
   "source": [
    "nablaL(M0).shape\n"
   ]
  },
  {
   "cell_type": "code",
   "execution_count": 20,
   "metadata": {},
   "outputs": [
    {
     "data": {
      "text/plain": [
       "(2, 1)"
      ]
     },
     "execution_count": 20,
     "metadata": {},
     "output_type": "execute_result"
    }
   ],
   "source": [
    "M0.shape"
   ]
  },
  {
   "cell_type": "code",
   "execution_count": 21,
   "metadata": {},
   "outputs": [],
   "source": [
    "N=30\n",
    "ls = np.zeros(N)\n",
    "for i in range(N):\n",
    "    M1 = M0 -nu * nablaL(M0)\n",
    "    M0 = M1\n",
    "    ls[i] = L(M0)"
   ]
  },
  {
   "cell_type": "code",
   "execution_count": 22,
   "metadata": {},
   "outputs": [
    {
     "data": {
      "text/plain": [
       "array([[ 0.67165368],\n",
       "       [-0.00795845]])"
      ]
     },
     "execution_count": 22,
     "metadata": {},
     "output_type": "execute_result"
    }
   ],
   "source": [
    "M0[-20:]"
   ]
  },
  {
   "cell_type": "code",
   "execution_count": 23,
   "metadata": {},
   "outputs": [
    {
     "data": {
      "text/plain": [
       "380.6713101923147"
      ]
     },
     "execution_count": 23,
     "metadata": {},
     "output_type": "execute_result"
    }
   ],
   "source": [
    "ls[0]"
   ]
  },
  {
   "cell_type": "code",
   "execution_count": 40,
   "metadata": {},
   "outputs": [
    {
     "data": {
      "text/html": [
       "\n",
       "    <div class=\"bk-root\">\n",
       "        <a href=\"https://bokeh.org\" target=\"_blank\" class=\"bk-logo bk-logo-small bk-logo-notebook\"></a>\n",
       "        <span id=\"3219\">Loading BokehJS ...</span>\n",
       "    </div>"
      ]
     },
     "metadata": {},
     "output_type": "display_data"
    },
    {
     "data": {
      "application/javascript": "\n(function(root) {\n  function now() {\n    return new Date();\n  }\n\n  var force = true;\n\n  if (typeof root._bokeh_onload_callbacks === \"undefined\" || force === true) {\n    root._bokeh_onload_callbacks = [];\n    root._bokeh_is_loading = undefined;\n  }\n\n  var JS_MIME_TYPE = 'application/javascript';\n  var HTML_MIME_TYPE = 'text/html';\n  var EXEC_MIME_TYPE = 'application/vnd.bokehjs_exec.v0+json';\n  var CLASS_NAME = 'output_bokeh rendered_html';\n\n  /**\n   * Render data to the DOM node\n   */\n  function render(props, node) {\n    var script = document.createElement(\"script\");\n    node.appendChild(script);\n  }\n\n  /**\n   * Handle when an output is cleared or removed\n   */\n  function handleClearOutput(event, handle) {\n    var cell = handle.cell;\n\n    var id = cell.output_area._bokeh_element_id;\n    var server_id = cell.output_area._bokeh_server_id;\n    // Clean up Bokeh references\n    if (id != null && id in Bokeh.index) {\n      Bokeh.index[id].model.document.clear();\n      delete Bokeh.index[id];\n    }\n\n    if (server_id !== undefined) {\n      // Clean up Bokeh references\n      var cmd = \"from bokeh.io.state import curstate; print(curstate().uuid_to_server['\" + server_id + \"'].get_sessions()[0].document.roots[0]._id)\";\n      cell.notebook.kernel.execute(cmd, {\n        iopub: {\n          output: function(msg) {\n            var id = msg.content.text.trim();\n            if (id in Bokeh.index) {\n              Bokeh.index[id].model.document.clear();\n              delete Bokeh.index[id];\n            }\n          }\n        }\n      });\n      // Destroy server and session\n      var cmd = \"import bokeh.io.notebook as ion; ion.destroy_server('\" + server_id + \"')\";\n      cell.notebook.kernel.execute(cmd);\n    }\n  }\n\n  /**\n   * Handle when a new output is added\n   */\n  function handleAddOutput(event, handle) {\n    var output_area = handle.output_area;\n    var output = handle.output;\n\n    // limit handleAddOutput to display_data with EXEC_MIME_TYPE content only\n    if ((output.output_type != \"display_data\") || (!Object.prototype.hasOwnProperty.call(output.data, EXEC_MIME_TYPE))) {\n      return\n    }\n\n    var toinsert = output_area.element.find(\".\" + CLASS_NAME.split(' ')[0]);\n\n    if (output.metadata[EXEC_MIME_TYPE][\"id\"] !== undefined) {\n      toinsert[toinsert.length - 1].firstChild.textContent = output.data[JS_MIME_TYPE];\n      // store reference to embed id on output_area\n      output_area._bokeh_element_id = output.metadata[EXEC_MIME_TYPE][\"id\"];\n    }\n    if (output.metadata[EXEC_MIME_TYPE][\"server_id\"] !== undefined) {\n      var bk_div = document.createElement(\"div\");\n      bk_div.innerHTML = output.data[HTML_MIME_TYPE];\n      var script_attrs = bk_div.children[0].attributes;\n      for (var i = 0; i < script_attrs.length; i++) {\n        toinsert[toinsert.length - 1].firstChild.setAttribute(script_attrs[i].name, script_attrs[i].value);\n        toinsert[toinsert.length - 1].firstChild.textContent = bk_div.children[0].textContent\n      }\n      // store reference to server id on output_area\n      output_area._bokeh_server_id = output.metadata[EXEC_MIME_TYPE][\"server_id\"];\n    }\n  }\n\n  function register_renderer(events, OutputArea) {\n\n    function append_mime(data, metadata, element) {\n      // create a DOM node to render to\n      var toinsert = this.create_output_subarea(\n        metadata,\n        CLASS_NAME,\n        EXEC_MIME_TYPE\n      );\n      this.keyboard_manager.register_events(toinsert);\n      // Render to node\n      var props = {data: data, metadata: metadata[EXEC_MIME_TYPE]};\n      render(props, toinsert[toinsert.length - 1]);\n      element.append(toinsert);\n      return toinsert\n    }\n\n    /* Handle when an output is cleared or removed */\n    events.on('clear_output.CodeCell', handleClearOutput);\n    events.on('delete.Cell', handleClearOutput);\n\n    /* Handle when a new output is added */\n    events.on('output_added.OutputArea', handleAddOutput);\n\n    /**\n     * Register the mime type and append_mime function with output_area\n     */\n    OutputArea.prototype.register_mime_type(EXEC_MIME_TYPE, append_mime, {\n      /* Is output safe? */\n      safe: true,\n      /* Index of renderer in `output_area.display_order` */\n      index: 0\n    });\n  }\n\n  // register the mime type if in Jupyter Notebook environment and previously unregistered\n  if (root.Jupyter !== undefined) {\n    var events = require('base/js/events');\n    var OutputArea = require('notebook/js/outputarea').OutputArea;\n\n    if (OutputArea.prototype.mime_types().indexOf(EXEC_MIME_TYPE) == -1) {\n      register_renderer(events, OutputArea);\n    }\n  }\n\n  \n  if (typeof (root._bokeh_timeout) === \"undefined\" || force === true) {\n    root._bokeh_timeout = Date.now() + 5000;\n    root._bokeh_failed_load = false;\n  }\n\n  var NB_LOAD_WARNING = {'data': {'text/html':\n     \"<div style='background-color: #fdd'>\\n\"+\n     \"<p>\\n\"+\n     \"BokehJS does not appear to have successfully loaded. If loading BokehJS from CDN, this \\n\"+\n     \"may be due to a slow or bad network connection. Possible fixes:\\n\"+\n     \"</p>\\n\"+\n     \"<ul>\\n\"+\n     \"<li>re-rerun `output_notebook()` to attempt to load from CDN again, or</li>\\n\"+\n     \"<li>use INLINE resources instead, as so:</li>\\n\"+\n     \"</ul>\\n\"+\n     \"<code>\\n\"+\n     \"from bokeh.resources import INLINE\\n\"+\n     \"output_notebook(resources=INLINE)\\n\"+\n     \"</code>\\n\"+\n     \"</div>\"}};\n\n  function display_loaded() {\n    var el = document.getElementById(\"3219\");\n    if (el != null) {\n      el.textContent = \"BokehJS is loading...\";\n    }\n    if (root.Bokeh !== undefined) {\n      if (el != null) {\n        el.textContent = \"BokehJS \" + root.Bokeh.version + \" successfully loaded.\";\n      }\n    } else if (Date.now() < root._bokeh_timeout) {\n      setTimeout(display_loaded, 100)\n    }\n  }\n\n\n  function run_callbacks() {\n    try {\n      root._bokeh_onload_callbacks.forEach(function(callback) {\n        if (callback != null)\n          callback();\n      });\n    } finally {\n      delete root._bokeh_onload_callbacks\n    }\n    console.debug(\"Bokeh: all callbacks have finished\");\n  }\n\n  function load_libs(css_urls, js_urls, callback) {\n    if (css_urls == null) css_urls = [];\n    if (js_urls == null) js_urls = [];\n\n    root._bokeh_onload_callbacks.push(callback);\n    if (root._bokeh_is_loading > 0) {\n      console.debug(\"Bokeh: BokehJS is being loaded, scheduling callback at\", now());\n      return null;\n    }\n    if (js_urls == null || js_urls.length === 0) {\n      run_callbacks();\n      return null;\n    }\n    console.debug(\"Bokeh: BokehJS not loaded, scheduling load and callback at\", now());\n    root._bokeh_is_loading = css_urls.length + js_urls.length;\n\n    function on_load() {\n      root._bokeh_is_loading--;\n      if (root._bokeh_is_loading === 0) {\n        console.debug(\"Bokeh: all BokehJS libraries/stylesheets loaded\");\n        run_callbacks()\n      }\n    }\n\n    function on_error(url) {\n      console.error(\"failed to load \" + url);\n    }\n\n    for (let i = 0; i < css_urls.length; i++) {\n      const url = css_urls[i];\n      const element = document.createElement(\"link\");\n      element.onload = on_load;\n      element.onerror = on_error.bind(null, url);\n      element.rel = \"stylesheet\";\n      element.type = \"text/css\";\n      element.href = url;\n      console.debug(\"Bokeh: injecting link tag for BokehJS stylesheet: \", url);\n      document.body.appendChild(element);\n    }\n\n    const hashes = {\"https://cdn.bokeh.org/bokeh/release/bokeh-2.3.2.min.js\": \"XypntL49z55iwGVUW4qsEu83zKL3XEcz0MjuGOQ9SlaaQ68X/g+k1FcioZi7oQAc\", \"https://cdn.bokeh.org/bokeh/release/bokeh-tables-2.3.2.min.js\": \"bEsM86IHGDTLCS0Zod8a8WM6Y4+lafAL/eSiyQcuPzinmWNgNO2/olUF0Z2Dkn5i\", \"https://cdn.bokeh.org/bokeh/release/bokeh-widgets-2.3.2.min.js\": \"TX0gSQTdXTTeScqxj6PVQxTiRW8DOoGVwinyi1D3kxv7wuxQ02XkOxv0xwiypcAH\"};\n\n    for (let i = 0; i < js_urls.length; i++) {\n      const url = js_urls[i];\n      const element = document.createElement('script');\n      element.onload = on_load;\n      element.onerror = on_error.bind(null, url);\n      element.async = false;\n      element.src = url;\n      if (url in hashes) {\n        element.crossOrigin = \"anonymous\";\n        element.integrity = \"sha384-\" + hashes[url];\n      }\n      console.debug(\"Bokeh: injecting script tag for BokehJS library: \", url);\n      document.head.appendChild(element);\n    }\n  };\n\n  function inject_raw_css(css) {\n    const element = document.createElement(\"style\");\n    element.appendChild(document.createTextNode(css));\n    document.body.appendChild(element);\n  }\n\n  \n  var js_urls = [\"https://cdn.bokeh.org/bokeh/release/bokeh-2.3.2.min.js\", \"https://cdn.bokeh.org/bokeh/release/bokeh-widgets-2.3.2.min.js\", \"https://cdn.bokeh.org/bokeh/release/bokeh-tables-2.3.2.min.js\"];\n  var css_urls = [];\n  \n\n  var inline_js = [\n    function(Bokeh) {\n      Bokeh.set_log_level(\"info\");\n    },\n    function(Bokeh) {\n    \n    \n    }\n  ];\n\n  function run_inline_js() {\n    \n    if (root.Bokeh !== undefined || force === true) {\n      \n    for (var i = 0; i < inline_js.length; i++) {\n      inline_js[i].call(root, root.Bokeh);\n    }\n    if (force === true) {\n        display_loaded();\n      }} else if (Date.now() < root._bokeh_timeout) {\n      setTimeout(run_inline_js, 100);\n    } else if (!root._bokeh_failed_load) {\n      console.log(\"Bokeh: BokehJS failed to load within specified timeout.\");\n      root._bokeh_failed_load = true;\n    } else if (force !== true) {\n      var cell = $(document.getElementById(\"3219\")).parents('.cell').data().cell;\n      cell.output_area.append_execute_result(NB_LOAD_WARNING)\n    }\n\n  }\n\n  if (root._bokeh_is_loading === 0) {\n    console.debug(\"Bokeh: BokehJS loaded, going straight to plotting\");\n    run_inline_js();\n  } else {\n    load_libs(css_urls, js_urls, function() {\n      console.debug(\"Bokeh: BokehJS plotting callback run at\", now());\n      run_inline_js();\n    });\n  }\n}(window));",
      "application/vnd.bokehjs_load.v0+json": ""
     },
     "metadata": {},
     "output_type": "display_data"
    }
   ],
   "source": [
    "from bokeh.plotting import figure\n",
    "from bokeh.io import output_notebook,show,export_png\n",
    "from bokeh.layouts import gridplot\n",
    "output_notebook()"
   ]
  },
  {
   "cell_type": "code",
   "execution_count": 33,
   "metadata": {},
   "outputs": [
    {
     "data": {
      "text/html": [
       "\n",
       "\n",
       "\n",
       "\n",
       "\n",
       "\n",
       "  <div class=\"bk-root\" id=\"41f65fb8-c3ac-4b57-b787-6612ed624a9b\" data-root-id=\"1824\"></div>\n"
      ]
     },
     "metadata": {},
     "output_type": "display_data"
    },
    {
     "data": {
      "application/javascript": "(function(root) {\n  function embed_document(root) {\n    \n  var docs_json = {\"8a0494a1-cdea-4910-83bf-d38540a6e695\":{\"defs\":[],\"roots\":{\"references\":[{\"attributes\":{\"below\":[{\"id\":\"1835\"}],\"center\":[{\"id\":\"1838\"},{\"id\":\"1842\"}],\"left\":[{\"id\":\"1839\"}],\"renderers\":[{\"id\":\"1860\"}],\"title\":{\"id\":\"1825\"},\"toolbar\":{\"id\":\"1850\"},\"toolbar_location\":null,\"x_range\":{\"id\":\"1827\"},\"x_scale\":{\"id\":\"1831\"},\"y_range\":{\"id\":\"1829\"},\"y_scale\":{\"id\":\"1833\"}},\"id\":\"1824\",\"subtype\":\"Figure\",\"type\":\"Plot\"},{\"attributes\":{},\"id\":\"1848\",\"type\":\"HelpTool\"},{\"attributes\":{\"fill_color\":{\"value\":\"#1f77b4\"},\"line_color\":{\"value\":\"#1f77b4\"},\"x\":{\"field\":\"x\"},\"y\":{\"field\":\"y\"}},\"id\":\"1858\",\"type\":\"Scatter\"},{\"attributes\":{\"data\":{\"x\":[0,1,2,3,4,5,6,7,8,9,10,11,12,13,14,15,16,17,18,19,20,21,22,23,24,25,26,27,28,29],\"y\":{\"__ndarray__\":\"aZfBr73Kd0Amj78GioR3QNPVQrVqXndAsizPTUFLd0Bkq+RfNUJ3QD5EQ5UiPndA0E9Dr1w8d0CjfMydmzt3QO/B+LJKO3dABHTEESk7d0DapSsiGzt3QHoOjlcVO3dATr3u6BI7d0AXLbLdETt3QI2YdWYRO3dA+JvjLRE7d0A8VawQETt3QLzUAwARO3dAJBWR9RA7d0DtNH7uEDt3QLbgcekQO3dAlwm55RA7d0DHIu3iEDt3QNqYzeAQO3dAtJIu3xA7d0BMtvDdEDt3QFXf/NwQO3dA1qdB3BA7d0AH2bHbEDt3QHVbQ9sQO3dA\",\"dtype\":\"float64\",\"order\":\"little\",\"shape\":[30]}},\"selected\":{\"id\":\"1871\"},\"selection_policy\":{\"id\":\"1870\"}},\"id\":\"1857\",\"type\":\"ColumnDataSource\"},{\"attributes\":{\"data_source\":{\"id\":\"1857\"},\"glyph\":{\"id\":\"1858\"},\"hover_glyph\":null,\"muted_glyph\":null,\"nonselection_glyph\":{\"id\":\"1859\"},\"view\":{\"id\":\"1861\"}},\"id\":\"1860\",\"type\":\"GlyphRenderer\"},{\"attributes\":{\"source\":{\"id\":\"1857\"}},\"id\":\"1861\",\"type\":\"CDSView\"},{\"attributes\":{},\"id\":\"1840\",\"type\":\"BasicTicker\"},{\"attributes\":{\"axis_label\":\"(negative) Log Likelihood\",\"formatter\":{\"id\":\"1865\"},\"major_label_policy\":{\"id\":\"1863\"},\"ticker\":{\"id\":\"1840\"}},\"id\":\"1839\",\"type\":\"LinearAxis\"},{\"attributes\":{\"fill_alpha\":{\"value\":0.1},\"fill_color\":{\"value\":\"#1f77b4\"},\"line_alpha\":{\"value\":0.1},\"line_color\":{\"value\":\"#1f77b4\"},\"x\":{\"field\":\"x\"},\"y\":{\"field\":\"y\"}},\"id\":\"1859\",\"type\":\"Scatter\"},{\"attributes\":{},\"id\":\"1833\",\"type\":\"LinearScale\"},{\"attributes\":{},\"id\":\"1846\",\"type\":\"SaveTool\"},{\"attributes\":{},\"id\":\"1863\",\"type\":\"AllLabels\"},{\"attributes\":{\"axis\":{\"id\":\"1835\"},\"ticker\":null},\"id\":\"1838\",\"type\":\"Grid\"},{\"attributes\":{\"bottom_units\":\"screen\",\"fill_alpha\":0.5,\"fill_color\":\"lightgrey\",\"left_units\":\"screen\",\"level\":\"overlay\",\"line_alpha\":1.0,\"line_color\":\"black\",\"line_dash\":[4,4],\"line_width\":2,\"right_units\":\"screen\",\"syncable\":false,\"top_units\":\"screen\"},\"id\":\"1849\",\"type\":\"BoxAnnotation\"},{\"attributes\":{},\"id\":\"1844\",\"type\":\"WheelZoomTool\"},{\"attributes\":{},\"id\":\"1836\",\"type\":\"BasicTicker\"},{\"attributes\":{\"active_multi\":null,\"tools\":[{\"id\":\"1843\"},{\"id\":\"1844\"},{\"id\":\"1845\"},{\"id\":\"1846\"},{\"id\":\"1847\"},{\"id\":\"1848\"}]},\"id\":\"1850\",\"type\":\"Toolbar\"},{\"attributes\":{},\"id\":\"1827\",\"type\":\"DataRange1d\"},{\"attributes\":{},\"id\":\"1865\",\"type\":\"BasicTickFormatter\"},{\"attributes\":{\"text\":\"(negative) Log Likelihood vs Iterations\"},\"id\":\"1825\",\"type\":\"Title\"},{\"attributes\":{},\"id\":\"1866\",\"type\":\"AllLabels\"},{\"attributes\":{},\"id\":\"1870\",\"type\":\"UnionRenderers\"},{\"attributes\":{},\"id\":\"1868\",\"type\":\"BasicTickFormatter\"},{\"attributes\":{},\"id\":\"1847\",\"type\":\"ResetTool\"},{\"attributes\":{},\"id\":\"1871\",\"type\":\"Selection\"},{\"attributes\":{},\"id\":\"1843\",\"type\":\"PanTool\"},{\"attributes\":{\"axis_label\":\"Iteration\",\"formatter\":{\"id\":\"1868\"},\"major_label_policy\":{\"id\":\"1866\"},\"ticker\":{\"id\":\"1836\"}},\"id\":\"1835\",\"type\":\"LinearAxis\"},{\"attributes\":{},\"id\":\"1831\",\"type\":\"LinearScale\"},{\"attributes\":{\"axis\":{\"id\":\"1839\"},\"dimension\":1,\"ticker\":null},\"id\":\"1842\",\"type\":\"Grid\"},{\"attributes\":{\"overlay\":{\"id\":\"1849\"}},\"id\":\"1845\",\"type\":\"BoxZoomTool\"},{\"attributes\":{},\"id\":\"1829\",\"type\":\"DataRange1d\"}],\"root_ids\":[\"1824\"]},\"title\":\"Bokeh Application\",\"version\":\"2.3.2\"}};\n  var render_items = [{\"docid\":\"8a0494a1-cdea-4910-83bf-d38540a6e695\",\"root_ids\":[\"1824\"],\"roots\":{\"1824\":\"41f65fb8-c3ac-4b57-b787-6612ed624a9b\"}}];\n  root.Bokeh.embed.embed_items_notebook(docs_json, render_items);\n\n  }\n  if (root.Bokeh !== undefined) {\n    embed_document(root);\n  } else {\n    var attempts = 0;\n    var timer = setInterval(function(root) {\n      if (root.Bokeh !== undefined) {\n        clearInterval(timer);\n        embed_document(root);\n      } else {\n        attempts++;\n        if (attempts > 100) {\n          clearInterval(timer);\n          console.log(\"Bokeh: ERROR: Unable to run BokehJS code because BokehJS library is missing\");\n        }\n      }\n    }, 10, root)\n  }\n})(window);",
      "application/vnd.bokehjs_exec.v0+json": ""
     },
     "metadata": {
      "application/vnd.bokehjs_exec.v0+json": {
       "id": "1824"
      }
     },
     "output_type": "display_data"
    }
   ],
   "source": [
    "f=figure(title='(negative) Log Likelihood vs Iterations',toolbar_location=None)\n",
    "f.xaxis.axis_label=\"Iteration\"\n",
    "f.yaxis.axis_label=\"(negative) Log Likelihood\"\n",
    "f.scatter(x=range(N),y=ls)\n",
    "export_png(f,filename=\"LogLikelihoodVsIterations.png\")\n",
    "show(f)"
   ]
  },
  {
   "cell_type": "code",
   "execution_count": 144,
   "metadata": {},
   "outputs": [
    {
     "data": {
      "text/plain": [
       "array([[ 0.6716535 ],\n",
       "       [-0.00810727]])"
      ]
     },
     "execution_count": 144,
     "metadata": {},
     "output_type": "execute_result"
    }
   ],
   "source": [
    "M0"
   ]
  },
  {
   "cell_type": "code",
   "execution_count": 145,
   "metadata": {},
   "outputs": [],
   "source": [
    "P = sigma(X@M0)"
   ]
  },
  {
   "cell_type": "code",
   "execution_count": 38,
   "metadata": {},
   "outputs": [
    {
     "data": {
      "text/html": [
       "\n",
       "\n",
       "\n",
       "\n",
       "\n",
       "\n",
       "  <div class=\"bk-root\" id=\"cc0f4f56-e991-4439-b753-2d4ef41e64f3\" data-root-id=\"2862\"></div>\n"
      ]
     },
     "metadata": {},
     "output_type": "display_data"
    },
    {
     "data": {
      "application/javascript": "(function(root) {\n  function embed_document(root) {\n    \n  var docs_json = {\"3dbf3a66-39ff-4e84-b0c4-a6a1831644da\":{\"defs\":[],\"roots\":{\"references\":[{\"attributes\":{\"below\":[{\"id\":\"2873\"}],\"center\":[{\"id\":\"2876\"},{\"id\":\"2880\"}],\"left\":[{\"id\":\"2877\"}],\"renderers\":[{\"id\":\"2898\"},{\"id\":\"2903\"}],\"title\":{\"id\":\"2863\"},\"toolbar\":{\"id\":\"2888\"},\"toolbar_location\":null,\"x_range\":{\"id\":\"2865\"},\"x_scale\":{\"id\":\"2869\"},\"y_range\":{\"id\":\"2867\"},\"y_scale\":{\"id\":\"2871\"}},\"id\":\"2862\",\"subtype\":\"Figure\",\"type\":\"Plot\"},{\"attributes\":{},\"id\":\"2886\",\"type\":\"HelpTool\"},{\"attributes\":{\"axis\":{\"id\":\"2877\"},\"dimension\":1,\"ticker\":null},\"id\":\"2880\",\"type\":\"Grid\"},{\"attributes\":{},\"id\":\"2909\",\"type\":\"AllLabels\"},{\"attributes\":{},\"id\":\"2878\",\"type\":\"BasicTicker\"},{\"attributes\":{},\"id\":\"2911\",\"type\":\"BasicTickFormatter\"},{\"attributes\":{\"data\":{\"x\":{\"__ndarray__\":\"AAAAAAAAEMAFav1KgVoPwArU+pUCtQ7AED744IMPDsAVqPUrBWoNwBoS83aGxAzAH3zwwQcfDMAk5u0MiXkLwClQ61cK1ArALrrooosuCsA0JObtDIkJwDmO4ziO4wjAPvjggw8+CMBDYt7OkJgHwEjM2xkS8wbATjbZZJNNBsBSoNavFKgFwFgK1PqVAgXAXXTRRRddBMBi3s6QmLcDwGdIzNsZEgPAbLLJJptsAsByHMdxHMcBwHaGxLydIQHAfPDBBx98AMACtX6lQK3/vwyJeTtDYv6/Fl100UUX/b8gMW9nSMz7vywFav1Kgfq/Ntlkk002+b9ArV8pUOv3v0qBWr9SoPa/VFVVVVVV9b9eKVDrVwr0v2j9SoFav/K/dNFFF1108b9+pUCtXynwvxDzdobEvO2/JJtssskm6784Q2LezpDov0zrVwrU+uW/ZJNNNtlk4794O0Ni3s7gvxjHcRzHcdy/QBdddNFF179oZ0jM2xnSvyBvZ0jM28m/AB988MEHv79Av1Kg1q+kv4C/UqDWr6Q/QB988MEHvz9Ab2dIzNvJP3BnSMzbGdI/UBdddNFF1z8gx3Ecx3HcP4A7Q2LezuA/aJNNNtlk4z9Q61cK1PrlP0BDYt7OkOg/KJtssskm6z8Y83aGxLztP4ClQK1fKfA/eNFFF1108T9s/UqBWr/yP2ApUOtXCvQ/WFVVVVVV9T9MgVq/UqD2P0StXylQ6/c/ONlkk002+T8wBWr9SoH6PyQxb2dIzPs/GF100UUX/T8QiXk7Q2L+PwS1fqVArf8/fvDBBx98AEB4hsS8nSEBQHIcx3EcxwFAbrLJJptsAkBoSMzbGRIDQGTezpCYtwNAXnTRRRddBEBaCtT6lQIFQFSg1q8UqAVATjbZZJNNBkBKzNsZEvMGQERi3s6QmAdAQPjggw8+CEA6juM4juMIQDYk5u0MiQlAMLrooosuCkAqUOtXCtQKQCbm7QyJeQtAIHzwwQcfDEAcEvN2hsQMQBao9SsFag1AED744IMPDkAM1PqVArUOQAZq/UqBWg9AAAAAAAAAEEA=\",\"dtype\":\"float64\",\"order\":\"little\",\"shape\":[100]},\"y\":{\"__ndarray__\":\"ygzb0g40sD9QLbd2AgyxP0rqkAFd7rE/Lklv8Yfbsj9TfsOK7tOzP/gbWJn917Q/2ocyKCPotT+VmtovzgS3P5dGgzpuLrg/+SuZ/XJluT9wcknoS6q6P7p/pKZn/bs/doIVmTNfvT8NogFAG9C+Pw4ewM1DKMA/A5SgP2/wwD8sU2/twMDBP9o6g3tnmcI/3TcM1I56wz9DaIi7X2TEP7ZB6GD/VsU/OPMK6o5Sxj+40l39KlfHP3tJjEnrZMg/yMBQDOJ7yT9j0JmZG5zKP2GHWOSdxcs/rCVsCmj4zD+U9TvlcTTOP/cQqKCrec8/mUsGrf5j0D9Vho9kow/RPyQXOXqvv9E/Aja0+Ql00j83zadflSzTP7JCpIov6dM/rjY9tbGp1D/9dfJ58G3VP3IydeG7NdY/DkK1e98A1z+BG/yDIs/XP5EkMRBIoNg/43s1Sw902T+/rRW6M0raP+banottIts/iP6z8XH82z8Jg5CD89fcPzOM+KeitN0//5UuBi6S3j92fWL8QnDfPytrGA1HJ+A/MsDZzl2W4D8TO8v4OwXhP2YgTxW4c+E/ikOIQanh4T+wWz1p507iP4Y7M4BLu+I/NlRTuK8m4z9a0QS075DjP71JMrTo+eM/W+CLwXlh5D+zG63Qg8fkPw0F5uDpK+U/gqR/FZGO5T9oB2zJYO/lP/kYaZ1CTuY/+iyzgCKr5j9PxHe07gXnP0x0SsqXXuc/BrXsnRC15z+ZisVKTgnoPxFybx1IW+g/IrvJgfeq6D8Xnf7tV/joPwEJ8cpmQ+k/s7KEWiOM6T9eRTCcjtLpPzl9RTCrFuo/0jVVOn1Y6j+Vrg5DCpjqP6Sb8RlZ1eo/8VMit3EQ6z+szaYdXUnrP8RWSj4lgOs/dUJd29S06z+MR31td+frP1koiwkZGOw/oY/qR8ZG7D986iEtjHPsP2R76RN4nuw/RviymJfH7D9Hv62G+O7sPzUMR8aoFO0/6JchTbY47T+go3wPL1vtP9+d//IgfO0/aEDdwpmb7T99Nj8lp7ntP4z66ZFW1u0/1J8HSrXx7T8=\",\"dtype\":\"float64\",\"order\":\"little\",\"shape\":[100]}},\"selected\":{\"id\":\"2914\"},\"selection_policy\":{\"id\":\"2913\"}},\"id\":\"2895\",\"type\":\"ColumnDataSource\"},{\"attributes\":{},\"id\":\"2882\",\"type\":\"WheelZoomTool\"},{\"attributes\":{},\"id\":\"2865\",\"type\":\"DataRange1d\"},{\"attributes\":{},\"id\":\"2913\",\"type\":\"UnionRenderers\"},{\"attributes\":{},\"id\":\"2881\",\"type\":\"PanTool\"},{\"attributes\":{\"source\":{\"id\":\"2900\"}},\"id\":\"2904\",\"type\":\"CDSView\"},{\"attributes\":{},\"id\":\"2914\",\"type\":\"Selection\"},{\"attributes\":{\"overlay\":{\"id\":\"2887\"}},\"id\":\"2883\",\"type\":\"BoxZoomTool\"},{\"attributes\":{\"axis_label\":\"x\",\"formatter\":{\"id\":\"2911\"},\"major_label_policy\":{\"id\":\"2909\"},\"ticker\":{\"id\":\"2874\"}},\"id\":\"2873\",\"type\":\"LinearAxis\"},{\"attributes\":{\"line_color\":\"#1f77b4\",\"x\":{\"field\":\"x\"},\"y\":{\"field\":\"y\"}},\"id\":\"2896\",\"type\":\"Line\"},{\"attributes\":{},\"id\":\"2884\",\"type\":\"SaveTool\"},{\"attributes\":{\"fill_color\":{\"value\":\"red\"},\"line_color\":{\"value\":\"red\"},\"x\":{\"field\":\"x\"},\"y\":{\"field\":\"y\"}},\"id\":\"2901\",\"type\":\"Scatter\"},{\"attributes\":{},\"id\":\"2885\",\"type\":\"ResetTool\"},{\"attributes\":{\"source\":{\"id\":\"2895\"}},\"id\":\"2899\",\"type\":\"CDSView\"},{\"attributes\":{\"line_alpha\":0.1,\"line_color\":\"#1f77b4\",\"x\":{\"field\":\"x\"},\"y\":{\"field\":\"y\"}},\"id\":\"2897\",\"type\":\"Line\"},{\"attributes\":{\"fill_alpha\":{\"value\":0.1},\"fill_color\":{\"value\":\"red\"},\"line_alpha\":{\"value\":0.1},\"line_color\":{\"value\":\"red\"},\"x\":{\"field\":\"x\"},\"y\":{\"field\":\"y\"}},\"id\":\"2902\",\"type\":\"Scatter\"},{\"attributes\":{\"text\":\"Predicted Probability vs Observed\"},\"id\":\"2863\",\"type\":\"Title\"},{\"attributes\":{\"data\":{\"x\":[-3,-2,-1,0,1,2,3],\"y\":[0.1,0.18,0.38,0.5,0.69,0.78,0.86]},\"selected\":{\"id\":\"2916\"},\"selection_policy\":{\"id\":\"2915\"}},\"id\":\"2900\",\"type\":\"ColumnDataSource\"},{\"attributes\":{\"data_source\":{\"id\":\"2900\"},\"glyph\":{\"id\":\"2901\"},\"hover_glyph\":null,\"muted_glyph\":null,\"nonselection_glyph\":{\"id\":\"2902\"},\"view\":{\"id\":\"2904\"}},\"id\":\"2903\",\"type\":\"GlyphRenderer\"},{\"attributes\":{\"data_source\":{\"id\":\"2895\"},\"glyph\":{\"id\":\"2896\"},\"hover_glyph\":null,\"muted_glyph\":null,\"nonselection_glyph\":{\"id\":\"2897\"},\"view\":{\"id\":\"2899\"}},\"id\":\"2898\",\"type\":\"GlyphRenderer\"},{\"attributes\":{},\"id\":\"2915\",\"type\":\"UnionRenderers\"},{\"attributes\":{},\"id\":\"2871\",\"type\":\"LinearScale\"},{\"attributes\":{\"axis\":{\"id\":\"2873\"},\"ticker\":null},\"id\":\"2876\",\"type\":\"Grid\"},{\"attributes\":{},\"id\":\"2916\",\"type\":\"Selection\"},{\"attributes\":{\"axis_label\":\"Probability\",\"formatter\":{\"id\":\"2908\"},\"major_label_policy\":{\"id\":\"2906\"},\"ticker\":{\"id\":\"2878\"}},\"id\":\"2877\",\"type\":\"LinearAxis\"},{\"attributes\":{\"bottom_units\":\"screen\",\"fill_alpha\":0.5,\"fill_color\":\"lightgrey\",\"left_units\":\"screen\",\"level\":\"overlay\",\"line_alpha\":1.0,\"line_color\":\"black\",\"line_dash\":[4,4],\"line_width\":2,\"right_units\":\"screen\",\"syncable\":false,\"top_units\":\"screen\"},\"id\":\"2887\",\"type\":\"BoxAnnotation\"},{\"attributes\":{},\"id\":\"2874\",\"type\":\"BasicTicker\"},{\"attributes\":{},\"id\":\"2867\",\"type\":\"DataRange1d\"},{\"attributes\":{},\"id\":\"2869\",\"type\":\"LinearScale\"},{\"attributes\":{},\"id\":\"2908\",\"type\":\"BasicTickFormatter\"},{\"attributes\":{\"active_multi\":null,\"tools\":[{\"id\":\"2881\"},{\"id\":\"2882\"},{\"id\":\"2883\"},{\"id\":\"2884\"},{\"id\":\"2885\"},{\"id\":\"2886\"}]},\"id\":\"2888\",\"type\":\"Toolbar\"},{\"attributes\":{},\"id\":\"2906\",\"type\":\"AllLabels\"}],\"root_ids\":[\"2862\"]},\"title\":\"Bokeh Application\",\"version\":\"2.3.2\"}};\n  var render_items = [{\"docid\":\"3dbf3a66-39ff-4e84-b0c4-a6a1831644da\",\"root_ids\":[\"2862\"],\"roots\":{\"2862\":\"cc0f4f56-e991-4439-b753-2d4ef41e64f3\"}}];\n  root.Bokeh.embed.embed_items_notebook(docs_json, render_items);\n\n  }\n  if (root.Bokeh !== undefined) {\n    embed_document(root);\n  } else {\n    var attempts = 0;\n    var timer = setInterval(function(root) {\n      if (root.Bokeh !== undefined) {\n        clearInterval(timer);\n        embed_document(root);\n      } else {\n        attempts++;\n        if (attempts > 100) {\n          clearInterval(timer);\n          console.log(\"Bokeh: ERROR: Unable to run BokehJS code because BokehJS library is missing\");\n        }\n      }\n    }, 10, root)\n  }\n})(window);",
      "application/vnd.bokehjs_exec.v0+json": ""
     },
     "metadata": {
      "application/vnd.bokehjs_exec.v0+json": {
       "id": "2862"
      }
     },
     "output_type": "display_data"
    }
   ],
   "source": [
    "g=figure(title='Predicted Probability vs Observed',toolbar_location=None)\n",
    "g.xaxis.axis_label=\"x\"\n",
    "g.yaxis.axis_label=\"Probability\"\n",
    "x=np.linspace(-4,4,100)\n",
    "g.line(x=x,y=sigma(M0[0,0]*x+M0[1,0]))\n",
    "g.scatter(x=[-3,-2,-1,0,1,2,3],y=[.1,.18,.38,.5,.69,.78,.86],color='red')\n",
    "export_png(g,filename=\"../img/LogisticFit.png\")\n",
    "show(g)"
   ]
  },
  {
   "cell_type": "code",
   "execution_count": 45,
   "metadata": {},
   "outputs": [
    {
     "data": {
      "text/html": [
       "\n",
       "\n",
       "\n",
       "\n",
       "\n",
       "\n",
       "  <div class=\"bk-root\" id=\"176e813e-e5e3-40aa-9c80-0b7c1a902f93\" data-root-id=\"4390\"></div>\n"
      ]
     },
     "metadata": {},
     "output_type": "display_data"
    },
    {
     "data": {
      "application/javascript": "(function(root) {\n  function embed_document(root) {\n    \n  var docs_json = {\"032d5372-ef23-4a71-91bb-613d8670af5d\":{\"defs\":[],\"roots\":{\"references\":[{\"attributes\":{\"children\":[[{\"id\":\"1824\"},0,0],[{\"id\":\"2862\"},0,1]]},\"id\":\"4390\",\"type\":\"GridBox\"},{\"attributes\":{},\"id\":\"1848\",\"type\":\"HelpTool\"},{\"attributes\":{\"fill_color\":{\"value\":\"#1f77b4\"},\"line_color\":{\"value\":\"#1f77b4\"},\"x\":{\"field\":\"x\"},\"y\":{\"field\":\"y\"}},\"id\":\"1858\",\"type\":\"Scatter\"},{\"attributes\":{},\"id\":\"2886\",\"type\":\"HelpTool\"},{\"attributes\":{\"data\":{\"x\":[0,1,2,3,4,5,6,7,8,9,10,11,12,13,14,15,16,17,18,19,20,21,22,23,24,25,26,27,28,29],\"y\":{\"__ndarray__\":\"aZfBr73Kd0Amj78GioR3QNPVQrVqXndAsizPTUFLd0Bkq+RfNUJ3QD5EQ5UiPndA0E9Dr1w8d0CjfMydmzt3QO/B+LJKO3dABHTEESk7d0DapSsiGzt3QHoOjlcVO3dATr3u6BI7d0AXLbLdETt3QI2YdWYRO3dA+JvjLRE7d0A8VawQETt3QLzUAwARO3dAJBWR9RA7d0DtNH7uEDt3QLbgcekQO3dAlwm55RA7d0DHIu3iEDt3QNqYzeAQO3dAtJIu3xA7d0BMtvDdEDt3QFXf/NwQO3dA1qdB3BA7d0AH2bHbEDt3QHVbQ9sQO3dA\",\"dtype\":\"float64\",\"order\":\"little\",\"shape\":[30]}},\"selected\":{\"id\":\"1871\"},\"selection_policy\":{\"id\":\"1870\"}},\"id\":\"1857\",\"type\":\"ColumnDataSource\"},{\"attributes\":{\"axis\":{\"id\":\"2877\"},\"dimension\":1,\"ticker\":null},\"id\":\"2880\",\"type\":\"Grid\"},{\"attributes\":{},\"id\":\"2909\",\"type\":\"AllLabels\"},{\"attributes\":{},\"id\":\"2878\",\"type\":\"BasicTicker\"},{\"attributes\":{},\"id\":\"2911\",\"type\":\"BasicTickFormatter\"},{\"attributes\":{\"data_source\":{\"id\":\"1857\"},\"glyph\":{\"id\":\"1858\"},\"hover_glyph\":null,\"muted_glyph\":null,\"nonselection_glyph\":{\"id\":\"1859\"},\"view\":{\"id\":\"1861\"}},\"id\":\"1860\",\"type\":\"GlyphRenderer\"},{\"attributes\":{\"data\":{\"x\":{\"__ndarray__\":\"AAAAAAAAEMAFav1KgVoPwArU+pUCtQ7AED744IMPDsAVqPUrBWoNwBoS83aGxAzAH3zwwQcfDMAk5u0MiXkLwClQ61cK1ArALrrooosuCsA0JObtDIkJwDmO4ziO4wjAPvjggw8+CMBDYt7OkJgHwEjM2xkS8wbATjbZZJNNBsBSoNavFKgFwFgK1PqVAgXAXXTRRRddBMBi3s6QmLcDwGdIzNsZEgPAbLLJJptsAsByHMdxHMcBwHaGxLydIQHAfPDBBx98AMACtX6lQK3/vwyJeTtDYv6/Fl100UUX/b8gMW9nSMz7vywFav1Kgfq/Ntlkk002+b9ArV8pUOv3v0qBWr9SoPa/VFVVVVVV9b9eKVDrVwr0v2j9SoFav/K/dNFFF1108b9+pUCtXynwvxDzdobEvO2/JJtssskm6784Q2LezpDov0zrVwrU+uW/ZJNNNtlk4794O0Ni3s7gvxjHcRzHcdy/QBdddNFF179oZ0jM2xnSvyBvZ0jM28m/AB988MEHv79Av1Kg1q+kv4C/UqDWr6Q/QB988MEHvz9Ab2dIzNvJP3BnSMzbGdI/UBdddNFF1z8gx3Ecx3HcP4A7Q2LezuA/aJNNNtlk4z9Q61cK1PrlP0BDYt7OkOg/KJtssskm6z8Y83aGxLztP4ClQK1fKfA/eNFFF1108T9s/UqBWr/yP2ApUOtXCvQ/WFVVVVVV9T9MgVq/UqD2P0StXylQ6/c/ONlkk002+T8wBWr9SoH6PyQxb2dIzPs/GF100UUX/T8QiXk7Q2L+PwS1fqVArf8/fvDBBx98AEB4hsS8nSEBQHIcx3EcxwFAbrLJJptsAkBoSMzbGRIDQGTezpCYtwNAXnTRRRddBEBaCtT6lQIFQFSg1q8UqAVATjbZZJNNBkBKzNsZEvMGQERi3s6QmAdAQPjggw8+CEA6juM4juMIQDYk5u0MiQlAMLrooosuCkAqUOtXCtQKQCbm7QyJeQtAIHzwwQcfDEAcEvN2hsQMQBao9SsFag1AED744IMPDkAM1PqVArUOQAZq/UqBWg9AAAAAAAAAEEA=\",\"dtype\":\"float64\",\"order\":\"little\",\"shape\":[100]},\"y\":{\"__ndarray__\":\"ygzb0g40sD9QLbd2AgyxP0rqkAFd7rE/Lklv8Yfbsj9TfsOK7tOzP/gbWJn917Q/2ocyKCPotT+VmtovzgS3P5dGgzpuLrg/+SuZ/XJluT9wcknoS6q6P7p/pKZn/bs/doIVmTNfvT8NogFAG9C+Pw4ewM1DKMA/A5SgP2/wwD8sU2/twMDBP9o6g3tnmcI/3TcM1I56wz9DaIi7X2TEP7ZB6GD/VsU/OPMK6o5Sxj+40l39KlfHP3tJjEnrZMg/yMBQDOJ7yT9j0JmZG5zKP2GHWOSdxcs/rCVsCmj4zD+U9TvlcTTOP/cQqKCrec8/mUsGrf5j0D9Vho9kow/RPyQXOXqvv9E/Aja0+Ql00j83zadflSzTP7JCpIov6dM/rjY9tbGp1D/9dfJ58G3VP3IydeG7NdY/DkK1e98A1z+BG/yDIs/XP5EkMRBIoNg/43s1Sw902T+/rRW6M0raP+banottIts/iP6z8XH82z8Jg5CD89fcPzOM+KeitN0//5UuBi6S3j92fWL8QnDfPytrGA1HJ+A/MsDZzl2W4D8TO8v4OwXhP2YgTxW4c+E/ikOIQanh4T+wWz1p507iP4Y7M4BLu+I/NlRTuK8m4z9a0QS075DjP71JMrTo+eM/W+CLwXlh5D+zG63Qg8fkPw0F5uDpK+U/gqR/FZGO5T9oB2zJYO/lP/kYaZ1CTuY/+iyzgCKr5j9PxHe07gXnP0x0SsqXXuc/BrXsnRC15z+ZisVKTgnoPxFybx1IW+g/IrvJgfeq6D8Xnf7tV/joPwEJ8cpmQ+k/s7KEWiOM6T9eRTCcjtLpPzl9RTCrFuo/0jVVOn1Y6j+Vrg5DCpjqP6Sb8RlZ1eo/8VMit3EQ6z+szaYdXUnrP8RWSj4lgOs/dUJd29S06z+MR31td+frP1koiwkZGOw/oY/qR8ZG7D986iEtjHPsP2R76RN4nuw/RviymJfH7D9Hv62G+O7sPzUMR8aoFO0/6JchTbY47T+go3wPL1vtP9+d//IgfO0/aEDdwpmb7T99Nj8lp7ntP4z66ZFW1u0/1J8HSrXx7T8=\",\"dtype\":\"float64\",\"order\":\"little\",\"shape\":[100]}},\"selected\":{\"id\":\"2914\"},\"selection_policy\":{\"id\":\"2913\"}},\"id\":\"2895\",\"type\":\"ColumnDataSource\"},{\"attributes\":{},\"id\":\"2882\",\"type\":\"WheelZoomTool\"},{\"attributes\":{},\"id\":\"2865\",\"type\":\"DataRange1d\"},{\"attributes\":{\"source\":{\"id\":\"1857\"}},\"id\":\"1861\",\"type\":\"CDSView\"},{\"attributes\":{},\"id\":\"2881\",\"type\":\"PanTool\"},{\"attributes\":{},\"id\":\"1840\",\"type\":\"BasicTicker\"},{\"attributes\":{\"source\":{\"id\":\"2900\"}},\"id\":\"2904\",\"type\":\"CDSView\"},{\"attributes\":{\"overlay\":{\"id\":\"2887\"}},\"id\":\"2883\",\"type\":\"BoxZoomTool\"},{\"attributes\":{\"axis_label\":\"(negative) Log Likelihood\",\"formatter\":{\"id\":\"1865\"},\"major_label_policy\":{\"id\":\"1863\"},\"ticker\":{\"id\":\"1840\"}},\"id\":\"1839\",\"type\":\"LinearAxis\"},{\"attributes\":{\"axis_label\":\"x\",\"formatter\":{\"id\":\"2911\"},\"major_label_policy\":{\"id\":\"2909\"},\"ticker\":{\"id\":\"2874\"}},\"id\":\"2873\",\"type\":\"LinearAxis\"},{\"attributes\":{\"fill_alpha\":{\"value\":0.1},\"fill_color\":{\"value\":\"#1f77b4\"},\"line_alpha\":{\"value\":0.1},\"line_color\":{\"value\":\"#1f77b4\"},\"x\":{\"field\":\"x\"},\"y\":{\"field\":\"y\"}},\"id\":\"1859\",\"type\":\"Scatter\"},{\"attributes\":{},\"id\":\"2884\",\"type\":\"SaveTool\"},{\"attributes\":{\"line_color\":\"#1f77b4\",\"x\":{\"field\":\"x\"},\"y\":{\"field\":\"y\"}},\"id\":\"2896\",\"type\":\"Line\"},{\"attributes\":{},\"id\":\"2885\",\"type\":\"ResetTool\"},{\"attributes\":{\"fill_color\":{\"value\":\"red\"},\"line_color\":{\"value\":\"red\"},\"x\":{\"field\":\"x\"},\"y\":{\"field\":\"y\"}},\"id\":\"2901\",\"type\":\"Scatter\"},{\"attributes\":{\"source\":{\"id\":\"2895\"}},\"id\":\"2899\",\"type\":\"CDSView\"},{\"attributes\":{},\"id\":\"1833\",\"type\":\"LinearScale\"},{\"attributes\":{\"line_alpha\":0.1,\"line_color\":\"#1f77b4\",\"x\":{\"field\":\"x\"},\"y\":{\"field\":\"y\"}},\"id\":\"2897\",\"type\":\"Line\"},{\"attributes\":{},\"id\":\"1846\",\"type\":\"SaveTool\"},{\"attributes\":{\"fill_alpha\":{\"value\":0.1},\"fill_color\":{\"value\":\"red\"},\"line_alpha\":{\"value\":0.1},\"line_color\":{\"value\":\"red\"},\"x\":{\"field\":\"x\"},\"y\":{\"field\":\"y\"}},\"id\":\"2902\",\"type\":\"Scatter\"},{\"attributes\":{},\"id\":\"1863\",\"type\":\"AllLabels\"},{\"attributes\":{\"axis\":{\"id\":\"1835\"},\"ticker\":null},\"id\":\"1838\",\"type\":\"Grid\"},{\"attributes\":{\"text\":\"Predicted Probability vs Observed\"},\"id\":\"2863\",\"type\":\"Title\"},{\"attributes\":{\"data\":{\"x\":[-3,-2,-1,0,1,2,3],\"y\":[0.1,0.18,0.38,0.5,0.69,0.78,0.86]},\"selected\":{\"id\":\"2916\"},\"selection_policy\":{\"id\":\"2915\"}},\"id\":\"2900\",\"type\":\"ColumnDataSource\"},{\"attributes\":{\"bottom_units\":\"screen\",\"fill_alpha\":0.5,\"fill_color\":\"lightgrey\",\"left_units\":\"screen\",\"level\":\"overlay\",\"line_alpha\":1.0,\"line_color\":\"black\",\"line_dash\":[4,4],\"line_width\":2,\"right_units\":\"screen\",\"syncable\":false,\"top_units\":\"screen\"},\"id\":\"1849\",\"type\":\"BoxAnnotation\"},{\"attributes\":{\"data_source\":{\"id\":\"2900\"},\"glyph\":{\"id\":\"2901\"},\"hover_glyph\":null,\"muted_glyph\":null,\"nonselection_glyph\":{\"id\":\"2902\"},\"view\":{\"id\":\"2904\"}},\"id\":\"2903\",\"type\":\"GlyphRenderer\"},{\"attributes\":{},\"id\":\"1844\",\"type\":\"WheelZoomTool\"},{\"attributes\":{\"data_source\":{\"id\":\"2895\"},\"glyph\":{\"id\":\"2896\"},\"hover_glyph\":null,\"muted_glyph\":null,\"nonselection_glyph\":{\"id\":\"2897\"},\"view\":{\"id\":\"2899\"}},\"id\":\"2898\",\"type\":\"GlyphRenderer\"},{\"attributes\":{},\"id\":\"1836\",\"type\":\"BasicTicker\"},{\"attributes\":{\"active_multi\":null,\"tools\":[{\"id\":\"1843\"},{\"id\":\"1844\"},{\"id\":\"1845\"},{\"id\":\"1846\"},{\"id\":\"1847\"},{\"id\":\"1848\"}]},\"id\":\"1850\",\"type\":\"Toolbar\"},{\"attributes\":{},\"id\":\"2915\",\"type\":\"UnionRenderers\"},{\"attributes\":{},\"id\":\"1827\",\"type\":\"DataRange1d\"},{\"attributes\":{},\"id\":\"2913\",\"type\":\"UnionRenderers\"},{\"attributes\":{},\"id\":\"2871\",\"type\":\"LinearScale\"},{\"attributes\":{},\"id\":\"1865\",\"type\":\"BasicTickFormatter\"},{\"attributes\":{\"axis\":{\"id\":\"2873\"},\"ticker\":null},\"id\":\"2876\",\"type\":\"Grid\"},{\"attributes\":{},\"id\":\"2916\",\"type\":\"Selection\"},{\"attributes\":{\"axis_label\":\"Probability\",\"formatter\":{\"id\":\"2908\"},\"major_label_policy\":{\"id\":\"2906\"},\"ticker\":{\"id\":\"2878\"}},\"id\":\"2877\",\"type\":\"LinearAxis\"},{\"attributes\":{},\"id\":\"2906\",\"type\":\"AllLabels\"},{\"attributes\":{\"text\":\"(negative) Log Likelihood vs Iterations\"},\"id\":\"1825\",\"type\":\"Title\"},{\"attributes\":{},\"id\":\"2914\",\"type\":\"Selection\"},{\"attributes\":{\"bottom_units\":\"screen\",\"fill_alpha\":0.5,\"fill_color\":\"lightgrey\",\"left_units\":\"screen\",\"level\":\"overlay\",\"line_alpha\":1.0,\"line_color\":\"black\",\"line_dash\":[4,4],\"line_width\":2,\"right_units\":\"screen\",\"syncable\":false,\"top_units\":\"screen\"},\"id\":\"2887\",\"type\":\"BoxAnnotation\"},{\"attributes\":{\"below\":[{\"id\":\"1835\"}],\"center\":[{\"id\":\"1838\"},{\"id\":\"1842\"}],\"left\":[{\"id\":\"1839\"}],\"renderers\":[{\"id\":\"1860\"}],\"title\":{\"id\":\"1825\"},\"toolbar\":{\"id\":\"1850\"},\"toolbar_location\":null,\"x_range\":{\"id\":\"1827\"},\"x_scale\":{\"id\":\"1831\"},\"y_range\":{\"id\":\"1829\"},\"y_scale\":{\"id\":\"1833\"}},\"id\":\"1824\",\"subtype\":\"Figure\",\"type\":\"Plot\"},{\"attributes\":{},\"id\":\"1866\",\"type\":\"AllLabels\"},{\"attributes\":{},\"id\":\"1870\",\"type\":\"UnionRenderers\"},{\"attributes\":{},\"id\":\"1868\",\"type\":\"BasicTickFormatter\"},{\"attributes\":{},\"id\":\"2874\",\"type\":\"BasicTicker\"},{\"attributes\":{},\"id\":\"2867\",\"type\":\"DataRange1d\"},{\"attributes\":{},\"id\":\"1847\",\"type\":\"ResetTool\"},{\"attributes\":{},\"id\":\"1871\",\"type\":\"Selection\"},{\"attributes\":{},\"id\":\"1843\",\"type\":\"PanTool\"},{\"attributes\":{},\"id\":\"2869\",\"type\":\"LinearScale\"},{\"attributes\":{},\"id\":\"2908\",\"type\":\"BasicTickFormatter\"},{\"attributes\":{\"axis_label\":\"Iteration\",\"formatter\":{\"id\":\"1868\"},\"major_label_policy\":{\"id\":\"1866\"},\"ticker\":{\"id\":\"1836\"}},\"id\":\"1835\",\"type\":\"LinearAxis\"},{\"attributes\":{},\"id\":\"1831\",\"type\":\"LinearScale\"},{\"attributes\":{\"axis\":{\"id\":\"1839\"},\"dimension\":1,\"ticker\":null},\"id\":\"1842\",\"type\":\"Grid\"},{\"attributes\":{\"active_multi\":null,\"tools\":[{\"id\":\"2881\"},{\"id\":\"2882\"},{\"id\":\"2883\"},{\"id\":\"2884\"},{\"id\":\"2885\"},{\"id\":\"2886\"}]},\"id\":\"2888\",\"type\":\"Toolbar\"},{\"attributes\":{\"overlay\":{\"id\":\"1849\"}},\"id\":\"1845\",\"type\":\"BoxZoomTool\"},{\"attributes\":{},\"id\":\"1829\",\"type\":\"DataRange1d\"},{\"attributes\":{\"below\":[{\"id\":\"2873\"}],\"center\":[{\"id\":\"2876\"},{\"id\":\"2880\"}],\"left\":[{\"id\":\"2877\"}],\"renderers\":[{\"id\":\"2898\"},{\"id\":\"2903\"}],\"title\":{\"id\":\"2863\"},\"toolbar\":{\"id\":\"2888\"},\"toolbar_location\":null,\"x_range\":{\"id\":\"2865\"},\"x_scale\":{\"id\":\"2869\"},\"y_range\":{\"id\":\"2867\"},\"y_scale\":{\"id\":\"2871\"}},\"id\":\"2862\",\"subtype\":\"Figure\",\"type\":\"Plot\"}],\"root_ids\":[\"4390\"]},\"title\":\"Bokeh Application\",\"version\":\"2.3.2\"}};\n  var render_items = [{\"docid\":\"032d5372-ef23-4a71-91bb-613d8670af5d\",\"root_ids\":[\"4390\"],\"roots\":{\"4390\":\"176e813e-e5e3-40aa-9c80-0b7c1a902f93\"}}];\n  root.Bokeh.embed.embed_items_notebook(docs_json, render_items);\n\n  }\n  if (root.Bokeh !== undefined) {\n    embed_document(root);\n  } else {\n    var attempts = 0;\n    var timer = setInterval(function(root) {\n      if (root.Bokeh !== undefined) {\n        clearInterval(timer);\n        embed_document(root);\n      } else {\n        attempts++;\n        if (attempts > 100) {\n          clearInterval(timer);\n          console.log(\"Bokeh: ERROR: Unable to run BokehJS code because BokehJS library is missing\");\n        }\n      }\n    }, 10, root)\n  }\n})(window);",
      "application/vnd.bokehjs_exec.v0+json": ""
     },
     "metadata": {
      "application/vnd.bokehjs_exec.v0+json": {
       "id": "4390"
      }
     },
     "output_type": "display_data"
    }
   ],
   "source": [
    "h=gridplot([[f,g]],toolbar_location=None)\n",
    "export_png(h,filename=\"../img/LogisticLogLikelihoodAndFit.png\")\n",
    "show(h)"
   ]
  },
  {
   "cell_type": "code",
   "execution_count": null,
   "metadata": {},
   "outputs": [],
   "source": []
  }
 ],
 "metadata": {
  "interpreter": {
   "hash": "4de1eb631fc111013b2f441024ec0dcd7a567c3d6a338a26d91722f9a102f561"
  },
  "kernelspec": {
   "display_name": "Python 3.8.8 ('base')",
   "language": "python",
   "name": "python3"
  },
  "language_info": {
   "codemirror_mode": {
    "name": "ipython",
    "version": 3
   },
   "file_extension": ".py",
   "mimetype": "text/x-python",
   "name": "python",
   "nbconvert_exporter": "python",
   "pygments_lexer": "ipython3",
   "version": "3.8.8"
  },
  "orig_nbformat": 4
 },
 "nbformat": 4,
 "nbformat_minor": 2
}

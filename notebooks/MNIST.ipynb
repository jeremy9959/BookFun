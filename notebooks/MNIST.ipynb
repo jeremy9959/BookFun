{
 "cells": [
  {
   "cell_type": "code",
   "execution_count": 13,
   "metadata": {},
   "outputs": [],
   "source": [
    "import numpy as np\n",
    "from matplotlib import pyplot as plt \n",
    "\n",
    "D = np.genfromtxt('notebooks/data/MNIST/MNIST_kaggle_train.csv',delimiter=',',skip_header=1)\n",
    "\n",
    "labels = D[:,0]\n",
    "data = D[:,1:]\n",
    "\n",
    "f = plt.figure()\n",
    "f.set_size_inches(30,30)\n",
    "for i in range(1):\n",
    "    ax1=f.add_subplot(1,1,i+1)\n",
    "    ax1.xaxis.set_ticks(np.arange(0,28))\n",
    "    ax1.yaxis.set_ticks(np.arange(0,28))\n",
    "    ax1.grid(visible=True)\n",
    "    ax1.imshow(255-data[i,:].reshape((28,28)),cmap='gray',vmin=0,vmax=255)\n"
   ]
  }
 ],
 "metadata": {
  "interpreter": {
   "hash": "4de1eb631fc111013b2f441024ec0dcd7a567c3d6a338a26d91722f9a102f561"
  },
  "kernelspec": {
   "display_name": "Python 3.8.8 ('base')",
   "language": "python",
   "name": "python3"
  },
  "language_info": {
   "codemirror_mode": {
    "name": "ipython",
    "version": 3
   },
   "file_extension": ".py",
   "mimetype": "text/x-python",
   "name": "python",
   "nbconvert_exporter": "python",
   "pygments_lexer": "ipython3",
   "version": "3.8.8"
  },
  "orig_nbformat": 4
 },
 "nbformat": 4,
 "nbformat_minor": 2
}

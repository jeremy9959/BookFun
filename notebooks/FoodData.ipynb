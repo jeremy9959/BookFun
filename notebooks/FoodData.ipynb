{
 "cells": [
  {
   "cell_type": "code",
   "execution_count": 8,
   "metadata": {},
   "outputs": [
    {
     "data": {
      "text/html": [
       "\n",
       "    <div class=\"bk-root\">\n",
       "        <a href=\"https://bokeh.org\" target=\"_blank\" class=\"bk-logo bk-logo-small bk-logo-notebook\"></a>\n",
       "        <span id=\"1004\">Loading BokehJS ...</span>\n",
       "    </div>"
      ]
     },
     "metadata": {},
     "output_type": "display_data"
    },
    {
     "data": {
      "application/javascript": "\n(function(root) {\n  function now() {\n    return new Date();\n  }\n\n  const force = true;\n\n  if (typeof root._bokeh_onload_callbacks === \"undefined\" || force === true) {\n    root._bokeh_onload_callbacks = [];\n    root._bokeh_is_loading = undefined;\n  }\n\n  const JS_MIME_TYPE = 'application/javascript';\n  const HTML_MIME_TYPE = 'text/html';\n  const EXEC_MIME_TYPE = 'application/vnd.bokehjs_exec.v0+json';\n  const CLASS_NAME = 'output_bokeh rendered_html';\n\n  /**\n   * Render data to the DOM node\n   */\n  function render(props, node) {\n    const script = document.createElement(\"script\");\n    node.appendChild(script);\n  }\n\n  /**\n   * Handle when an output is cleared or removed\n   */\n  function handleClearOutput(event, handle) {\n    const cell = handle.cell;\n\n    const id = cell.output_area._bokeh_element_id;\n    const server_id = cell.output_area._bokeh_server_id;\n    // Clean up Bokeh references\n    if (id != null && id in Bokeh.index) {\n      Bokeh.index[id].model.document.clear();\n      delete Bokeh.index[id];\n    }\n\n    if (server_id !== undefined) {\n      // Clean up Bokeh references\n      const cmd_clean = \"from bokeh.io.state import curstate; print(curstate().uuid_to_server['\" + server_id + \"'].get_sessions()[0].document.roots[0]._id)\";\n      cell.notebook.kernel.execute(cmd_clean, {\n        iopub: {\n          output: function(msg) {\n            const id = msg.content.text.trim();\n            if (id in Bokeh.index) {\n              Bokeh.index[id].model.document.clear();\n              delete Bokeh.index[id];\n            }\n          }\n        }\n      });\n      // Destroy server and session\n      const cmd_destroy = \"import bokeh.io.notebook as ion; ion.destroy_server('\" + server_id + \"')\";\n      cell.notebook.kernel.execute(cmd_destroy);\n    }\n  }\n\n  /**\n   * Handle when a new output is added\n   */\n  function handleAddOutput(event, handle) {\n    const output_area = handle.output_area;\n    const output = handle.output;\n\n    // limit handleAddOutput to display_data with EXEC_MIME_TYPE content only\n    if ((output.output_type != \"display_data\") || (!Object.prototype.hasOwnProperty.call(output.data, EXEC_MIME_TYPE))) {\n      return\n    }\n\n    const toinsert = output_area.element.find(\".\" + CLASS_NAME.split(' ')[0]);\n\n    if (output.metadata[EXEC_MIME_TYPE][\"id\"] !== undefined) {\n      toinsert[toinsert.length - 1].firstChild.textContent = output.data[JS_MIME_TYPE];\n      // store reference to embed id on output_area\n      output_area._bokeh_element_id = output.metadata[EXEC_MIME_TYPE][\"id\"];\n    }\n    if (output.metadata[EXEC_MIME_TYPE][\"server_id\"] !== undefined) {\n      const bk_div = document.createElement(\"div\");\n      bk_div.innerHTML = output.data[HTML_MIME_TYPE];\n      const script_attrs = bk_div.children[0].attributes;\n      for (let i = 0; i < script_attrs.length; i++) {\n        toinsert[toinsert.length - 1].firstChild.setAttribute(script_attrs[i].name, script_attrs[i].value);\n        toinsert[toinsert.length - 1].firstChild.textContent = bk_div.children[0].textContent\n      }\n      // store reference to server id on output_area\n      output_area._bokeh_server_id = output.metadata[EXEC_MIME_TYPE][\"server_id\"];\n    }\n  }\n\n  function register_renderer(events, OutputArea) {\n\n    function append_mime(data, metadata, element) {\n      // create a DOM node to render to\n      const toinsert = this.create_output_subarea(\n        metadata,\n        CLASS_NAME,\n        EXEC_MIME_TYPE\n      );\n      this.keyboard_manager.register_events(toinsert);\n      // Render to node\n      const props = {data: data, metadata: metadata[EXEC_MIME_TYPE]};\n      render(props, toinsert[toinsert.length - 1]);\n      element.append(toinsert);\n      return toinsert\n    }\n\n    /* Handle when an output is cleared or removed */\n    events.on('clear_output.CodeCell', handleClearOutput);\n    events.on('delete.Cell', handleClearOutput);\n\n    /* Handle when a new output is added */\n    events.on('output_added.OutputArea', handleAddOutput);\n\n    /**\n     * Register the mime type and append_mime function with output_area\n     */\n    OutputArea.prototype.register_mime_type(EXEC_MIME_TYPE, append_mime, {\n      /* Is output safe? */\n      safe: true,\n      /* Index of renderer in `output_area.display_order` */\n      index: 0\n    });\n  }\n\n  // register the mime type if in Jupyter Notebook environment and previously unregistered\n  if (root.Jupyter !== undefined) {\n    const events = require('base/js/events');\n    const OutputArea = require('notebook/js/outputarea').OutputArea;\n\n    if (OutputArea.prototype.mime_types().indexOf(EXEC_MIME_TYPE) == -1) {\n      register_renderer(events, OutputArea);\n    }\n  }\n\n  \n  if (typeof (root._bokeh_timeout) === \"undefined\" || force === true) {\n    root._bokeh_timeout = Date.now() + 5000;\n    root._bokeh_failed_load = false;\n  }\n\n  const NB_LOAD_WARNING = {'data': {'text/html':\n     \"<div style='background-color: #fdd'>\\n\"+\n     \"<p>\\n\"+\n     \"BokehJS does not appear to have successfully loaded. If loading BokehJS from CDN, this \\n\"+\n     \"may be due to a slow or bad network connection. Possible fixes:\\n\"+\n     \"</p>\\n\"+\n     \"<ul>\\n\"+\n     \"<li>re-rerun `output_notebook()` to attempt to load from CDN again, or</li>\\n\"+\n     \"<li>use INLINE resources instead, as so:</li>\\n\"+\n     \"</ul>\\n\"+\n     \"<code>\\n\"+\n     \"from bokeh.resources import INLINE\\n\"+\n     \"output_notebook(resources=INLINE)\\n\"+\n     \"</code>\\n\"+\n     \"</div>\"}};\n\n  function display_loaded() {\n    const el = document.getElementById(\"1004\");\n    if (el != null) {\n      el.textContent = \"BokehJS is loading...\";\n    }\n    if (root.Bokeh !== undefined) {\n      if (el != null) {\n        el.textContent = \"BokehJS \" + root.Bokeh.version + \" successfully loaded.\";\n      }\n    } else if (Date.now() < root._bokeh_timeout) {\n      setTimeout(display_loaded, 100)\n    }\n  }\n\n\n  function run_callbacks() {\n    try {\n      root._bokeh_onload_callbacks.forEach(function(callback) {\n        if (callback != null)\n          callback();\n      });\n    } finally {\n      delete root._bokeh_onload_callbacks\n    }\n    console.debug(\"Bokeh: all callbacks have finished\");\n  }\n\n  function load_libs(css_urls, js_urls, callback) {\n    if (css_urls == null) css_urls = [];\n    if (js_urls == null) js_urls = [];\n\n    root._bokeh_onload_callbacks.push(callback);\n    if (root._bokeh_is_loading > 0) {\n      console.debug(\"Bokeh: BokehJS is being loaded, scheduling callback at\", now());\n      return null;\n    }\n    if (js_urls == null || js_urls.length === 0) {\n      run_callbacks();\n      return null;\n    }\n    console.debug(\"Bokeh: BokehJS not loaded, scheduling load and callback at\", now());\n    root._bokeh_is_loading = css_urls.length + js_urls.length;\n\n    function on_load() {\n      root._bokeh_is_loading--;\n      if (root._bokeh_is_loading === 0) {\n        console.debug(\"Bokeh: all BokehJS libraries/stylesheets loaded\");\n        run_callbacks()\n      }\n    }\n\n    function on_error(url) {\n      console.error(\"failed to load \" + url);\n    }\n\n    for (let i = 0; i < css_urls.length; i++) {\n      const url = css_urls[i];\n      const element = document.createElement(\"link\");\n      element.onload = on_load;\n      element.onerror = on_error.bind(null, url);\n      element.rel = \"stylesheet\";\n      element.type = \"text/css\";\n      element.href = url;\n      console.debug(\"Bokeh: injecting link tag for BokehJS stylesheet: \", url);\n      document.body.appendChild(element);\n    }\n\n    for (let i = 0; i < js_urls.length; i++) {\n      const url = js_urls[i];\n      const element = document.createElement('script');\n      element.onload = on_load;\n      element.onerror = on_error.bind(null, url);\n      element.async = false;\n      element.src = url;\n      console.debug(\"Bokeh: injecting script tag for BokehJS library: \", url);\n      document.head.appendChild(element);\n    }\n  };\n\n  function inject_raw_css(css) {\n    const element = document.createElement(\"style\");\n    element.appendChild(document.createTextNode(css));\n    document.body.appendChild(element);\n  }\n\n  \n  const js_urls = [\"https://cdn.bokeh.org/bokeh/release/bokeh-2.4.1.min.js\", \"https://cdn.bokeh.org/bokeh/release/bokeh-gl-2.4.1.min.js\", \"https://cdn.bokeh.org/bokeh/release/bokeh-widgets-2.4.1.min.js\", \"https://cdn.bokeh.org/bokeh/release/bokeh-tables-2.4.1.min.js\", \"https://cdn.bokeh.org/bokeh/release/bokeh-mathjax-2.4.1.min.js\"];\n  const css_urls = [];\n  \n\n  const inline_js = [\n    function(Bokeh) {\n      Bokeh.set_log_level(\"info\");\n    },\n    function(Bokeh) {\n    \n    \n    }\n  ];\n\n  function run_inline_js() {\n    \n    if (root.Bokeh !== undefined || force === true) {\n      \n    for (let i = 0; i < inline_js.length; i++) {\n      inline_js[i].call(root, root.Bokeh);\n    }\n    if (force === true) {\n        display_loaded();\n      }} else if (Date.now() < root._bokeh_timeout) {\n      setTimeout(run_inline_js, 100);\n    } else if (!root._bokeh_failed_load) {\n      console.log(\"Bokeh: BokehJS failed to load within specified timeout.\");\n      root._bokeh_failed_load = true;\n    } else if (force !== true) {\n      const cell = $(document.getElementById(\"1004\")).parents('.cell').data().cell;\n      cell.output_area.append_execute_result(NB_LOAD_WARNING)\n    }\n\n  }\n\n  if (root._bokeh_is_loading === 0) {\n    console.debug(\"Bokeh: BokehJS loaded, going straight to plotting\");\n    run_inline_js();\n  } else {\n    load_libs(css_urls, js_urls, function() {\n      console.debug(\"Bokeh: BokehJS plotting callback run at\", now());\n      run_inline_js();\n    });\n  }\n}(window));",
      "application/vnd.bokehjs_load.v0+json": ""
     },
     "metadata": {},
     "output_type": "display_data"
    }
   ],
   "source": [
    "import numpy as np\n",
    "import pandas as pd\n",
    "from bokeh.plotting import figure\n",
    "from bokeh.io import show, output_notebook, export_png\n",
    "from sklearn.linear_model import LogisticRegression\n",
    "output_notebook()"
   ]
  },
  {
   "cell_type": "code",
   "execution_count": 6,
   "metadata": {},
   "outputs": [],
   "source": [
    "data = pd.read_csv('notebooks/data/FoodData/ifood_df.csv')"
   ]
  },
  {
   "cell_type": "code",
   "execution_count": 7,
   "metadata": {},
   "outputs": [
    {
     "data": {
      "text/html": [
       "<div>\n",
       "<style scoped>\n",
       "    .dataframe tbody tr th:only-of-type {\n",
       "        vertical-align: middle;\n",
       "    }\n",
       "\n",
       "    .dataframe tbody tr th {\n",
       "        vertical-align: top;\n",
       "    }\n",
       "\n",
       "    .dataframe thead th {\n",
       "        text-align: right;\n",
       "    }\n",
       "</style>\n",
       "<table border=\"1\" class=\"dataframe\">\n",
       "  <thead>\n",
       "    <tr style=\"text-align: right;\">\n",
       "      <th></th>\n",
       "      <th>Income</th>\n",
       "      <th>Kidhome</th>\n",
       "      <th>Teenhome</th>\n",
       "      <th>Recency</th>\n",
       "      <th>MntWines</th>\n",
       "      <th>MntFruits</th>\n",
       "      <th>MntMeatProducts</th>\n",
       "      <th>MntFishProducts</th>\n",
       "      <th>MntSweetProducts</th>\n",
       "      <th>MntGoldProds</th>\n",
       "      <th>...</th>\n",
       "      <th>marital_Together</th>\n",
       "      <th>marital_Widow</th>\n",
       "      <th>education_2n Cycle</th>\n",
       "      <th>education_Basic</th>\n",
       "      <th>education_Graduation</th>\n",
       "      <th>education_Master</th>\n",
       "      <th>education_PhD</th>\n",
       "      <th>MntTotal</th>\n",
       "      <th>MntRegularProds</th>\n",
       "      <th>AcceptedCmpOverall</th>\n",
       "    </tr>\n",
       "  </thead>\n",
       "  <tbody>\n",
       "    <tr>\n",
       "      <th>0</th>\n",
       "      <td>58138.0</td>\n",
       "      <td>0</td>\n",
       "      <td>0</td>\n",
       "      <td>58</td>\n",
       "      <td>635</td>\n",
       "      <td>88</td>\n",
       "      <td>546</td>\n",
       "      <td>172</td>\n",
       "      <td>88</td>\n",
       "      <td>88</td>\n",
       "      <td>...</td>\n",
       "      <td>0</td>\n",
       "      <td>0</td>\n",
       "      <td>0</td>\n",
       "      <td>0</td>\n",
       "      <td>1</td>\n",
       "      <td>0</td>\n",
       "      <td>0</td>\n",
       "      <td>1529</td>\n",
       "      <td>1441</td>\n",
       "      <td>0</td>\n",
       "    </tr>\n",
       "    <tr>\n",
       "      <th>1</th>\n",
       "      <td>46344.0</td>\n",
       "      <td>1</td>\n",
       "      <td>1</td>\n",
       "      <td>38</td>\n",
       "      <td>11</td>\n",
       "      <td>1</td>\n",
       "      <td>6</td>\n",
       "      <td>2</td>\n",
       "      <td>1</td>\n",
       "      <td>6</td>\n",
       "      <td>...</td>\n",
       "      <td>0</td>\n",
       "      <td>0</td>\n",
       "      <td>0</td>\n",
       "      <td>0</td>\n",
       "      <td>1</td>\n",
       "      <td>0</td>\n",
       "      <td>0</td>\n",
       "      <td>21</td>\n",
       "      <td>15</td>\n",
       "      <td>0</td>\n",
       "    </tr>\n",
       "    <tr>\n",
       "      <th>2</th>\n",
       "      <td>71613.0</td>\n",
       "      <td>0</td>\n",
       "      <td>0</td>\n",
       "      <td>26</td>\n",
       "      <td>426</td>\n",
       "      <td>49</td>\n",
       "      <td>127</td>\n",
       "      <td>111</td>\n",
       "      <td>21</td>\n",
       "      <td>42</td>\n",
       "      <td>...</td>\n",
       "      <td>1</td>\n",
       "      <td>0</td>\n",
       "      <td>0</td>\n",
       "      <td>0</td>\n",
       "      <td>1</td>\n",
       "      <td>0</td>\n",
       "      <td>0</td>\n",
       "      <td>734</td>\n",
       "      <td>692</td>\n",
       "      <td>0</td>\n",
       "    </tr>\n",
       "    <tr>\n",
       "      <th>3</th>\n",
       "      <td>26646.0</td>\n",
       "      <td>1</td>\n",
       "      <td>0</td>\n",
       "      <td>26</td>\n",
       "      <td>11</td>\n",
       "      <td>4</td>\n",
       "      <td>20</td>\n",
       "      <td>10</td>\n",
       "      <td>3</td>\n",
       "      <td>5</td>\n",
       "      <td>...</td>\n",
       "      <td>1</td>\n",
       "      <td>0</td>\n",
       "      <td>0</td>\n",
       "      <td>0</td>\n",
       "      <td>1</td>\n",
       "      <td>0</td>\n",
       "      <td>0</td>\n",
       "      <td>48</td>\n",
       "      <td>43</td>\n",
       "      <td>0</td>\n",
       "    </tr>\n",
       "    <tr>\n",
       "      <th>4</th>\n",
       "      <td>58293.0</td>\n",
       "      <td>1</td>\n",
       "      <td>0</td>\n",
       "      <td>94</td>\n",
       "      <td>173</td>\n",
       "      <td>43</td>\n",
       "      <td>118</td>\n",
       "      <td>46</td>\n",
       "      <td>27</td>\n",
       "      <td>15</td>\n",
       "      <td>...</td>\n",
       "      <td>0</td>\n",
       "      <td>0</td>\n",
       "      <td>0</td>\n",
       "      <td>0</td>\n",
       "      <td>0</td>\n",
       "      <td>0</td>\n",
       "      <td>1</td>\n",
       "      <td>407</td>\n",
       "      <td>392</td>\n",
       "      <td>0</td>\n",
       "    </tr>\n",
       "  </tbody>\n",
       "</table>\n",
       "<p>5 rows × 39 columns</p>\n",
       "</div>"
      ],
      "text/plain": [
       "    Income  Kidhome  Teenhome  Recency  MntWines  MntFruits  MntMeatProducts  \\\n",
       "0  58138.0        0         0       58       635         88              546   \n",
       "1  46344.0        1         1       38        11          1                6   \n",
       "2  71613.0        0         0       26       426         49              127   \n",
       "3  26646.0        1         0       26        11          4               20   \n",
       "4  58293.0        1         0       94       173         43              118   \n",
       "\n",
       "   MntFishProducts  MntSweetProducts  MntGoldProds  ...  marital_Together  \\\n",
       "0              172                88            88  ...                 0   \n",
       "1                2                 1             6  ...                 0   \n",
       "2              111                21            42  ...                 1   \n",
       "3               10                 3             5  ...                 1   \n",
       "4               46                27            15  ...                 0   \n",
       "\n",
       "   marital_Widow  education_2n Cycle  education_Basic  education_Graduation  \\\n",
       "0              0                   0                0                     1   \n",
       "1              0                   0                0                     1   \n",
       "2              0                   0                0                     1   \n",
       "3              0                   0                0                     1   \n",
       "4              0                   0                0                     0   \n",
       "\n",
       "   education_Master  education_PhD  MntTotal  MntRegularProds  \\\n",
       "0                 0              0      1529             1441   \n",
       "1                 0              0        21               15   \n",
       "2                 0              0       734              692   \n",
       "3                 0              0        48               43   \n",
       "4                 0              1       407              392   \n",
       "\n",
       "   AcceptedCmpOverall  \n",
       "0                   0  \n",
       "1                   0  \n",
       "2                   0  \n",
       "3                   0  \n",
       "4                   0  \n",
       "\n",
       "[5 rows x 39 columns]"
      ]
     },
     "execution_count": 7,
     "metadata": {},
     "output_type": "execute_result"
    }
   ],
   "source": [
    "data.head()"
   ]
  },
  {
   "cell_type": "code",
   "execution_count": 53,
   "metadata": {},
   "outputs": [],
   "source": [
    "data['Response'] = data['AcceptedCmpOverall'].map({0:0,2:1,3:1,4:1})\n"
   ]
  },
  {
   "cell_type": "code",
   "execution_count": 54,
   "metadata": {},
   "outputs": [],
   "source": [
    "\n",
    "data=data.dropna()\n",
    "x=data['MntTotal'].values\n",
    "y=data['Response'].values"
   ]
  },
  {
   "cell_type": "code",
   "execution_count": 56,
   "metadata": {},
   "outputs": [
    {
     "data": {
      "text/html": [
       "\n",
       "\n",
       "\n",
       "\n",
       "\n",
       "\n",
       "  <div class=\"bk-root\" id=\"363a0bdc-c450-4533-b011-21eb41c7343a\" data-root-id=\"1897\"></div>\n"
      ]
     },
     "metadata": {},
     "output_type": "display_data"
    },
    {
     "data": {
      "application/javascript": "(function(root) {\n  function embed_document(root) {\n    \n  const docs_json = {\"a58ccf43-f67c-4a6f-aea0-bd620d0715ba\":{\"defs\":[],\"roots\":{\"references\":[{\"attributes\":{\"below\":[{\"id\":\"1906\"}],\"center\":[{\"id\":\"1909\"},{\"id\":\"1913\"}],\"left\":[{\"id\":\"1910\"}],\"renderers\":[{\"id\":\"1932\"}],\"title\":{\"id\":\"2000\"},\"toolbar\":{\"id\":\"1921\"},\"x_range\":{\"id\":\"1898\"},\"x_scale\":{\"id\":\"1902\"},\"y_range\":{\"id\":\"1900\"},\"y_scale\":{\"id\":\"1904\"}},\"id\":\"1897\",\"subtype\":\"Figure\",\"type\":\"Plot\"},{\"attributes\":{},\"id\":\"2006\",\"type\":\"BasicTickFormatter\"},{\"attributes\":{},\"id\":\"1919\",\"type\":\"HelpTool\"},{\"attributes\":{\"coordinates\":null,\"formatter\":{\"id\":\"2006\"},\"group\":null,\"major_label_policy\":{\"id\":\"2007\"},\"ticker\":{\"id\":\"1907\"}},\"id\":\"1906\",\"type\":\"LinearAxis\"},{\"attributes\":{\"bottom_units\":\"screen\",\"coordinates\":null,\"fill_alpha\":0.5,\"fill_color\":\"lightgrey\",\"group\":null,\"left_units\":\"screen\",\"level\":\"overlay\",\"line_alpha\":1.0,\"line_color\":\"black\",\"line_dash\":[4,4],\"line_width\":2,\"right_units\":\"screen\",\"syncable\":false,\"top_units\":\"screen\"},\"id\":\"1920\",\"type\":\"BoxAnnotation\"},{\"attributes\":{\"overlay\":{\"id\":\"1920\"}},\"id\":\"1916\",\"type\":\"BoxZoomTool\"},{\"attributes\":{\"coordinates\":null,\"group\":null},\"id\":\"2000\",\"type\":\"Title\"},{\"attributes\":{},\"id\":\"1918\",\"type\":\"ResetTool\"},{\"attributes\":{},\"id\":\"1911\",\"type\":\"BasicTicker\"},{\"attributes\":{},\"id\":\"2007\",\"type\":\"AllLabels\"},{\"attributes\":{},\"id\":\"2008\",\"type\":\"UnionRenderers\"},{\"attributes\":{\"tools\":[{\"id\":\"1914\"},{\"id\":\"1915\"},{\"id\":\"1916\"},{\"id\":\"1917\"},{\"id\":\"1918\"},{\"id\":\"1919\"}]},\"id\":\"1921\",\"type\":\"Toolbar\"},{\"attributes\":{\"axis\":{\"id\":\"1910\"},\"coordinates\":null,\"dimension\":1,\"group\":null,\"ticker\":null},\"id\":\"1913\",\"type\":\"Grid\"},{\"attributes\":{\"source\":{\"id\":\"1928\"}},\"id\":\"1933\",\"type\":\"CDSView\"},{\"attributes\":{\"axis\":{\"id\":\"1906\"},\"coordinates\":null,\"group\":null,\"ticker\":null},\"id\":\"1909\",\"type\":\"Grid\"},{\"attributes\":{},\"id\":\"2009\",\"type\":\"Selection\"},{\"attributes\":{\"coordinates\":null,\"formatter\":{\"id\":\"2003\"},\"group\":null,\"major_label_policy\":{\"id\":\"2004\"},\"ticker\":{\"id\":\"1911\"}},\"id\":\"1910\",\"type\":\"LinearAxis\"},{\"attributes\":{\"coordinates\":null,\"data_source\":{\"id\":\"1928\"},\"glyph\":{\"id\":\"1929\"},\"group\":null,\"hover_glyph\":null,\"muted_glyph\":{\"id\":\"1931\"},\"nonselection_glyph\":{\"id\":\"1930\"},\"view\":{\"id\":\"1933\"}},\"id\":\"1932\",\"type\":\"GlyphRenderer\"},{\"attributes\":{\"data\":{\"x\":[1529,21,734,48,407,702,563,146,44,45,1072,296,41,1270,92,289,94,268,1729,539,345,62,216,121,26,229,259,1174,62,878,45,63,1293,46,19,19,810,72,42,1281,493,1661,69,1376,497,1053,24,475,1358,606,715,600,1046,19,11,1236,544,1489,1241,777,56,12,1872,9,148,12,56,229,702,53,338,187,28,43,36,61,399,62,50,1058,1039,1059,20,180,845,118,807,890,708,479,87,1691,457,51,30,612,70,23,41,967,387,1707,86,649,405,591,595,256,20,90,34,2057,1003,1259,838,196,828,52,18,179,119,446,338,69,945,1339,303,18,148,1174,8,1673,116,1281,60,993,69,29,41,121,87,1809,1207,43,9,184,48,892,54,33,43,37,491,1566,64,1180,69,303,24,826,1098,1203,1096,1182,35,272,61,233,1089,254,497,1144,393,16,1599,219,1092,96,1037,700,182,1153,150,394,1011,1736,17,394,19,15,1085,48,22,594,37,971,25,950,16,1610,1313,1954,1461,51,15,964,185,1118,32,310,34,15,821,268,20,255,70,865,46,1489,54,218,44,89,763,795,803,777,85,394,289,395,34,50,856,724,1450,339,123,55,17,1334,24,89,787,52,700,90,221,41,92,226,36,35,1494,218,31,75,351,22,603,21,19,1234,589,1157,56,35,38,149,19,65,1138,25,807,1412,41,1500,121,1148,493,767,39,972,37,827,1350,1029,1166,1265,39,1622,892,387,595,51,20,429,551,1319,42,1699,952,27,216,70,84,36,1220,39,16,16,269,179,13,28,846,91,1087,218,1046,185,709,1553,154,28,22,61,57,1019,144,233,39,67,262,44,486,47,889,363,948,1230,1352,1360,723,45,36,9,1367,19,1762,1131,31,836,1672,493,987,954,52,40,719,445,117,27,30,152,13,36,22,15,182,1342,43,393,835,964,56,408,962,306,1995,265,1257,804,121,83,1288,1726,12,537,832,1299,14,40,16,856,29,494,438,387,46,54,261,729,877,1003,645,19,191,1958,295,770,651,41,1799,976,725,40,32,155,1292,40,1102,916,1073,117,671,852,345,2062,118,31,702,1902,42,300,1661,125,40,1279,407,1775,340,460,1114,222,40,304,89,226,50,32,182,304,1919,608,35,1554,124,20,36,492,120,961,225,677,47,1924,66,1534,758,806,307,225,1023,10,17,16,263,37,153,259,62,1206,152,42,67,223,345,37,91,53,54,1643,600,33,64,2066,1313,33,382,39,54,28,48,75,38,720,1097,545,115,149,63,27,34,228,256,22,35,841,349,32,32,300,389,63,904,31,30,1047,1808,95,188,1556,909,806,1508,15,1212,345,1408,846,1322,1282,2105,224,1517,216,1042,453,42,1163,58,348,150,185,1024,592,16,913,63,24,41,17,44,32,180,1038,491,888,611,952,10,485,658,774,1959,422,216,1092,611,2074,1320,977,858,190,19,90,120,19,55,607,700,591,1605,182,1350,39,607,12,837,70,547,229,1364,43,1011,18,956,714,15,1698,61,876,385,11,437,497,254,1430,1677,1165,313,12,1241,1078,73,53,69,31,916,1413,445,913,1713,1360,917,1214,1019,69,83,55,548,1387,606,183,1783,1243,122,392,668,1302,542,69,125,16,87,1158,39,1391,1230,24,16,19,35,40,41,343,1551,706,258,125,732,894,1565,55,557,33,123,1145,1497,437,63,360,1384,40,38,694,791,1467,491,16,502,712,43,1791,44,120,1924,1542,1601,34,1426,21,55,535,532,32,38,902,303,1446,38,59,262,69,63,1012,1879,1140,701,181,35,258,539,1790,429,1010,41,663,39,40,258,10,275,276,386,386,10,361,57,1727,41,157,847,1644,497,120,1158,121,47,15,52,2074,1889,251,50,506,1233,297,828,12,897,662,1577,398,58,871,183,818,313,254,1182,21,63,187,1425,1229,1024,150,923,973,1919,303,40,1046,69,50,352,1046,1336,1101,92,25,606,44,928,673,796,976,605,2130,51,1214,550,259,36,948,30,153,93,40,49,336,611,90,304,965,536,52,147,216,597,1694,81,16,614,1153,76,66,460,1549,918,385,64,16,5,43,1096,1184,382,1871,2304,1194,40,1738,16,735,88,19,69,293,490,1881,542,43,258,789,13,2036,116,252,91,41,395,225,33,119,78,63,1206,64,46,619,54,20,1178,1949,1051,39,269,47,84,532,49,176,30,119,93,1113,310,2262,30,27,942,255,253,1194,884,618,497,24,1503,1677,16,889,44,1287,710,39,342,1254,20,354,17,850,341,1302,15,839,15,442,20,1149,121,702,70,117,397,835,715,11,902,1835,322,389,257,40,61,47,306,1140,16,44,1406,50,606,736,119,259,126,301,343,1627,62,13,1056,11,41,1974,297,73,1301,26,295,612,71,26,68,969,58,652,392,1030,1422,13,224,46,496,1011,1357,920,260,652,950,216,595,67,93,893,1047,22,1678,61,221,16,445,72,485,224,48,16,19,50,151,38,1713,1419,67,150,116,777,122,908,1006,152,674,181,1084,36,120,511,221,120,496,148,1553,88,59,16,84,1203,349,70,182,37,51,46,28,790,119,1555,30,145,18,62,666,306,7,79,17,9,1492,789,774,395,395,577,2153,1767,39,60,1835,661,52,182,1329,810,540,68,89,335,1110,37,438,290,39,44,2136,669,14,25,68,10,61,150,39,32,2130,27,261,778,337,1487,1143,1040,650,1497,297,783,262,54,358,39,75,41,1505,309,46,1473,51,152,111,55,316,1232,1331,769,270,1117,115,29,263,339,67,19,70,24,399,1301,1469,1118,17,221,808,605,1900,119,498,397,911,1061,389,23,182,221,220,90,32,883,344,389,184,149,41,1780,20,39,1360,254,59,39,43,20,774,14,57,777,308,254,712,147,265,713,117,304,751,437,121,782,1610,16,154,445,50,181,44,43,8,571,39,41,66,16,18,48,375,27,28,1089,32,292,254,20,90,120,62,19,46,2157,304,1302,1114,651,184,1103,1464,54,459,1051,149,55,2304,520,608,40,33,42,599,538,12,1429,43,151,35,934,962,122,1497,87,181,1010,720,25,30,1125,852,1600,350,715,254,2491,595,60,998,54,1429,1277,311,28,386,650,550,908,825,1153,84,1551,1441,43,224,777,66,88,67,1868,1466,76,45,4,712,1177,91,1610,35,896,84,58,264,18,1054,1037,67,910,1320,17,763,89,60,118,612,17,91,560,1085,1163,20,15,74,901,120,437,17,754,89,385,810,597,953,1270,49,41,386,256,123,1798,117,483,14,1095,959,63,702,156,256,219,151,851,297,88,382,41,1375,30,489,30,38,39,1113,390,497,1500,44,260,24,806,14,294,221,953,57,1257,435,193,224,1051,513,44,66,1024,220,116,14,387,699,556,801,37,24,27,1535,537,20,767,17,377,1052,122,37,1480,91,24,63,305,787,560,1758,444,189,837,49,65,67,765,40,1556,255,1550,1372,73,229,26,381,66,89,37,9,258,33,1671,769,921,1073,588,1234,14,19,53,682,18,31,1588,900,70,53,647,61,150,259,693,257,2056,1468,62,44,310,1027,25,182,9,2012,1880,306,62,252,34,910,1132,62,41,537,1490,548,39,394,120,1185,777,1294,20,892,733,2188,263,37,37,31,57,151,40,604,563,31,403,1023,44,914,19,1117,33,90,185,942,1112,24,252,148,257,89,432,32,119,1308,900,303,222,433,89,1122,890,59,61,76,23,346,67,767,996,149,394,825,125,34,1571,39,1021,1188,26,1178,491,8,65,119,720,917,28,338,1262,1541,125,90,184,894,185,152,89,986,395,1486,152,952,32,957,384,494,8,53,446,25,1298,11,1348,1544,1285,1205,90,66,1507,484,902,8,397,907,47,18,347,2074,34,992,40,659,39,27,616,982,1550,1795,145,28,438,32,790,1954,1916,67,704,758,221,274,493,64,38,386,37,923,952,64,41,1235,1549,1682,1024,279,67,40,119,19,47,724,1649,1169,19,1148,1253,1228,658,90,345,36,45,801,35,447,775,14,34,1400,39,36,865,121,1158,1028,801,71,122,151,512,1228,2092,450,1098,19,122,923,1606,44,118,120,1685,730,1117,1358,303,384,180,38,523,78,50,149,90,2068,118,388,19,221,276,118,392,153,1675,20,747,453,264,22,13,93,16,84,50,1384,263,712,1784,153,1920,809,1614,17,56,34,19,16,65,64,260,1164,1101,43,17,34,66,725,44,1028,354,1048,615,67,543,1290,42,47,351,180,151,1177,1517,1182,38,897,67,39,90,1584,901,892,123,1114,41,1163,886,93,1664,70,37,495,682,28,618,1362,548,18,71,127,341,1277,964,912,44,18,389,21,308,971,39,1259,220,1868,1300,39,976,35,1228,48,40,118,219,551,20,69,394,956,40,1018,1419,19,118,8,116,503,1555,491,1270,6,41,56,1006,384,16,180,116,20,40,67,56,768,34,52,295,88,53,52,24,63,149,26,269,1548,300,395,16,87,1188,1036,1238,39,1070,819,965,703,1914,1790,382,216,44,90,46,40,1006,38,1629,35,17,1790,31,123,58,61,660,382,795,67,181,1118,28,38,494,1570,45,1403,27,11,46,1177,14,353,448,1358,32,48,498,600,377,33,1029,19,21,1094,782,151],\"y\":[0,0,0,0,0,0,0,0,0,0,0,0,0,1,0,0,0,0,0,0,0,0,0,0,0,0,0,0,0,0,0,0,0,0,0,0,0,0,0,0,0,0,0,1,0,0,0,0,1,0,0,0,0,0,0,1,0,0,0,0,0,0,0,0,0,0,0,0,0,0,1,0,0,0,0,0,0,0,0,0,0,0,0,0,0,0,0,0,1,0,0,1,0,0,0,0,0,0,0,1,0,0,0,0,0,0,0,0,0,0,0,0,0,0,0,0,0,0,0,0,0,0,0,0,0,1,0,0,0,0,0,0,0,0,0,0,0,0,0,0,0,0,1,0,0,0,0,0,0,0,0,0,0,0,0,0,0,0,0,0,0,0,0,1,0,0,0,0,0,0,0,0,0,0,1,0,0,0,0,0,0,0,0,0,0,0,0,0,0,0,0,0,0,0,0,0,0,0,0,1,0,0,0,0,0,1,0,0,0,0,0,0,0,0,0,0,0,0,0,0,0,0,0,0,0,0,0,0,0,0,0,0,0,0,0,0,0,0,0,0,0,1,0,0,0,0,0,0,0,0,0,0,0,0,0,0,0,0,0,0,0,0,0,0,0,0,0,0,0,0,0,0,0,0,0,1,0,0,0,1,0,0,0,0,0,0,1,0,0,0,0,0,0,0,0,0,0,0,0,0,0,0,0,0,0,0,0,0,0,0,0,0,0,0,0,0,0,0,0,0,0,0,0,0,0,0,0,0,0,0,0,0,0,0,0,0,0,0,0,0,0,0,1,1,0,0,0,0,1,0,1,1,0,0,1,0,0,0,0,0,0,0,0,0,0,0,0,0,0,0,0,1,0,0,0,0,0,0,0,0,1,0,0,0,0,0,0,1,0,0,0,0,0,0,0,0,0,0,0,0,0,0,0,0,0,0,0,0,0,0,0,0,0,0,0,0,0,0,0,0,0,0,0,0,0,0,0,0,0,0,0,0,0,1,0,0,1,0,0,0,0,0,0,0,0,0,0,0,0,0,0,0,0,0,1,0,0,0,0,0,0,0,0,0,0,0,0,1,0,0,0,0,0,0,0,0,0,0,0,0,0,0,0,1,0,0,0,0,0,0,0,0,0,1,0,0,0,1,0,0,0,0,0,0,0,0,0,0,0,0,0,0,0,0,0,0,0,0,0,0,0,0,0,0,0,0,1,0,0,0,0,0,0,0,0,0,0,0,0,0,0,0,0,0,1,0,1,0,0,0,0,0,0,0,0,0,0,0,0,0,0,0,0,0,0,0,0,0,0,0,0,0,0,0,0,0,0,0,0,0,0,0,1,0,0,0,0,0,0,0,0,0,0,0,1,0,1,0,0,0,0,0,0,0,0,0,0,0,0,0,0,0,0,0,0,0,0,0,0,1,1,0,0,0,0,0,0,0,0,0,0,0,0,0,1,0,0,0,0,0,0,0,0,0,0,0,0,0,0,0,0,0,0,0,0,0,0,0,0,0,0,0,0,0,0,0,0,0,0,1,0,0,0,0,0,0,0,0,0,0,1,0,0,0,0,0,0,0,0,0,0,0,0,0,0,1,0,0,1,0,1,0,0,0,0,0,0,0,0,0,0,0,0,0,0,0,0,0,1,0,0,0,0,0,0,1,1,0,0,0,0,0,0,0,0,0,0,0,0,0,0,1,0,0,0,1,0,0,0,0,0,0,0,0,0,0,0,0,0,0,0,0,0,0,0,0,0,0,0,0,0,0,0,0,0,0,0,0,0,0,0,0,1,0,1,0,0,0,0,0,0,0,0,0,0,0,0,0,0,0,0,1,0,1,0,0,0,0,0,0,0,0,0,0,0,0,0,0,0,0,0,0,0,1,0,0,0,0,0,0,0,0,0,0,0,0,0,0,0,1,0,0,1,0,0,1,0,0,0,0,0,0,1,1,1,0,0,0,0,1,0,0,0,0,0,0,0,0,0,0,0,0,0,0,0,0,0,0,0,0,0,0,0,0,0,0,0,0,0,0,0,0,0,0,0,0,0,0,0,0,0,0,1,0,0,0,0,0,0,0,0,1,0,0,0,0,0,0,0,0,0,1,0,0,0,0,0,0,0,0,0,0,0,1,0,0,0,0,0,0,0,0,0,0,1,0,0,0,0,0,0,0,0,0,0,0,0,0,0,1,0,0,0,0,0,0,0,0,0,0,0,0,0,0,0,0,0,0,0,0,0,0,0,0,0,0,0,0,0,0,0,0,0,0,0,0,0,0,0,0,0,0,0,0,0,0,0,1,0,0,0,0,0,0,0,0,0,0,0,0,0,0,0,0,0,0,0,0,0,0,0,0,0,0,0,0,0,0,0,0,0,1,0,0,0,0,0,0,0,0,0,0,1,0,0,0,0,0,1,1,0,0,1,0,0,0,0,0,0,0,0,0,1,0,0,0,0,0,1,0,0,0,0,0,0,0,0,0,1,0,0,0,0,1,1,0,0,0,0,0,0,0,0,0,0,0,0,0,0,0,0,0,0,0,0,1,0,1,0,0,0,0,0,0,0,0,0,0,0,0,0,0,0,0,0,0,0,0,0,0,0,0,0,0,0,0,0,0,0,0,0,0,0,0,0,1,0,0,0,0,0,0,0,0,0,0,0,0,0,0,0,0,0,0,0,0,0,0,0,0,1,0,0,0,0,0,0,0,0,0,0,0,0,0,0,0,0,0,0,1,0,0,0,0,0,0,0,0,0,1,0,0,0,0,0,0,0,0,0,0,0,0,1,0,0,1,0,0,0,0,0,0,0,0,0,1,0,0,0,0,0,0,0,0,0,0,0,0,0,0,0,1,0,0,0,0,0,0,0,0,0,0,0,0,0,0,0,0,0,0,0,0,0,0,0,0,0,0,0,0,0,0,0,1,0,0,0,0,0,0,0,0,0,0,0,0,0,0,0,0,0,0,0,0,0,0,0,0,0,0,0,0,0,0,0,0,0,0,0,1,0,0,0,0,0,1,0,0,0,0,0,0,0,0,0,0,0,0,0,0,0,0,0,0,0,0,0,0,0,0,0,0,0,0,0,0,0,0,0,0,0,0,0,0,0,0,0,0,0,0,0,0,0,0,0,0,0,0,0,0,1,0,0,0,0,0,0,0,0,0,0,0,0,0,0,0,1,0,0,0,0,0,0,0,0,0,1,0,0,0,0,0,0,0,0,0,0,0,0,0,1,0,0,0,0,0,0,0,0,0,0,0,0,0,0,0,0,0,0,0,0,1,1,0,0,0,0,0,0,0,1,1,0,0,0,0,0,0,0,0,0,0,0,0,0,0,0,0,0,0,0,0,1,0,0,0,0,0,0,0,0,0,0,0,0,0,0,0,0,0,0,0,0,0,0,0,0,0,0,0,0,0,0,0,0,0,0,0,0,0,0,0,0,0,0,0,0,0,0,0,0,0,0,0,0,0,0,0,0,0,0,0,0,0,0,0,0,0,0,0,0,0,0,0,0,0,0,0,0,0,1,0,0,0,1,0,0,0,0,1,0,0,0,0,1,0,0,0,0,0,0,0,0,0,0,0,1,0,0,0,0,0,0,0,0,0,0,0,0,0,0,0,0,1,0,1,0,0,0,0,0,0,0,0,0,0,0,0,0,0,1,0,1,0,0,0,0,0,0,1,0,0,1,0,0,0,0,0,0,0,0,0,0,0,0,0,1,0,0,0,0,0,0,0,0,0,0,0,0,0,0,0,0,0,0,1,0,0,0,0,0,0,1,0,0,0,0,0,0,0,0,0,1,0,0,0,0,0,0,0,0,1,0,1,0,0,0,0,0,0,0,0,0,0,0,0,0,1,0,0,0,0,0,0,0,0,0,0,0,0,0,0,0,0,0,0,0,0,0,0,0,0,0,0,0,0,0,0,1,0,0,0,0,0,0,0,0,0,0,0,0,0,0,0,0,0,0,0,0,0,0,0,0,0,0,0,0,0,0,0,0,0,0,0,0,0,1,0,0,0,1,1,0,0,0,1,0,0,0,0,0,0,0,0,0,0,0,0,0,0,0,0,0,1,0,0,0,0,0,0,0,0,0,0,0,0,0,0,1,0,0,0,0,0,0,0,0,0,0,0,0,0,0,0,0,0,1,1,0,1,0,0,1,1,0,0,0,0,0,0,0,0,0,0,0,0,1,0,0,0,0,0,0,0,0,0,0,0,0,0,0,0,0,0,0,0,0,0,0,0,1,0,0,0,0,0,0,0,0,0,0,0,0]},\"selected\":{\"id\":\"2009\"},\"selection_policy\":{\"id\":\"2008\"}},\"id\":\"1928\",\"type\":\"ColumnDataSource\"},{\"attributes\":{},\"id\":\"1915\",\"type\":\"WheelZoomTool\"},{\"attributes\":{\"fill_alpha\":{\"value\":0.1},\"fill_color\":{\"value\":\"#1f77b4\"},\"hatch_alpha\":{\"value\":0.1},\"line_alpha\":{\"value\":0.1},\"line_color\":{\"value\":\"#1f77b4\"},\"x\":{\"field\":\"x\"},\"y\":{\"field\":\"y\"}},\"id\":\"1930\",\"type\":\"Scatter\"},{\"attributes\":{},\"id\":\"1907\",\"type\":\"BasicTicker\"},{\"attributes\":{},\"id\":\"1914\",\"type\":\"PanTool\"},{\"attributes\":{},\"id\":\"1917\",\"type\":\"SaveTool\"},{\"attributes\":{},\"id\":\"2004\",\"type\":\"AllLabels\"},{\"attributes\":{},\"id\":\"1898\",\"type\":\"DataRange1d\"},{\"attributes\":{\"fill_alpha\":{\"value\":0.2},\"fill_color\":{\"value\":\"#1f77b4\"},\"hatch_alpha\":{\"value\":0.2},\"line_alpha\":{\"value\":0.2},\"line_color\":{\"value\":\"#1f77b4\"},\"x\":{\"field\":\"x\"},\"y\":{\"field\":\"y\"}},\"id\":\"1931\",\"type\":\"Scatter\"},{\"attributes\":{},\"id\":\"2003\",\"type\":\"BasicTickFormatter\"},{\"attributes\":{},\"id\":\"1904\",\"type\":\"LinearScale\"},{\"attributes\":{\"fill_color\":{\"value\":\"#1f77b4\"},\"line_color\":{\"value\":\"#1f77b4\"},\"x\":{\"field\":\"x\"},\"y\":{\"field\":\"y\"}},\"id\":\"1929\",\"type\":\"Scatter\"},{\"attributes\":{},\"id\":\"1900\",\"type\":\"DataRange1d\"},{\"attributes\":{},\"id\":\"1902\",\"type\":\"LinearScale\"}],\"root_ids\":[\"1897\"]},\"title\":\"Bokeh Application\",\"version\":\"2.4.1\"}};\n  const render_items = [{\"docid\":\"a58ccf43-f67c-4a6f-aea0-bd620d0715ba\",\"root_ids\":[\"1897\"],\"roots\":{\"1897\":\"363a0bdc-c450-4533-b011-21eb41c7343a\"}}];\n  root.Bokeh.embed.embed_items_notebook(docs_json, render_items);\n\n  }\n  if (root.Bokeh !== undefined) {\n    embed_document(root);\n  } else {\n    let attempts = 0;\n    const timer = setInterval(function(root) {\n      if (root.Bokeh !== undefined) {\n        clearInterval(timer);\n        embed_document(root);\n      } else {\n        attempts++;\n        if (attempts > 100) {\n          clearInterval(timer);\n          console.log(\"Bokeh: ERROR: Unable to run BokehJS code because BokehJS library is missing\");\n        }\n      }\n    }, 10, root)\n  }\n})(window);",
      "application/vnd.bokehjs_exec.v0+json": ""
     },
     "metadata": {
      "application/vnd.bokehjs_exec.v0+json": {
       "id": "1897"
      }
     },
     "output_type": "display_data"
    }
   ],
   "source": [
    "f=figure()\n",
    "f.scatter(x=x,y=y)\n",
    "show(f)"
   ]
  },
  {
   "cell_type": "code",
   "execution_count": 59,
   "metadata": {},
   "outputs": [
    {
     "data": {
      "text/plain": [
       "LogisticRegression()"
      ]
     },
     "execution_count": 59,
     "metadata": {},
     "output_type": "execute_result"
    }
   ],
   "source": [
    "L=LogisticRegression()\n",
    "L.fit(x.reshape(-1,1),y)"
   ]
  },
  {
   "cell_type": "code",
   "execution_count": 62,
   "metadata": {},
   "outputs": [],
   "source": [
    "P=L.predict_proba(x.reshape(-1,1))[:,1]"
   ]
  },
  {
   "cell_type": "code",
   "execution_count": 64,
   "metadata": {},
   "outputs": [
    {
     "data": {
      "text/html": [
       "\n",
       "\n",
       "\n",
       "\n",
       "\n",
       "\n",
       "  <div class=\"bk-root\" id=\"b2ddc24a-0b56-425a-8d3d-faf754e5c82e\" data-root-id=\"2246\"></div>\n"
      ]
     },
     "metadata": {},
     "output_type": "display_data"
    },
    {
     "data": {
      "application/javascript": "(function(root) {\n  function embed_document(root) {\n    \n  const docs_json = {\"b085ece1-6c4b-491c-94b8-7a588e085537\":{\"defs\":[],\"roots\":{\"references\":[{\"attributes\":{\"below\":[{\"id\":\"2255\"}],\"center\":[{\"id\":\"2258\"},{\"id\":\"2262\"}],\"left\":[{\"id\":\"2259\"}],\"renderers\":[{\"id\":\"2281\"}],\"title\":{\"id\":\"2371\"},\"toolbar\":{\"id\":\"2270\"},\"x_range\":{\"id\":\"2247\"},\"x_scale\":{\"id\":\"2251\"},\"y_range\":{\"id\":\"2249\"},\"y_scale\":{\"id\":\"2253\"}},\"id\":\"2246\",\"subtype\":\"Figure\",\"type\":\"Plot\"},{\"attributes\":{},\"id\":\"2249\",\"type\":\"DataRange1d\"},{\"attributes\":{},\"id\":\"2251\",\"type\":\"LinearScale\"},{\"attributes\":{\"coordinates\":null,\"formatter\":{\"id\":\"2377\"},\"group\":null,\"major_label_policy\":{\"id\":\"2378\"},\"ticker\":{\"id\":\"2256\"}},\"id\":\"2255\",\"type\":\"LinearAxis\"},{\"attributes\":{\"coordinates\":null,\"formatter\":{\"id\":\"2374\"},\"group\":null,\"major_label_policy\":{\"id\":\"2375\"},\"ticker\":{\"id\":\"2260\"}},\"id\":\"2259\",\"type\":\"LinearAxis\"},{\"attributes\":{},\"id\":\"2253\",\"type\":\"LinearScale\"},{\"attributes\":{},\"id\":\"2247\",\"type\":\"DataRange1d\"},{\"attributes\":{},\"id\":\"2268\",\"type\":\"HelpTool\"},{\"attributes\":{},\"id\":\"2378\",\"type\":\"AllLabels\"},{\"attributes\":{},\"id\":\"2256\",\"type\":\"BasicTicker\"},{\"attributes\":{},\"id\":\"2379\",\"type\":\"UnionRenderers\"},{\"attributes\":{\"axis\":{\"id\":\"2255\"},\"coordinates\":null,\"group\":null,\"ticker\":null},\"id\":\"2258\",\"type\":\"Grid\"},{\"attributes\":{},\"id\":\"2380\",\"type\":\"Selection\"},{\"attributes\":{},\"id\":\"2374\",\"type\":\"BasicTickFormatter\"},{\"attributes\":{\"source\":{\"id\":\"2277\"}},\"id\":\"2282\",\"type\":\"CDSView\"},{\"attributes\":{\"axis\":{\"id\":\"2259\"},\"coordinates\":null,\"dimension\":1,\"group\":null,\"ticker\":null},\"id\":\"2262\",\"type\":\"Grid\"},{\"attributes\":{\"fill_alpha\":{\"value\":0.2},\"fill_color\":{\"value\":\"#1f77b4\"},\"hatch_alpha\":{\"value\":0.2},\"line_alpha\":{\"value\":0.2},\"line_color\":{\"value\":\"#1f77b4\"},\"x\":{\"field\":\"x\"},\"y\":{\"field\":\"y\"}},\"id\":\"2280\",\"type\":\"Scatter\"},{\"attributes\":{},\"id\":\"2260\",\"type\":\"BasicTicker\"},{\"attributes\":{},\"id\":\"2264\",\"type\":\"WheelZoomTool\"},{\"attributes\":{},\"id\":\"2263\",\"type\":\"PanTool\"},{\"attributes\":{\"overlay\":{\"id\":\"2269\"}},\"id\":\"2265\",\"type\":\"BoxZoomTool\"},{\"attributes\":{},\"id\":\"2266\",\"type\":\"SaveTool\"},{\"attributes\":{},\"id\":\"2267\",\"type\":\"ResetTool\"},{\"attributes\":{\"bottom_units\":\"screen\",\"coordinates\":null,\"fill_alpha\":0.5,\"fill_color\":\"lightgrey\",\"group\":null,\"left_units\":\"screen\",\"level\":\"overlay\",\"line_alpha\":1.0,\"line_color\":\"black\",\"line_dash\":[4,4],\"line_width\":2,\"right_units\":\"screen\",\"syncable\":false,\"top_units\":\"screen\"},\"id\":\"2269\",\"type\":\"BoxAnnotation\"},{\"attributes\":{\"coordinates\":null,\"data_source\":{\"id\":\"2277\"},\"glyph\":{\"id\":\"2278\"},\"group\":null,\"hover_glyph\":null,\"muted_glyph\":{\"id\":\"2280\"},\"nonselection_glyph\":{\"id\":\"2279\"},\"view\":{\"id\":\"2282\"}},\"id\":\"2281\",\"type\":\"GlyphRenderer\"},{\"attributes\":{\"tools\":[{\"id\":\"2263\"},{\"id\":\"2264\"},{\"id\":\"2265\"},{\"id\":\"2266\"},{\"id\":\"2267\"},{\"id\":\"2268\"}]},\"id\":\"2270\",\"type\":\"Toolbar\"},{\"attributes\":{},\"id\":\"2375\",\"type\":\"AllLabels\"},{\"attributes\":{\"coordinates\":null,\"group\":null},\"id\":\"2371\",\"type\":\"Title\"},{\"attributes\":{\"fill_color\":{\"value\":\"#1f77b4\"},\"line_color\":{\"value\":\"#1f77b4\"},\"x\":{\"field\":\"x\"},\"y\":{\"field\":\"y\"}},\"id\":\"2278\",\"type\":\"Scatter\"},{\"attributes\":{\"data\":{\"x\":[1529,21,734,48,407,702,563,146,44,45,1072,296,41,1270,92,289,94,268,1729,539,345,62,216,121,26,229,259,1174,62,878,45,63,1293,46,19,19,810,72,42,1281,493,1661,69,1376,497,1053,24,475,1358,606,715,600,1046,19,11,1236,544,1489,1241,777,56,12,1872,9,148,12,56,229,702,53,338,187,28,43,36,61,399,62,50,1058,1039,1059,20,180,845,118,807,890,708,479,87,1691,457,51,30,612,70,23,41,967,387,1707,86,649,405,591,595,256,20,90,34,2057,1003,1259,838,196,828,52,18,179,119,446,338,69,945,1339,303,18,148,1174,8,1673,116,1281,60,993,69,29,41,121,87,1809,1207,43,9,184,48,892,54,33,43,37,491,1566,64,1180,69,303,24,826,1098,1203,1096,1182,35,272,61,233,1089,254,497,1144,393,16,1599,219,1092,96,1037,700,182,1153,150,394,1011,1736,17,394,19,15,1085,48,22,594,37,971,25,950,16,1610,1313,1954,1461,51,15,964,185,1118,32,310,34,15,821,268,20,255,70,865,46,1489,54,218,44,89,763,795,803,777,85,394,289,395,34,50,856,724,1450,339,123,55,17,1334,24,89,787,52,700,90,221,41,92,226,36,35,1494,218,31,75,351,22,603,21,19,1234,589,1157,56,35,38,149,19,65,1138,25,807,1412,41,1500,121,1148,493,767,39,972,37,827,1350,1029,1166,1265,39,1622,892,387,595,51,20,429,551,1319,42,1699,952,27,216,70,84,36,1220,39,16,16,269,179,13,28,846,91,1087,218,1046,185,709,1553,154,28,22,61,57,1019,144,233,39,67,262,44,486,47,889,363,948,1230,1352,1360,723,45,36,9,1367,19,1762,1131,31,836,1672,493,987,954,52,40,719,445,117,27,30,152,13,36,22,15,182,1342,43,393,835,964,56,408,962,306,1995,265,1257,804,121,83,1288,1726,12,537,832,1299,14,40,16,856,29,494,438,387,46,54,261,729,877,1003,645,19,191,1958,295,770,651,41,1799,976,725,40,32,155,1292,40,1102,916,1073,117,671,852,345,2062,118,31,702,1902,42,300,1661,125,40,1279,407,1775,340,460,1114,222,40,304,89,226,50,32,182,304,1919,608,35,1554,124,20,36,492,120,961,225,677,47,1924,66,1534,758,806,307,225,1023,10,17,16,263,37,153,259,62,1206,152,42,67,223,345,37,91,53,54,1643,600,33,64,2066,1313,33,382,39,54,28,48,75,38,720,1097,545,115,149,63,27,34,228,256,22,35,841,349,32,32,300,389,63,904,31,30,1047,1808,95,188,1556,909,806,1508,15,1212,345,1408,846,1322,1282,2105,224,1517,216,1042,453,42,1163,58,348,150,185,1024,592,16,913,63,24,41,17,44,32,180,1038,491,888,611,952,10,485,658,774,1959,422,216,1092,611,2074,1320,977,858,190,19,90,120,19,55,607,700,591,1605,182,1350,39,607,12,837,70,547,229,1364,43,1011,18,956,714,15,1698,61,876,385,11,437,497,254,1430,1677,1165,313,12,1241,1078,73,53,69,31,916,1413,445,913,1713,1360,917,1214,1019,69,83,55,548,1387,606,183,1783,1243,122,392,668,1302,542,69,125,16,87,1158,39,1391,1230,24,16,19,35,40,41,343,1551,706,258,125,732,894,1565,55,557,33,123,1145,1497,437,63,360,1384,40,38,694,791,1467,491,16,502,712,43,1791,44,120,1924,1542,1601,34,1426,21,55,535,532,32,38,902,303,1446,38,59,262,69,63,1012,1879,1140,701,181,35,258,539,1790,429,1010,41,663,39,40,258,10,275,276,386,386,10,361,57,1727,41,157,847,1644,497,120,1158,121,47,15,52,2074,1889,251,50,506,1233,297,828,12,897,662,1577,398,58,871,183,818,313,254,1182,21,63,187,1425,1229,1024,150,923,973,1919,303,40,1046,69,50,352,1046,1336,1101,92,25,606,44,928,673,796,976,605,2130,51,1214,550,259,36,948,30,153,93,40,49,336,611,90,304,965,536,52,147,216,597,1694,81,16,614,1153,76,66,460,1549,918,385,64,16,5,43,1096,1184,382,1871,2304,1194,40,1738,16,735,88,19,69,293,490,1881,542,43,258,789,13,2036,116,252,91,41,395,225,33,119,78,63,1206,64,46,619,54,20,1178,1949,1051,39,269,47,84,532,49,176,30,119,93,1113,310,2262,30,27,942,255,253,1194,884,618,497,24,1503,1677,16,889,44,1287,710,39,342,1254,20,354,17,850,341,1302,15,839,15,442,20,1149,121,702,70,117,397,835,715,11,902,1835,322,389,257,40,61,47,306,1140,16,44,1406,50,606,736,119,259,126,301,343,1627,62,13,1056,11,41,1974,297,73,1301,26,295,612,71,26,68,969,58,652,392,1030,1422,13,224,46,496,1011,1357,920,260,652,950,216,595,67,93,893,1047,22,1678,61,221,16,445,72,485,224,48,16,19,50,151,38,1713,1419,67,150,116,777,122,908,1006,152,674,181,1084,36,120,511,221,120,496,148,1553,88,59,16,84,1203,349,70,182,37,51,46,28,790,119,1555,30,145,18,62,666,306,7,79,17,9,1492,789,774,395,395,577,2153,1767,39,60,1835,661,52,182,1329,810,540,68,89,335,1110,37,438,290,39,44,2136,669,14,25,68,10,61,150,39,32,2130,27,261,778,337,1487,1143,1040,650,1497,297,783,262,54,358,39,75,41,1505,309,46,1473,51,152,111,55,316,1232,1331,769,270,1117,115,29,263,339,67,19,70,24,399,1301,1469,1118,17,221,808,605,1900,119,498,397,911,1061,389,23,182,221,220,90,32,883,344,389,184,149,41,1780,20,39,1360,254,59,39,43,20,774,14,57,777,308,254,712,147,265,713,117,304,751,437,121,782,1610,16,154,445,50,181,44,43,8,571,39,41,66,16,18,48,375,27,28,1089,32,292,254,20,90,120,62,19,46,2157,304,1302,1114,651,184,1103,1464,54,459,1051,149,55,2304,520,608,40,33,42,599,538,12,1429,43,151,35,934,962,122,1497,87,181,1010,720,25,30,1125,852,1600,350,715,254,2491,595,60,998,54,1429,1277,311,28,386,650,550,908,825,1153,84,1551,1441,43,224,777,66,88,67,1868,1466,76,45,4,712,1177,91,1610,35,896,84,58,264,18,1054,1037,67,910,1320,17,763,89,60,118,612,17,91,560,1085,1163,20,15,74,901,120,437,17,754,89,385,810,597,953,1270,49,41,386,256,123,1798,117,483,14,1095,959,63,702,156,256,219,151,851,297,88,382,41,1375,30,489,30,38,39,1113,390,497,1500,44,260,24,806,14,294,221,953,57,1257,435,193,224,1051,513,44,66,1024,220,116,14,387,699,556,801,37,24,27,1535,537,20,767,17,377,1052,122,37,1480,91,24,63,305,787,560,1758,444,189,837,49,65,67,765,40,1556,255,1550,1372,73,229,26,381,66,89,37,9,258,33,1671,769,921,1073,588,1234,14,19,53,682,18,31,1588,900,70,53,647,61,150,259,693,257,2056,1468,62,44,310,1027,25,182,9,2012,1880,306,62,252,34,910,1132,62,41,537,1490,548,39,394,120,1185,777,1294,20,892,733,2188,263,37,37,31,57,151,40,604,563,31,403,1023,44,914,19,1117,33,90,185,942,1112,24,252,148,257,89,432,32,119,1308,900,303,222,433,89,1122,890,59,61,76,23,346,67,767,996,149,394,825,125,34,1571,39,1021,1188,26,1178,491,8,65,119,720,917,28,338,1262,1541,125,90,184,894,185,152,89,986,395,1486,152,952,32,957,384,494,8,53,446,25,1298,11,1348,1544,1285,1205,90,66,1507,484,902,8,397,907,47,18,347,2074,34,992,40,659,39,27,616,982,1550,1795,145,28,438,32,790,1954,1916,67,704,758,221,274,493,64,38,386,37,923,952,64,41,1235,1549,1682,1024,279,67,40,119,19,47,724,1649,1169,19,1148,1253,1228,658,90,345,36,45,801,35,447,775,14,34,1400,39,36,865,121,1158,1028,801,71,122,151,512,1228,2092,450,1098,19,122,923,1606,44,118,120,1685,730,1117,1358,303,384,180,38,523,78,50,149,90,2068,118,388,19,221,276,118,392,153,1675,20,747,453,264,22,13,93,16,84,50,1384,263,712,1784,153,1920,809,1614,17,56,34,19,16,65,64,260,1164,1101,43,17,34,66,725,44,1028,354,1048,615,67,543,1290,42,47,351,180,151,1177,1517,1182,38,897,67,39,90,1584,901,892,123,1114,41,1163,886,93,1664,70,37,495,682,28,618,1362,548,18,71,127,341,1277,964,912,44,18,389,21,308,971,39,1259,220,1868,1300,39,976,35,1228,48,40,118,219,551,20,69,394,956,40,1018,1419,19,118,8,116,503,1555,491,1270,6,41,56,1006,384,16,180,116,20,40,67,56,768,34,52,295,88,53,52,24,63,149,26,269,1548,300,395,16,87,1188,1036,1238,39,1070,819,965,703,1914,1790,382,216,44,90,46,40,1006,38,1629,35,17,1790,31,123,58,61,660,382,795,67,181,1118,28,38,494,1570,45,1403,27,11,46,1177,14,353,448,1358,32,48,498,600,377,33,1029,19,21,1094,782,151],\"y\":{\"__ndarray__\":\"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\",\"dtype\":\"float64\",\"order\":\"little\",\"shape\":[1883]}},\"selected\":{\"id\":\"2380\"},\"selection_policy\":{\"id\":\"2379\"}},\"id\":\"2277\",\"type\":\"ColumnDataSource\"},{\"attributes\":{\"fill_alpha\":{\"value\":0.1},\"fill_color\":{\"value\":\"#1f77b4\"},\"hatch_alpha\":{\"value\":0.1},\"line_alpha\":{\"value\":0.1},\"line_color\":{\"value\":\"#1f77b4\"},\"x\":{\"field\":\"x\"},\"y\":{\"field\":\"y\"}},\"id\":\"2279\",\"type\":\"Scatter\"},{\"attributes\":{},\"id\":\"2377\",\"type\":\"BasicTickFormatter\"}],\"root_ids\":[\"2246\"]},\"title\":\"Bokeh Application\",\"version\":\"2.4.1\"}};\n  const render_items = [{\"docid\":\"b085ece1-6c4b-491c-94b8-7a588e085537\",\"root_ids\":[\"2246\"],\"roots\":{\"2246\":\"b2ddc24a-0b56-425a-8d3d-faf754e5c82e\"}}];\n  root.Bokeh.embed.embed_items_notebook(docs_json, render_items);\n\n  }\n  if (root.Bokeh !== undefined) {\n    embed_document(root);\n  } else {\n    let attempts = 0;\n    const timer = setInterval(function(root) {\n      if (root.Bokeh !== undefined) {\n        clearInterval(timer);\n        embed_document(root);\n      } else {\n        attempts++;\n        if (attempts > 100) {\n          clearInterval(timer);\n          console.log(\"Bokeh: ERROR: Unable to run BokehJS code because BokehJS library is missing\");\n        }\n      }\n    }, 10, root)\n  }\n})(window);",
      "application/vnd.bokehjs_exec.v0+json": ""
     },
     "metadata": {
      "application/vnd.bokehjs_exec.v0+json": {
       "id": "2246"
      }
     },
     "output_type": "display_data"
    }
   ],
   "source": [
    "g=figure()\n",
    "g.scatter(x=x,y=P)\n",
    "show(g)"
   ]
  },
  {
   "cell_type": "code",
   "execution_count": 65,
   "metadata": {},
   "outputs": [
    {
     "data": {
      "text/plain": [
       "0.935740839086564"
      ]
     },
     "execution_count": 65,
     "metadata": {},
     "output_type": "execute_result"
    }
   ],
   "source": [
    "L.score(x.reshape(-1,1),y)"
   ]
  },
  {
   "cell_type": "code",
   "execution_count": 68,
   "metadata": {},
   "outputs": [
    {
     "ename": "NameError",
     "evalue": "name 'describe' is not defined",
     "output_type": "error",
     "traceback": [
      "\u001b[0;31m---------------------------------------------------------------------------\u001b[0m",
      "\u001b[0;31mNameError\u001b[0m                                 Traceback (most recent call last)",
      "\u001b[0;32m/tmp/ipykernel_647155/2942278739.py\u001b[0m in \u001b[0;36m<module>\u001b[0;34m\u001b[0m\n\u001b[0;32m----> 1\u001b[0;31m \u001b[0mdescribe\u001b[0m\u001b[0;34m(\u001b[0m\u001b[0mx\u001b[0m\u001b[0;34m)\u001b[0m\u001b[0;34m\u001b[0m\u001b[0;34m\u001b[0m\u001b[0m\n\u001b[0m",
      "\u001b[0;31mNameError\u001b[0m: name 'describe' is not defined"
     ]
    }
   ],
   "source": [
    "describe(x)"
   ]
  },
  {
   "cell_type": "code",
   "execution_count": 79,
   "metadata": {},
   "outputs": [],
   "source": [
    "data['DollarRange']=pd.cut(data['MntTotal'],bins=np.arange(0,2500,100),labels=np.arange(0,2400,100))"
   ]
  },
  {
   "cell_type": "code",
   "execution_count": 80,
   "metadata": {},
   "outputs": [
    {
     "data": {
      "text/plain": [
       "0       1500\n",
       "1          0\n",
       "2        700\n",
       "3          0\n",
       "4        400\n",
       "        ... \n",
       "2198       0\n",
       "2199       0\n",
       "2200    1000\n",
       "2203     700\n",
       "2204     100\n",
       "Name: DollarRange, Length: 1883, dtype: category\n",
       "Categories (24, int64): [0 < 100 < 200 < 300 ... 2000 < 2100 < 2200 < 2300]"
      ]
     },
     "execution_count": 80,
     "metadata": {},
     "output_type": "execute_result"
    }
   ],
   "source": [
    "data['DollarRange']"
   ]
  },
  {
   "cell_type": "code",
   "execution_count": 91,
   "metadata": {},
   "outputs": [
    {
     "data": {
      "text/plain": [
       "(25, 2)"
      ]
     },
     "execution_count": 91,
     "metadata": {},
     "output_type": "execute_result"
    }
   ],
   "source": [
    "z=data.groupby('DollarRange')['Response'].mean()\n",
    "n=data.groupby('DollarRange')['Response'].count()\n",
    "u=L.predict_proba(100*np.arange(0,25).reshape(-1,1))\n",
    "u.shape"
   ]
  },
  {
   "cell_type": "code",
   "execution_count": 96,
   "metadata": {},
   "outputs": [
    {
     "name": "stderr",
     "output_type": "stream",
     "text": [
      "BokehUserWarning: ColumnDataSource's columns must be of the same length. Current lengths: ('x', 25), ('y', 24)\n"
     ]
    },
    {
     "data": {
      "text/html": [
       "\n",
       "\n",
       "\n",
       "\n",
       "\n",
       "\n",
       "  <div class=\"bk-root\" id=\"c086e8a9-5e94-4b57-8e46-0205a0a98ed7\" data-root-id=\"4537\"></div>\n"
      ]
     },
     "metadata": {},
     "output_type": "display_data"
    },
    {
     "data": {
      "application/javascript": "(function(root) {\n  function embed_document(root) {\n    \n  const docs_json = {\"e0a949cc-3452-4bdb-b0df-55e3748cbb56\":{\"defs\":[],\"roots\":{\"references\":[{\"attributes\":{\"below\":[{\"id\":\"4546\"}],\"center\":[{\"id\":\"4549\"},{\"id\":\"4553\"}],\"left\":[{\"id\":\"4550\"}],\"renderers\":[{\"id\":\"4572\"},{\"id\":\"4578\"}],\"title\":{\"id\":\"4779\"},\"toolbar\":{\"id\":\"4561\"},\"x_range\":{\"id\":\"4538\"},\"x_scale\":{\"id\":\"4542\"},\"y_range\":{\"id\":\"4540\"},\"y_scale\":{\"id\":\"4544\"}},\"id\":\"4537\",\"subtype\":\"Figure\",\"type\":\"Plot\"},{\"attributes\":{},\"id\":\"4788\",\"type\":\"Selection\"},{\"attributes\":{\"coordinates\":null,\"formatter\":{\"id\":\"4782\"},\"group\":null,\"major_label_policy\":{\"id\":\"4783\"},\"ticker\":{\"id\":\"4551\"}},\"id\":\"4550\",\"type\":\"LinearAxis\"},{\"attributes\":{},\"id\":\"4540\",\"type\":\"DataRange1d\"},{\"attributes\":{},\"id\":\"4551\",\"type\":\"BasicTicker\"},{\"attributes\":{},\"id\":\"4544\",\"type\":\"LinearScale\"},{\"attributes\":{\"line_alpha\":0.2,\"line_color\":\"#1f77b4\",\"x\":{\"field\":\"x\"},\"y\":{\"field\":\"y\"}},\"id\":\"4577\",\"type\":\"Line\"},{\"attributes\":{},\"id\":\"4547\",\"type\":\"BasicTicker\"},{\"attributes\":{\"coordinates\":null,\"group\":null},\"id\":\"4779\",\"type\":\"Title\"},{\"attributes\":{},\"id\":\"4789\",\"type\":\"UnionRenderers\"},{\"attributes\":{},\"id\":\"4786\",\"type\":\"AllLabels\"},{\"attributes\":{\"fill_alpha\":{\"value\":0.1},\"fill_color\":{\"value\":\"#1f77b4\"},\"hatch_alpha\":{\"value\":0.1},\"line_alpha\":{\"value\":0.1},\"line_color\":{\"value\":\"#1f77b4\"},\"x\":{\"field\":\"x\"},\"y\":{\"field\":\"y\"}},\"id\":\"4570\",\"type\":\"Scatter\"},{\"attributes\":{\"fill_alpha\":{\"value\":0.2},\"fill_color\":{\"value\":\"#1f77b4\"},\"hatch_alpha\":{\"value\":0.2},\"line_alpha\":{\"value\":0.2},\"line_color\":{\"value\":\"#1f77b4\"},\"x\":{\"field\":\"x\"},\"y\":{\"field\":\"y\"}},\"id\":\"4571\",\"type\":\"Scatter\"},{\"attributes\":{\"axis\":{\"id\":\"4546\"},\"coordinates\":null,\"group\":null,\"ticker\":null},\"id\":\"4549\",\"type\":\"Grid\"},{\"attributes\":{},\"id\":\"4790\",\"type\":\"Selection\"},{\"attributes\":{\"coordinates\":null,\"data_source\":{\"id\":\"4568\"},\"glyph\":{\"id\":\"4569\"},\"group\":null,\"hover_glyph\":null,\"muted_glyph\":{\"id\":\"4571\"},\"nonselection_glyph\":{\"id\":\"4570\"},\"view\":{\"id\":\"4573\"}},\"id\":\"4572\",\"type\":\"GlyphRenderer\"},{\"attributes\":{\"coordinates\":null,\"formatter\":{\"id\":\"4785\"},\"group\":null,\"major_label_policy\":{\"id\":\"4786\"},\"ticker\":{\"id\":\"4547\"}},\"id\":\"4546\",\"type\":\"LinearAxis\"},{\"attributes\":{},\"id\":\"4558\",\"type\":\"ResetTool\"},{\"attributes\":{\"line_color\":\"#1f77b4\",\"x\":{\"field\":\"x\"},\"y\":{\"field\":\"y\"}},\"id\":\"4575\",\"type\":\"Line\"},{\"attributes\":{},\"id\":\"4785\",\"type\":\"BasicTickFormatter\"},{\"attributes\":{\"tools\":[{\"id\":\"4554\"},{\"id\":\"4555\"},{\"id\":\"4556\"},{\"id\":\"4557\"},{\"id\":\"4558\"},{\"id\":\"4559\"}]},\"id\":\"4561\",\"type\":\"Toolbar\"},{\"attributes\":{\"line_alpha\":0.1,\"line_color\":\"#1f77b4\",\"x\":{\"field\":\"x\"},\"y\":{\"field\":\"y\"}},\"id\":\"4576\",\"type\":\"Line\"},{\"attributes\":{\"bottom_units\":\"screen\",\"coordinates\":null,\"fill_alpha\":0.5,\"fill_color\":\"lightgrey\",\"group\":null,\"left_units\":\"screen\",\"level\":\"overlay\",\"line_alpha\":1.0,\"line_color\":\"black\",\"line_dash\":[4,4],\"line_width\":2,\"right_units\":\"screen\",\"syncable\":false,\"top_units\":\"screen\"},\"id\":\"4560\",\"type\":\"BoxAnnotation\"},{\"attributes\":{\"source\":{\"id\":\"4568\"}},\"id\":\"4573\",\"type\":\"CDSView\"},{\"attributes\":{},\"id\":\"4559\",\"type\":\"HelpTool\"},{\"attributes\":{\"coordinates\":null,\"data_source\":{\"id\":\"4574\"},\"glyph\":{\"id\":\"4575\"},\"group\":null,\"hover_glyph\":null,\"muted_glyph\":{\"id\":\"4577\"},\"nonselection_glyph\":{\"id\":\"4576\"},\"view\":{\"id\":\"4579\"}},\"id\":\"4578\",\"type\":\"GlyphRenderer\"},{\"attributes\":{},\"id\":\"4542\",\"type\":\"LinearScale\"},{\"attributes\":{},\"id\":\"4783\",\"type\":\"AllLabels\"},{\"attributes\":{\"data\":{\"x\":[0,1,2,3,4,5,6,7,8,9,10,11,12,13,14,15,16,17,18,19,20,21,22,23,24],\"y\":{\"__ndarray__\":\"2b8/A86PcT8r/N56Mud3P0NUesoNQoA/Et3TC3EZhj/Z5cY/LAKOP3uMnAp9WJQ/0IDTTGSJmz+ICSK1bJaiP0nrPuJPAqk/NoItEce/sD/6mzsHd022P2au/hB5eL0/8VXaJ/dHwz8LROiPtuvIPzW/fGWCus8/sQnWUxDX0z8rPbweIk/YPwjiPzD3Ht0/UU7C26sI4T/INP8naHXjP6ZJEyg5uuU/5F4SiXbC5z+zth0Qh4LpPz0aWSOV9+o/G8J6AYcl7D8=\",\"dtype\":\"float64\",\"order\":\"little\",\"shape\":[25]}},\"selected\":{\"id\":\"4790\"},\"selection_policy\":{\"id\":\"4789\"}},\"id\":\"4574\",\"type\":\"ColumnDataSource\"},{\"attributes\":{\"overlay\":{\"id\":\"4560\"}},\"id\":\"4556\",\"type\":\"BoxZoomTool\"},{\"attributes\":{\"axis\":{\"id\":\"4550\"},\"coordinates\":null,\"dimension\":1,\"group\":null,\"ticker\":null},\"id\":\"4553\",\"type\":\"Grid\"},{\"attributes\":{\"fill_color\":{\"value\":\"#1f77b4\"},\"line_color\":{\"value\":\"#1f77b4\"},\"x\":{\"field\":\"x\"},\"y\":{\"field\":\"y\"}},\"id\":\"4569\",\"type\":\"Scatter\"},{\"attributes\":{\"source\":{\"id\":\"4574\"}},\"id\":\"4579\",\"type\":\"CDSView\"},{\"attributes\":{},\"id\":\"4554\",\"type\":\"PanTool\"},{\"attributes\":{},\"id\":\"4538\",\"type\":\"DataRange1d\"},{\"attributes\":{},\"id\":\"4555\",\"type\":\"WheelZoomTool\"},{\"attributes\":{\"data\":{\"x\":[0,1,2,3,4,5,6,7,8,9,10,11,12,13,14,15,16,17,18,19,20,21,22,23,24],\"y\":{\"__ndarray__\":\"yKR4gUyKZz8AAAAAAAAAAJCc5mv17JA/Ecg1Ecg1gT8eHh4eHh6uP5IkSZIkSZI/AAAAAAAAAAAor6G8hvK6PwAAAAAAAAAAVVVVVVVVtT9ItMLmQKKlPzvavE9xycA/OqQmGG9lzz9mZmZmZmbWPxzHcRzHccw/Fl/xFV/xxT+WexphuafhP3TRRRdddOE/ntiJndiJ3T9VVVVVVVXlP3TRRRdddOE/AAAAAAAA8D8AAAAAAAAAAAAAAAAAAPA/\",\"dtype\":\"float64\",\"order\":\"little\",\"shape\":[24]}},\"selected\":{\"id\":\"4788\"},\"selection_policy\":{\"id\":\"4787\"}},\"id\":\"4568\",\"type\":\"ColumnDataSource\"},{\"attributes\":{},\"id\":\"4787\",\"type\":\"UnionRenderers\"},{\"attributes\":{},\"id\":\"4557\",\"type\":\"SaveTool\"},{\"attributes\":{},\"id\":\"4782\",\"type\":\"BasicTickFormatter\"}],\"root_ids\":[\"4537\"]},\"title\":\"Bokeh Application\",\"version\":\"2.4.1\"}};\n  const render_items = [{\"docid\":\"e0a949cc-3452-4bdb-b0df-55e3748cbb56\",\"root_ids\":[\"4537\"],\"roots\":{\"4537\":\"c086e8a9-5e94-4b57-8e46-0205a0a98ed7\"}}];\n  root.Bokeh.embed.embed_items_notebook(docs_json, render_items);\n\n  }\n  if (root.Bokeh !== undefined) {\n    embed_document(root);\n  } else {\n    let attempts = 0;\n    const timer = setInterval(function(root) {\n      if (root.Bokeh !== undefined) {\n        clearInterval(timer);\n        embed_document(root);\n      } else {\n        attempts++;\n        if (attempts > 100) {\n          clearInterval(timer);\n          console.log(\"Bokeh: ERROR: Unable to run BokehJS code because BokehJS library is missing\");\n        }\n      }\n    }, 10, root)\n  }\n})(window);",
      "application/vnd.bokehjs_exec.v0+json": ""
     },
     "metadata": {
      "application/vnd.bokehjs_exec.v0+json": {
       "id": "4537"
      }
     },
     "output_type": "display_data"
    }
   ],
   "source": [
    "h=figure()\n",
    "h.scatter(x=np.arange(0,25),y=z)\n",
    "h.line(x=np.arange(0,25),y=u[:,1])\n",
    "show(h)"
   ]
  },
  {
   "cell_type": "code",
   "execution_count": 85,
   "metadata": {},
   "outputs": [],
   "source": []
  },
  {
   "cell_type": "code",
   "execution_count": null,
   "metadata": {},
   "outputs": [],
   "source": []
  }
 ],
 "metadata": {
  "interpreter": {
   "hash": "4de1eb631fc111013b2f441024ec0dcd7a567c3d6a338a26d91722f9a102f561"
  },
  "kernelspec": {
   "display_name": "Python 3.9.7 ('base')",
   "language": "python",
   "name": "python3"
  },
  "language_info": {
   "codemirror_mode": {
    "name": "ipython",
    "version": 3
   },
   "file_extension": ".py",
   "mimetype": "text/x-python",
   "name": "python",
   "nbconvert_exporter": "python",
   "pygments_lexer": "ipython3",
   "version": "3.9.7"
  },
  "orig_nbformat": 4
 },
 "nbformat": 4,
 "nbformat_minor": 2
}

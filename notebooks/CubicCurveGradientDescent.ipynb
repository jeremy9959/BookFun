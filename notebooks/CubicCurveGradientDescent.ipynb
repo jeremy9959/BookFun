{
 "cells": [
  {
   "cell_type": "code",
   "execution_count": 69,
   "metadata": {},
   "outputs": [
    {
     "data": {
      "text/html": [
       "\n",
       "    <div class=\"bk-root\">\n",
       "        <a href=\"https://bokeh.org\" target=\"_blank\" class=\"bk-logo bk-logo-small bk-logo-notebook\"></a>\n",
       "        <span id=\"8740\">Loading BokehJS ...</span>\n",
       "    </div>"
      ]
     },
     "metadata": {},
     "output_type": "display_data"
    },
    {
     "data": {
      "application/javascript": "\n(function(root) {\n  function now() {\n    return new Date();\n  }\n\n  const force = true;\n\n  if (typeof root._bokeh_onload_callbacks === \"undefined\" || force === true) {\n    root._bokeh_onload_callbacks = [];\n    root._bokeh_is_loading = undefined;\n  }\n\n  const JS_MIME_TYPE = 'application/javascript';\n  const HTML_MIME_TYPE = 'text/html';\n  const EXEC_MIME_TYPE = 'application/vnd.bokehjs_exec.v0+json';\n  const CLASS_NAME = 'output_bokeh rendered_html';\n\n  /**\n   * Render data to the DOM node\n   */\n  function render(props, node) {\n    const script = document.createElement(\"script\");\n    node.appendChild(script);\n  }\n\n  /**\n   * Handle when an output is cleared or removed\n   */\n  function handleClearOutput(event, handle) {\n    const cell = handle.cell;\n\n    const id = cell.output_area._bokeh_element_id;\n    const server_id = cell.output_area._bokeh_server_id;\n    // Clean up Bokeh references\n    if (id != null && id in Bokeh.index) {\n      Bokeh.index[id].model.document.clear();\n      delete Bokeh.index[id];\n    }\n\n    if (server_id !== undefined) {\n      // Clean up Bokeh references\n      const cmd_clean = \"from bokeh.io.state import curstate; print(curstate().uuid_to_server['\" + server_id + \"'].get_sessions()[0].document.roots[0]._id)\";\n      cell.notebook.kernel.execute(cmd_clean, {\n        iopub: {\n          output: function(msg) {\n            const id = msg.content.text.trim();\n            if (id in Bokeh.index) {\n              Bokeh.index[id].model.document.clear();\n              delete Bokeh.index[id];\n            }\n          }\n        }\n      });\n      // Destroy server and session\n      const cmd_destroy = \"import bokeh.io.notebook as ion; ion.destroy_server('\" + server_id + \"')\";\n      cell.notebook.kernel.execute(cmd_destroy);\n    }\n  }\n\n  /**\n   * Handle when a new output is added\n   */\n  function handleAddOutput(event, handle) {\n    const output_area = handle.output_area;\n    const output = handle.output;\n\n    // limit handleAddOutput to display_data with EXEC_MIME_TYPE content only\n    if ((output.output_type != \"display_data\") || (!Object.prototype.hasOwnProperty.call(output.data, EXEC_MIME_TYPE))) {\n      return\n    }\n\n    const toinsert = output_area.element.find(\".\" + CLASS_NAME.split(' ')[0]);\n\n    if (output.metadata[EXEC_MIME_TYPE][\"id\"] !== undefined) {\n      toinsert[toinsert.length - 1].firstChild.textContent = output.data[JS_MIME_TYPE];\n      // store reference to embed id on output_area\n      output_area._bokeh_element_id = output.metadata[EXEC_MIME_TYPE][\"id\"];\n    }\n    if (output.metadata[EXEC_MIME_TYPE][\"server_id\"] !== undefined) {\n      const bk_div = document.createElement(\"div\");\n      bk_div.innerHTML = output.data[HTML_MIME_TYPE];\n      const script_attrs = bk_div.children[0].attributes;\n      for (let i = 0; i < script_attrs.length; i++) {\n        toinsert[toinsert.length - 1].firstChild.setAttribute(script_attrs[i].name, script_attrs[i].value);\n        toinsert[toinsert.length - 1].firstChild.textContent = bk_div.children[0].textContent\n      }\n      // store reference to server id on output_area\n      output_area._bokeh_server_id = output.metadata[EXEC_MIME_TYPE][\"server_id\"];\n    }\n  }\n\n  function register_renderer(events, OutputArea) {\n\n    function append_mime(data, metadata, element) {\n      // create a DOM node to render to\n      const toinsert = this.create_output_subarea(\n        metadata,\n        CLASS_NAME,\n        EXEC_MIME_TYPE\n      );\n      this.keyboard_manager.register_events(toinsert);\n      // Render to node\n      const props = {data: data, metadata: metadata[EXEC_MIME_TYPE]};\n      render(props, toinsert[toinsert.length - 1]);\n      element.append(toinsert);\n      return toinsert\n    }\n\n    /* Handle when an output is cleared or removed */\n    events.on('clear_output.CodeCell', handleClearOutput);\n    events.on('delete.Cell', handleClearOutput);\n\n    /* Handle when a new output is added */\n    events.on('output_added.OutputArea', handleAddOutput);\n\n    /**\n     * Register the mime type and append_mime function with output_area\n     */\n    OutputArea.prototype.register_mime_type(EXEC_MIME_TYPE, append_mime, {\n      /* Is output safe? */\n      safe: true,\n      /* Index of renderer in `output_area.display_order` */\n      index: 0\n    });\n  }\n\n  // register the mime type if in Jupyter Notebook environment and previously unregistered\n  if (root.Jupyter !== undefined) {\n    const events = require('base/js/events');\n    const OutputArea = require('notebook/js/outputarea').OutputArea;\n\n    if (OutputArea.prototype.mime_types().indexOf(EXEC_MIME_TYPE) == -1) {\n      register_renderer(events, OutputArea);\n    }\n  }\n\n  \n  if (typeof (root._bokeh_timeout) === \"undefined\" || force === true) {\n    root._bokeh_timeout = Date.now() + 5000;\n    root._bokeh_failed_load = false;\n  }\n\n  const NB_LOAD_WARNING = {'data': {'text/html':\n     \"<div style='background-color: #fdd'>\\n\"+\n     \"<p>\\n\"+\n     \"BokehJS does not appear to have successfully loaded. If loading BokehJS from CDN, this \\n\"+\n     \"may be due to a slow or bad network connection. Possible fixes:\\n\"+\n     \"</p>\\n\"+\n     \"<ul>\\n\"+\n     \"<li>re-rerun `output_notebook()` to attempt to load from CDN again, or</li>\\n\"+\n     \"<li>use INLINE resources instead, as so:</li>\\n\"+\n     \"</ul>\\n\"+\n     \"<code>\\n\"+\n     \"from bokeh.resources import INLINE\\n\"+\n     \"output_notebook(resources=INLINE)\\n\"+\n     \"</code>\\n\"+\n     \"</div>\"}};\n\n  function display_loaded() {\n    const el = document.getElementById(\"8740\");\n    if (el != null) {\n      el.textContent = \"BokehJS is loading...\";\n    }\n    if (root.Bokeh !== undefined) {\n      if (el != null) {\n        el.textContent = \"BokehJS \" + root.Bokeh.version + \" successfully loaded.\";\n      }\n    } else if (Date.now() < root._bokeh_timeout) {\n      setTimeout(display_loaded, 100)\n    }\n  }\n\n\n  function run_callbacks() {\n    try {\n      root._bokeh_onload_callbacks.forEach(function(callback) {\n        if (callback != null)\n          callback();\n      });\n    } finally {\n      delete root._bokeh_onload_callbacks\n    }\n    console.debug(\"Bokeh: all callbacks have finished\");\n  }\n\n  function load_libs(css_urls, js_urls, callback) {\n    if (css_urls == null) css_urls = [];\n    if (js_urls == null) js_urls = [];\n\n    root._bokeh_onload_callbacks.push(callback);\n    if (root._bokeh_is_loading > 0) {\n      console.debug(\"Bokeh: BokehJS is being loaded, scheduling callback at\", now());\n      return null;\n    }\n    if (js_urls == null || js_urls.length === 0) {\n      run_callbacks();\n      return null;\n    }\n    console.debug(\"Bokeh: BokehJS not loaded, scheduling load and callback at\", now());\n    root._bokeh_is_loading = css_urls.length + js_urls.length;\n\n    function on_load() {\n      root._bokeh_is_loading--;\n      if (root._bokeh_is_loading === 0) {\n        console.debug(\"Bokeh: all BokehJS libraries/stylesheets loaded\");\n        run_callbacks()\n      }\n    }\n\n    function on_error(url) {\n      console.error(\"failed to load \" + url);\n    }\n\n    for (let i = 0; i < css_urls.length; i++) {\n      const url = css_urls[i];\n      const element = document.createElement(\"link\");\n      element.onload = on_load;\n      element.onerror = on_error.bind(null, url);\n      element.rel = \"stylesheet\";\n      element.type = \"text/css\";\n      element.href = url;\n      console.debug(\"Bokeh: injecting link tag for BokehJS stylesheet: \", url);\n      document.body.appendChild(element);\n    }\n\n    for (let i = 0; i < js_urls.length; i++) {\n      const url = js_urls[i];\n      const element = document.createElement('script');\n      element.onload = on_load;\n      element.onerror = on_error.bind(null, url);\n      element.async = false;\n      element.src = url;\n      console.debug(\"Bokeh: injecting script tag for BokehJS library: \", url);\n      document.head.appendChild(element);\n    }\n  };\n\n  function inject_raw_css(css) {\n    const element = document.createElement(\"style\");\n    element.appendChild(document.createTextNode(css));\n    document.body.appendChild(element);\n  }\n\n  \n  const js_urls = [\"https://cdn.bokeh.org/bokeh/release/bokeh-2.4.1.min.js\", \"https://cdn.bokeh.org/bokeh/release/bokeh-gl-2.4.1.min.js\", \"https://cdn.bokeh.org/bokeh/release/bokeh-widgets-2.4.1.min.js\", \"https://cdn.bokeh.org/bokeh/release/bokeh-tables-2.4.1.min.js\", \"https://cdn.bokeh.org/bokeh/release/bokeh-mathjax-2.4.1.min.js\"];\n  const css_urls = [];\n  \n\n  const inline_js = [\n    function(Bokeh) {\n      Bokeh.set_log_level(\"info\");\n    },\n    function(Bokeh) {\n    \n    \n    }\n  ];\n\n  function run_inline_js() {\n    \n    if (root.Bokeh !== undefined || force === true) {\n      \n    for (let i = 0; i < inline_js.length; i++) {\n      inline_js[i].call(root, root.Bokeh);\n    }\n    if (force === true) {\n        display_loaded();\n      }} else if (Date.now() < root._bokeh_timeout) {\n      setTimeout(run_inline_js, 100);\n    } else if (!root._bokeh_failed_load) {\n      console.log(\"Bokeh: BokehJS failed to load within specified timeout.\");\n      root._bokeh_failed_load = true;\n    } else if (force !== true) {\n      const cell = $(document.getElementById(\"8740\")).parents('.cell').data().cell;\n      cell.output_area.append_execute_result(NB_LOAD_WARNING)\n    }\n\n  }\n\n  if (root._bokeh_is_loading === 0) {\n    console.debug(\"Bokeh: BokehJS loaded, going straight to plotting\");\n    run_inline_js();\n  } else {\n    load_libs(css_urls, js_urls, function() {\n      console.debug(\"Bokeh: BokehJS plotting callback run at\", now());\n      run_inline_js();\n    });\n  }\n}(window));",
      "application/vnd.bokehjs_load.v0+json": ""
     },
     "metadata": {},
     "output_type": "display_data"
    }
   ],
   "source": [
    "import numpy as np\n",
    "from bokeh.plotting import figure \n",
    "from bokeh.io import output_notebook, show\n",
    "output_notebook()"
   ]
  },
  {
   "cell_type": "code",
   "execution_count": 129,
   "metadata": {},
   "outputs": [
    {
     "data": {
      "text/html": [
       "\n",
       "\n",
       "\n",
       "\n",
       "\n",
       "\n",
       "  <div class=\"bk-root\" id=\"adf6c15c-e85c-4353-b7a1-0d5624aeea85\" data-root-id=\"15793\"></div>\n"
      ]
     },
     "metadata": {},
     "output_type": "display_data"
    },
    {
     "data": {
      "application/javascript": "(function(root) {\n  function embed_document(root) {\n    \n  const docs_json = {\"df97d2cc-fb36-4c13-be05-56a684125095\":{\"defs\":[],\"roots\":{\"references\":[{\"attributes\":{\"below\":[{\"id\":\"15804\"}],\"center\":[{\"id\":\"15807\"},{\"id\":\"15811\"}],\"left\":[{\"id\":\"15808\"}],\"renderers\":[{\"id\":\"15830\"}],\"title\":{\"id\":\"15794\"},\"toolbar\":{\"id\":\"15819\"},\"x_range\":{\"id\":\"15796\"},\"x_scale\":{\"id\":\"15800\"},\"y_range\":{\"id\":\"15798\"},\"y_scale\":{\"id\":\"15802\"}},\"id\":\"15793\",\"subtype\":\"Figure\",\"type\":\"Plot\"},{\"attributes\":{\"data\":{\"x\":{\"__ndarray__\":\"AAAAAAAA8L8IH3zwwQfvvxA++OCDD+6/F1100UUX7b8ffPDBBx/svyebbLLJJuu/Lrrooosu6r822WSTTTbpvz744IMPPui/RhdddNFF579ONtlkk03mv1VVVVVVVeW/XXTRRRdd5L9lk0022WTjv2yyySabbOK/dNFFF1104b988MEHH3zgvwgffPDBB9+/GF100UUX3b8mm2yyySbbvzbZZJNNNtm/RhdddNFF179UVVVVVVXVv2STTTbZZNO/dNFFF1100b8IH3zwwQfPvyibbLLJJsu/RBdddNFFx79kk0022WTDvwgffPDBB7+/QBdddNFFt78AH3zwwQevvwAffPDBB5+/AAAAAAAAAAAAH3zwwQefPwAffPDBB68/QBdddNFFtz8QH3zwwQe/P2iTTTbZZMM/SBdddNFFxz8om2yyySbLPwgffPDBB88/dNFFF1100T9kk0022WTTP1hVVVVVVdU/SBdddNFF1z842WSTTTbZPyibbLLJJts/GF100UUX3T8IH3zwwQffP3zwwQcffOA/dNFFF1104T9ssskmm2ziP2aTTTbZZOM/XnTRRRdd5D9WVVVVVVXlP0422WSTTeY/RhdddNFF5z8++OCDDz7oPzbZZJNNNuk/MLrooosu6j8om2yyySbrPyB88MEHH+w/GF100UUX7T8QPvjggw/uPwgffPDBB+8/AAAAAAAA8D988MEHH3zwP/jggw8++PA/dNFFF1108T/wwQcffPDxP2yyySabbPI/6KKLLrro8j9mk0022WTzP+KDDz744PM/XnTRRRdd9D/aZJNNNtn0P1ZVVVVVVfU/0kUXXXTR9T9ONtlkk032P8omm2yyyfY/RhdddNFF9z/CBx988MH3Pz744IMPPvg/uuiiiy66+D822WSTTTb5P7LJJptssvk/Lrrooosu+j+sqqqqqqr6PyibbLLJJvs/pIsuuuii+z8gfPDBBx/8P5xssskmm/w/GF100UUX/T+UTTbZZJP9PxA++OCDD/4/jC666KKL/j8IH3zwwQf/P4QPPvjgg/8/AAAAAAAAAEA=\",\"dtype\":\"float64\",\"order\":\"little\",\"shape\":[100]},\"y\":{\"__ndarray__\":\"AAAAAAAAJMAgw6HMCpQiwHs02QWrOCHAZDegRRLbH8DLgGA1m2QdwGrURslBDRvAfMGm71bUGMBI19OWK7kWwAilIa0QuxTA/rnjIFfZEsBopW3gTxMRwAjtJbSX0A7ALHlO+DevC8C1DfxpIsEIwCHJ1eX4BAbA88mCSF15A8CoLqpu8RwBwIAr5mmu3P2/cDsJ8GDY+b8dygspPir2v4sUPM6Jz/K/aq/QMQ+L778sob2E9hLqv2N42wdRMeW/Bq/GLabg4L8gfjfS+jbav/pE7li8uNO/HE3VqT93zL+8LctWaGnDv3AnYAYhZLi/7ZvX5Vftqr8LfHQgtHqXv2Cmfq39BXe/AAAAAAAAAAAI+5LHkBx2v10lnVTap5W/pzncXYjZp78berFubb60v+cwVekts7+/kojemaBPxr9cdWZxcavNv2Aj2qKT69K/WPKc8G9e17+KmzSHXCPcv38J7SW0l+C/SSbjEdE7478nHhl6jPjlvxBrK9FtyOi/B4e2ifyl678B7FYWwIvuv/+J1PQfuvC/frwkuwEt8r94SmoXyZvzv/Bw88K5A/W/3mwOdxdi9r9CewntJbT3vx3ZMt4o9/i/asPYA2Qo+r8od0kXG0X7v1Ux09GRSvy/7i7E7As2/b/yrGohzQT+v2DoFCkZtP6/NB4RvTNB/79oi62WYKn/vwRtOG/j6f+/AAAAAAAAAMBYgVIC+uj/vwwufi8Vov+/JEPRQJUo/7+Q/ZnvvXn+v0yaJvXSkv2/XFbFChhx/L/AbsTp0BH7v3AgcktBcvm/eKgc6ayP97/IQxJ8V2f1v2Avob2E9vK/QKgXZ3g68L/g1odj7GDqv8Br6K2Dq+O/QBLbP3ye2L/Ao86wjBrBv4DqouoWz8E/oE8WROrK2z+AJFeX4xPoP2Ab+NNEgvE/UPKc8G9e9z8w2ktoL6H9P9hK28CfJgJAAHTHQa6yBUAYSkNaIXYJQJiupy1Xcg1AgMGm71bUEEBs1EbJQQ0TQNCAYDWbZBVAZDegRRLbF0D4aLILVnEaQECGQ5kVKB1AAAAAAAAAIEA=\",\"dtype\":\"float64\",\"order\":\"little\",\"shape\":[100]}},\"selected\":{\"id\":\"16197\"},\"selection_policy\":{\"id\":\"16196\"}},\"id\":\"15826\",\"type\":\"ColumnDataSource\"},{\"attributes\":{},\"id\":\"15816\",\"type\":\"ResetTool\"},{\"attributes\":{\"bottom_units\":\"screen\",\"coordinates\":null,\"fill_alpha\":0.5,\"fill_color\":\"lightgrey\",\"group\":null,\"left_units\":\"screen\",\"level\":\"overlay\",\"line_alpha\":1.0,\"line_color\":\"black\",\"line_dash\":[4,4],\"line_width\":2,\"right_units\":\"screen\",\"syncable\":false,\"top_units\":\"screen\"},\"id\":\"15818\",\"type\":\"BoxAnnotation\"},{\"attributes\":{\"line_color\":\"#1f77b4\",\"x\":{\"field\":\"x\"},\"y\":{\"field\":\"y\"}},\"id\":\"15827\",\"type\":\"Line\"},{\"attributes\":{},\"id\":\"16196\",\"type\":\"UnionRenderers\"},{\"attributes\":{\"coordinates\":null,\"data_source\":{\"id\":\"15826\"},\"glyph\":{\"id\":\"15827\"},\"group\":null,\"hover_glyph\":null,\"muted_glyph\":{\"id\":\"15829\"},\"nonselection_glyph\":{\"id\":\"15828\"},\"view\":{\"id\":\"15831\"}},\"id\":\"15830\",\"type\":\"GlyphRenderer\"},{\"attributes\":{},\"id\":\"16197\",\"type\":\"Selection\"},{\"attributes\":{},\"id\":\"15809\",\"type\":\"BasicTicker\"},{\"attributes\":{\"axis\":{\"id\":\"15808\"},\"coordinates\":null,\"dimension\":1,\"group\":null,\"ticker\":null},\"id\":\"15811\",\"type\":\"Grid\"},{\"attributes\":{},\"id\":\"15812\",\"type\":\"PanTool\"},{\"attributes\":{\"tools\":[{\"id\":\"15812\"},{\"id\":\"15813\"},{\"id\":\"15814\"},{\"id\":\"15815\"},{\"id\":\"15816\"},{\"id\":\"15817\"}]},\"id\":\"15819\",\"type\":\"Toolbar\"},{\"attributes\":{},\"id\":\"15798\",\"type\":\"DataRange1d\"},{\"attributes\":{\"line_alpha\":0.1,\"line_color\":\"#1f77b4\",\"x\":{\"field\":\"x\"},\"y\":{\"field\":\"y\"}},\"id\":\"15828\",\"type\":\"Line\"},{\"attributes\":{\"axis\":{\"id\":\"15804\"},\"coordinates\":null,\"group\":null,\"ticker\":null},\"id\":\"15807\",\"type\":\"Grid\"},{\"attributes\":{},\"id\":\"15815\",\"type\":\"SaveTool\"},{\"attributes\":{},\"id\":\"15817\",\"type\":\"HelpTool\"},{\"attributes\":{\"overlay\":{\"id\":\"15818\"}},\"id\":\"15814\",\"type\":\"BoxZoomTool\"},{\"attributes\":{},\"id\":\"15800\",\"type\":\"LinearScale\"},{\"attributes\":{},\"id\":\"15813\",\"type\":\"WheelZoomTool\"},{\"attributes\":{\"coordinates\":null,\"formatter\":{\"id\":\"16194\"},\"group\":null,\"major_label_policy\":{\"id\":\"16195\"},\"ticker\":{\"id\":\"15805\"}},\"id\":\"15804\",\"type\":\"LinearAxis\"},{\"attributes\":{\"line_alpha\":0.2,\"line_color\":\"#1f77b4\",\"x\":{\"field\":\"x\"},\"y\":{\"field\":\"y\"}},\"id\":\"15829\",\"type\":\"Line\"},{\"attributes\":{},\"id\":\"16195\",\"type\":\"AllLabels\"},{\"attributes\":{},\"id\":\"15802\",\"type\":\"LinearScale\"},{\"attributes\":{\"coordinates\":null,\"group\":null,\"text\":\"y=4x^3-6x^2\"},\"id\":\"15794\",\"type\":\"Title\"},{\"attributes\":{},\"id\":\"16192\",\"type\":\"AllLabels\"},{\"attributes\":{\"coordinates\":null,\"formatter\":{\"id\":\"16191\"},\"group\":null,\"major_label_policy\":{\"id\":\"16192\"},\"ticker\":{\"id\":\"15809\"}},\"id\":\"15808\",\"type\":\"LinearAxis\"},{\"attributes\":{},\"id\":\"15796\",\"type\":\"DataRange1d\"},{\"attributes\":{\"source\":{\"id\":\"15826\"}},\"id\":\"15831\",\"type\":\"CDSView\"},{\"attributes\":{},\"id\":\"15805\",\"type\":\"BasicTicker\"},{\"attributes\":{},\"id\":\"16194\",\"type\":\"BasicTickFormatter\"},{\"attributes\":{},\"id\":\"16191\",\"type\":\"BasicTickFormatter\"}],\"root_ids\":[\"15793\"]},\"title\":\"Bokeh Application\",\"version\":\"2.4.1\"}};\n  const render_items = [{\"docid\":\"df97d2cc-fb36-4c13-be05-56a684125095\",\"root_ids\":[\"15793\"],\"roots\":{\"15793\":\"adf6c15c-e85c-4353-b7a1-0d5624aeea85\"}}];\n  root.Bokeh.embed.embed_items_notebook(docs_json, render_items);\n\n  }\n  if (root.Bokeh !== undefined) {\n    embed_document(root);\n  } else {\n    let attempts = 0;\n    const timer = setInterval(function(root) {\n      if (root.Bokeh !== undefined) {\n        clearInterval(timer);\n        embed_document(root);\n      } else {\n        attempts++;\n        if (attempts > 100) {\n          clearInterval(timer);\n          console.log(\"Bokeh: ERROR: Unable to run BokehJS code because BokehJS library is missing\");\n        }\n      }\n    }, 10, root)\n  }\n})(window);",
      "application/vnd.bokehjs_exec.v0+json": ""
     },
     "metadata": {
      "application/vnd.bokehjs_exec.v0+json": {
       "id": "15793"
      }
     },
     "output_type": "display_data"
    }
   ],
   "source": [
    "x=np.linspace(-1,2,100)\n",
    "y=4*x**3-6*x**2\n",
    "pic=figure(title='y=4x^3-6x^2')\n",
    "pic.line(x=x,y=y)\n",
    "show(pic)"
   ]
  },
  {
   "cell_type": "code",
   "execution_count": 130,
   "metadata": {},
   "outputs": [],
   "source": [
    "def f(x):\n",
    "    return 4*x**3-6*x**2\n",
    "def fprime(x):\n",
    "    return 12*x**2-12*x"
   ]
  },
  {
   "cell_type": "code",
   "execution_count": 131,
   "metadata": {},
   "outputs": [
    {
     "name": "stdout",
     "output_type": "stream",
     "text": [
      "9 steps to reach -3.33181408445928e+26\n"
     ]
    }
   ],
   "source": [
    "x0=2\n",
    "xs=np.zeros(10)\n",
    "ys=np.zeros(10)\n",
    "for i in range(10):\n",
    "    x1 = x0 - .088 * fprime(x0)\n",
    "    if np.abs(x1-x0)<.001:\n",
    "        break\n",
    "    xs[i]=x0\n",
    "    ys[i] = f(x0)\n",
    "    x0=x1\n",
    "print('{} steps to reach {}'.format(i,x1))"
   ]
  },
  {
   "cell_type": "code",
   "execution_count": 132,
   "metadata": {},
   "outputs": [
    {
     "data": {
      "text/plain": [
       "array([ 2.00000000e+00, -1.12000000e-01, -2.43518464e-01, -5.63296074e-01,\n",
       "       -1.49320813e+00, -5.42456800e+00, -4.22267023e+01, -1.96976577e+03,\n",
       "       -4.10130576e+06, -1.77626771e+13])"
      ]
     },
     "execution_count": 132,
     "metadata": {},
     "output_type": "execute_result"
    }
   ],
   "source": [
    "xs"
   ]
  },
  {
   "cell_type": "code",
   "execution_count": 134,
   "metadata": {},
   "outputs": [
    {
     "data": {
      "text/html": [
       "\n",
       "\n",
       "\n",
       "\n",
       "\n",
       "\n",
       "  <div class=\"bk-root\" id=\"6256a4db-8931-4273-8d36-4862e7459c74\" data-root-id=\"15793\"></div>\n"
      ]
     },
     "metadata": {},
     "output_type": "display_data"
    },
    {
     "data": {
      "application/javascript": "(function(root) {\n  function embed_document(root) {\n    \n  const docs_json = {\"b4f9cb6b-aa5f-4efc-9a62-414f1e855458\":{\"defs\":[],\"roots\":{\"references\":[{\"attributes\":{\"below\":[{\"id\":\"15804\"}],\"center\":[{\"id\":\"15807\"},{\"id\":\"15811\"}],\"left\":[{\"id\":\"15808\"}],\"renderers\":[{\"id\":\"15830\"},{\"id\":\"16253\"},{\"id\":\"16688\"}],\"title\":{\"id\":\"15794\"},\"toolbar\":{\"id\":\"15819\"},\"x_range\":{\"id\":\"15796\"},\"x_scale\":{\"id\":\"15800\"},\"y_range\":{\"id\":\"15798\"},\"y_scale\":{\"id\":\"15802\"}},\"id\":\"15793\",\"subtype\":\"Figure\",\"type\":\"Plot\"},{\"attributes\":{\"fill_alpha\":{\"value\":0.2},\"fill_color\":{\"value\":\"red\"},\"hatch_alpha\":{\"value\":0.2},\"hatch_color\":{\"value\":\"red\"},\"line_alpha\":{\"value\":0.2},\"line_color\":{\"value\":\"red\"},\"x\":{\"field\":\"x\"},\"y\":{\"field\":\"y\"}},\"id\":\"16252\",\"type\":\"Scatter\"},{\"attributes\":{\"fill_alpha\":{\"value\":0.1},\"fill_color\":{\"value\":\"red\"},\"hatch_alpha\":{\"value\":0.1},\"hatch_color\":{\"value\":\"red\"},\"line_alpha\":{\"value\":0.1},\"line_color\":{\"value\":\"red\"},\"x\":{\"field\":\"x\"},\"y\":{\"field\":\"y\"}},\"id\":\"16251\",\"type\":\"Scatter\"},{\"attributes\":{\"data\":{\"x\":{\"__ndarray__\":\"AAAAAAAA8L8IH3zwwQfvvxA++OCDD+6/F1100UUX7b8ffPDBBx/svyebbLLJJuu/Lrrooosu6r822WSTTTbpvz744IMPPui/RhdddNFF579ONtlkk03mv1VVVVVVVeW/XXTRRRdd5L9lk0022WTjv2yyySabbOK/dNFFF1104b988MEHH3zgvwgffPDBB9+/GF100UUX3b8mm2yyySbbvzbZZJNNNtm/RhdddNFF179UVVVVVVXVv2STTTbZZNO/dNFFF1100b8IH3zwwQfPvyibbLLJJsu/RBdddNFFx79kk0022WTDvwgffPDBB7+/QBdddNFFt78AH3zwwQevvwAffPDBB5+/AAAAAAAAAAAAH3zwwQefPwAffPDBB68/QBdddNFFtz8QH3zwwQe/P2iTTTbZZMM/SBdddNFFxz8om2yyySbLPwgffPDBB88/dNFFF1100T9kk0022WTTP1hVVVVVVdU/SBdddNFF1z842WSTTTbZPyibbLLJJts/GF100UUX3T8IH3zwwQffP3zwwQcffOA/dNFFF1104T9ssskmm2ziP2aTTTbZZOM/XnTRRRdd5D9WVVVVVVXlP0422WSTTeY/RhdddNFF5z8++OCDDz7oPzbZZJNNNuk/MLrooosu6j8om2yyySbrPyB88MEHH+w/GF100UUX7T8QPvjggw/uPwgffPDBB+8/AAAAAAAA8D988MEHH3zwP/jggw8++PA/dNFFF1108T/wwQcffPDxP2yyySabbPI/6KKLLrro8j9mk0022WTzP+KDDz744PM/XnTRRRdd9D/aZJNNNtn0P1ZVVVVVVfU/0kUXXXTR9T9ONtlkk032P8omm2yyyfY/RhdddNFF9z/CBx988MH3Pz744IMPPvg/uuiiiy66+D822WSTTTb5P7LJJptssvk/Lrrooosu+j+sqqqqqqr6PyibbLLJJvs/pIsuuuii+z8gfPDBBx/8P5xssskmm/w/GF100UUX/T+UTTbZZJP9PxA++OCDD/4/jC666KKL/j8IH3zwwQf/P4QPPvjgg/8/AAAAAAAAAEA=\",\"dtype\":\"float64\",\"order\":\"little\",\"shape\":[100]},\"y\":{\"__ndarray__\":\"AAAAAAAAJMAgw6HMCpQiwHs02QWrOCHAZDegRRLbH8DLgGA1m2QdwGrURslBDRvAfMGm71bUGMBI19OWK7kWwAilIa0QuxTA/rnjIFfZEsBopW3gTxMRwAjtJbSX0A7ALHlO+DevC8C1DfxpIsEIwCHJ1eX4BAbA88mCSF15A8CoLqpu8RwBwIAr5mmu3P2/cDsJ8GDY+b8dygspPir2v4sUPM6Jz/K/aq/QMQ+L778sob2E9hLqv2N42wdRMeW/Bq/GLabg4L8gfjfS+jbav/pE7li8uNO/HE3VqT93zL+8LctWaGnDv3AnYAYhZLi/7ZvX5Vftqr8LfHQgtHqXv2Cmfq39BXe/AAAAAAAAAAAI+5LHkBx2v10lnVTap5W/pzncXYjZp78berFubb60v+cwVekts7+/kojemaBPxr9cdWZxcavNv2Aj2qKT69K/WPKc8G9e17+KmzSHXCPcv38J7SW0l+C/SSbjEdE7478nHhl6jPjlvxBrK9FtyOi/B4e2ifyl678B7FYWwIvuv/+J1PQfuvC/frwkuwEt8r94SmoXyZvzv/Bw88K5A/W/3mwOdxdi9r9CewntJbT3vx3ZMt4o9/i/asPYA2Qo+r8od0kXG0X7v1Ux09GRSvy/7i7E7As2/b/yrGohzQT+v2DoFCkZtP6/NB4RvTNB/79oi62WYKn/vwRtOG/j6f+/AAAAAAAAAMBYgVIC+uj/vwwufi8Vov+/JEPRQJUo/7+Q/ZnvvXn+v0yaJvXSkv2/XFbFChhx/L/AbsTp0BH7v3AgcktBcvm/eKgc6ayP97/IQxJ8V2f1v2Avob2E9vK/QKgXZ3g68L/g1odj7GDqv8Br6K2Dq+O/QBLbP3ye2L/Ao86wjBrBv4DqouoWz8E/oE8WROrK2z+AJFeX4xPoP2Ab+NNEgvE/UPKc8G9e9z8w2ktoL6H9P9hK28CfJgJAAHTHQa6yBUAYSkNaIXYJQJiupy1Xcg1AgMGm71bUEEBs1EbJQQ0TQNCAYDWbZBVAZDegRRLbF0D4aLILVnEaQECGQ5kVKB1AAAAAAAAAIEA=\",\"dtype\":\"float64\",\"order\":\"little\",\"shape\":[100]}},\"selected\":{\"id\":\"16197\"},\"selection_policy\":{\"id\":\"16196\"}},\"id\":\"15826\",\"type\":\"ColumnDataSource\"},{\"attributes\":{\"data\":{\"x\":{\"__ndarray__\":\"AAAAAAAAAECA6SYxCKy8v2QTbe+cK8+/\",\"dtype\":\"float64\",\"order\":\"little\",\"shape\":[3]},\"y\":{\"__ndarray__\":\"AAAAAAAAIEBzr9GBy7S0vzEbeYXzd9q/\",\"dtype\":\"float64\",\"order\":\"little\",\"shape\":[3]}},\"selected\":{\"id\":\"16622\"},\"selection_policy\":{\"id\":\"16621\"}},\"id\":\"16249\",\"type\":\"ColumnDataSource\"},{\"attributes\":{},\"id\":\"15816\",\"type\":\"ResetTool\"},{\"attributes\":{\"bottom_units\":\"screen\",\"coordinates\":null,\"fill_alpha\":0.5,\"fill_color\":\"lightgrey\",\"group\":null,\"left_units\":\"screen\",\"level\":\"overlay\",\"line_alpha\":1.0,\"line_color\":\"black\",\"line_dash\":[4,4],\"line_width\":2,\"right_units\":\"screen\",\"syncable\":false,\"top_units\":\"screen\"},\"id\":\"15818\",\"type\":\"BoxAnnotation\"},{\"attributes\":{\"fill_color\":{\"value\":\"red\"},\"hatch_color\":{\"value\":\"red\"},\"line_color\":{\"value\":\"red\"},\"x\":{\"field\":\"x\"},\"y\":{\"field\":\"y\"}},\"id\":\"16685\",\"type\":\"Scatter\"},{\"attributes\":{\"line_color\":\"#1f77b4\",\"x\":{\"field\":\"x\"},\"y\":{\"field\":\"y\"}},\"id\":\"15827\",\"type\":\"Line\"},{\"attributes\":{},\"id\":\"16196\",\"type\":\"UnionRenderers\"},{\"attributes\":{\"coordinates\":null,\"data_source\":{\"id\":\"15826\"},\"glyph\":{\"id\":\"15827\"},\"group\":null,\"hover_glyph\":null,\"muted_glyph\":{\"id\":\"15829\"},\"nonselection_glyph\":{\"id\":\"15828\"},\"view\":{\"id\":\"15831\"}},\"id\":\"15830\",\"type\":\"GlyphRenderer\"},{\"attributes\":{},\"id\":\"16197\",\"type\":\"Selection\"},{\"attributes\":{\"source\":{\"id\":\"16684\"}},\"id\":\"16689\",\"type\":\"CDSView\"},{\"attributes\":{},\"id\":\"15809\",\"type\":\"BasicTicker\"},{\"attributes\":{\"axis\":{\"id\":\"15808\"},\"coordinates\":null,\"dimension\":1,\"group\":null,\"ticker\":null},\"id\":\"15811\",\"type\":\"Grid\"},{\"attributes\":{},\"id\":\"16622\",\"type\":\"Selection\"},{\"attributes\":{\"tools\":[{\"id\":\"15812\"},{\"id\":\"15813\"},{\"id\":\"15814\"},{\"id\":\"15815\"},{\"id\":\"15816\"},{\"id\":\"15817\"}]},\"id\":\"15819\",\"type\":\"Toolbar\"},{\"attributes\":{},\"id\":\"15812\",\"type\":\"PanTool\"},{\"attributes\":{\"coordinates\":null,\"data_source\":{\"id\":\"16684\"},\"glyph\":{\"id\":\"16685\"},\"group\":null,\"hover_glyph\":null,\"muted_glyph\":{\"id\":\"16687\"},\"nonselection_glyph\":{\"id\":\"16686\"},\"view\":{\"id\":\"16689\"}},\"id\":\"16688\",\"type\":\"GlyphRenderer\"},{\"attributes\":{\"fill_alpha\":{\"value\":0.1},\"fill_color\":{\"value\":\"red\"},\"hatch_alpha\":{\"value\":0.1},\"hatch_color\":{\"value\":\"red\"},\"line_alpha\":{\"value\":0.1},\"line_color\":{\"value\":\"red\"},\"x\":{\"field\":\"x\"},\"y\":{\"field\":\"y\"}},\"id\":\"16686\",\"type\":\"Scatter\"},{\"attributes\":{},\"id\":\"15798\",\"type\":\"DataRange1d\"},{\"attributes\":{\"line_alpha\":0.1,\"line_color\":\"#1f77b4\",\"x\":{\"field\":\"x\"},\"y\":{\"field\":\"y\"}},\"id\":\"15828\",\"type\":\"Line\"},{\"attributes\":{\"axis\":{\"id\":\"15804\"},\"coordinates\":null,\"group\":null,\"ticker\":null},\"id\":\"15807\",\"type\":\"Grid\"},{\"attributes\":{\"source\":{\"id\":\"16249\"}},\"id\":\"16254\",\"type\":\"CDSView\"},{\"attributes\":{},\"id\":\"15815\",\"type\":\"SaveTool\"},{\"attributes\":{},\"id\":\"15817\",\"type\":\"HelpTool\"},{\"attributes\":{\"overlay\":{\"id\":\"15818\"}},\"id\":\"15814\",\"type\":\"BoxZoomTool\"},{\"attributes\":{},\"id\":\"15800\",\"type\":\"LinearScale\"},{\"attributes\":{},\"id\":\"15813\",\"type\":\"WheelZoomTool\"},{\"attributes\":{\"coordinates\":null,\"formatter\":{\"id\":\"16194\"},\"group\":null,\"major_label_policy\":{\"id\":\"16195\"},\"ticker\":{\"id\":\"15805\"}},\"id\":\"15804\",\"type\":\"LinearAxis\"},{\"attributes\":{\"line_alpha\":0.2,\"line_color\":\"#1f77b4\",\"x\":{\"field\":\"x\"},\"y\":{\"field\":\"y\"}},\"id\":\"15829\",\"type\":\"Line\"},{\"attributes\":{},\"id\":\"16195\",\"type\":\"AllLabels\"},{\"attributes\":{},\"id\":\"15802\",\"type\":\"LinearScale\"},{\"attributes\":{\"coordinates\":null,\"group\":null,\"text\":\"y=4x^3-6x^2\"},\"id\":\"15794\",\"type\":\"Title\"},{\"attributes\":{\"fill_color\":{\"value\":\"red\"},\"hatch_color\":{\"value\":\"red\"},\"line_color\":{\"value\":\"red\"},\"x\":{\"field\":\"x\"},\"y\":{\"field\":\"y\"}},\"id\":\"16250\",\"type\":\"Scatter\"},{\"attributes\":{\"coordinates\":null,\"formatter\":{\"id\":\"16191\"},\"group\":null,\"major_label_policy\":{\"id\":\"16192\"},\"ticker\":{\"id\":\"15809\"}},\"id\":\"15808\",\"type\":\"LinearAxis\"},{\"attributes\":{},\"id\":\"16192\",\"type\":\"AllLabels\"},{\"attributes\":{},\"id\":\"15796\",\"type\":\"DataRange1d\"},{\"attributes\":{\"fill_alpha\":{\"value\":0.2},\"fill_color\":{\"value\":\"red\"},\"hatch_alpha\":{\"value\":0.2},\"hatch_color\":{\"value\":\"red\"},\"line_alpha\":{\"value\":0.2},\"line_color\":{\"value\":\"red\"},\"x\":{\"field\":\"x\"},\"y\":{\"field\":\"y\"}},\"id\":\"16687\",\"type\":\"Scatter\"},{\"attributes\":{},\"id\":\"17058\",\"type\":\"UnionRenderers\"},{\"attributes\":{\"coordinates\":null,\"data_source\":{\"id\":\"16249\"},\"glyph\":{\"id\":\"16250\"},\"group\":null,\"hover_glyph\":null,\"muted_glyph\":{\"id\":\"16252\"},\"nonselection_glyph\":{\"id\":\"16251\"},\"view\":{\"id\":\"16254\"}},\"id\":\"16253\",\"type\":\"GlyphRenderer\"},{\"attributes\":{\"source\":{\"id\":\"15826\"}},\"id\":\"15831\",\"type\":\"CDSView\"},{\"attributes\":{},\"id\":\"15805\",\"type\":\"BasicTicker\"},{\"attributes\":{},\"id\":\"17059\",\"type\":\"Selection\"},{\"attributes\":{},\"id\":\"16194\",\"type\":\"BasicTickFormatter\"},{\"attributes\":{},\"id\":\"16191\",\"type\":\"BasicTickFormatter\"},{\"attributes\":{},\"id\":\"16621\",\"type\":\"UnionRenderers\"},{\"attributes\":{\"data\":{\"x\":{\"__ndarray__\":\"AAAAAAAAAECA6SYxCKy8v2QTbe+cK8+/hILmfIUG4r8=\",\"dtype\":\"float64\",\"order\":\"little\",\"shape\":[4]},\"y\":{\"__ndarray__\":\"AAAAAAAAIEBzr9GBy7S0vzEbeYXzd9q/FF0XNTbzBMA=\",\"dtype\":\"float64\",\"order\":\"little\",\"shape\":[4]}},\"selected\":{\"id\":\"17059\"},\"selection_policy\":{\"id\":\"17058\"}},\"id\":\"16684\",\"type\":\"ColumnDataSource\"}],\"root_ids\":[\"15793\"]},\"title\":\"Bokeh Application\",\"version\":\"2.4.1\"}};\n  const render_items = [{\"docid\":\"b4f9cb6b-aa5f-4efc-9a62-414f1e855458\",\"root_ids\":[\"15793\"],\"roots\":{\"15793\":\"6256a4db-8931-4273-8d36-4862e7459c74\"}}];\n  root.Bokeh.embed.embed_items_notebook(docs_json, render_items);\n\n  }\n  if (root.Bokeh !== undefined) {\n    embed_document(root);\n  } else {\n    let attempts = 0;\n    const timer = setInterval(function(root) {\n      if (root.Bokeh !== undefined) {\n        clearInterval(timer);\n        embed_document(root);\n      } else {\n        attempts++;\n        if (attempts > 100) {\n          clearInterval(timer);\n          console.log(\"Bokeh: ERROR: Unable to run BokehJS code because BokehJS library is missing\");\n        }\n      }\n    }, 10, root)\n  }\n})(window);",
      "application/vnd.bokehjs_exec.v0+json": ""
     },
     "metadata": {
      "application/vnd.bokehjs_exec.v0+json": {
       "id": "15793"
      }
     },
     "output_type": "display_data"
    }
   ],
   "source": [
    "pic.scatter(x=xs[:4],y=ys[:4],color='red')\n",
    "show(pic)"
   ]
  },
  {
   "cell_type": "code",
   "execution_count": 96,
   "metadata": {},
   "outputs": [
    {
     "ename": "OverflowError",
     "evalue": "(34, 'Numerical result out of range')",
     "output_type": "error",
     "traceback": [
      "\u001b[0;31m---------------------------------------------------------------------------\u001b[0m",
      "\u001b[0;31mOverflowError\u001b[0m                             Traceback (most recent call last)",
      "\u001b[0;32m/tmp/ipykernel_403373/3034179591.py\u001b[0m in \u001b[0;36m<module>\u001b[0;34m\u001b[0m\n\u001b[1;32m      7\u001b[0m \u001b[0mys\u001b[0m\u001b[0;34m=\u001b[0m\u001b[0mnp\u001b[0m\u001b[0;34m.\u001b[0m\u001b[0mzeros\u001b[0m\u001b[0;34m(\u001b[0m\u001b[0;36m10\u001b[0m\u001b[0;34m)\u001b[0m\u001b[0;34m\u001b[0m\u001b[0;34m\u001b[0m\u001b[0m\n\u001b[1;32m      8\u001b[0m \u001b[0;32mfor\u001b[0m \u001b[0mi\u001b[0m \u001b[0;32min\u001b[0m \u001b[0mrange\u001b[0m\u001b[0;34m(\u001b[0m\u001b[0;36m10\u001b[0m\u001b[0;34m)\u001b[0m\u001b[0;34m:\u001b[0m\u001b[0;34m\u001b[0m\u001b[0;34m\u001b[0m\u001b[0m\n\u001b[0;32m----> 9\u001b[0;31m     \u001b[0mx1\u001b[0m \u001b[0;34m=\u001b[0m \u001b[0mx0\u001b[0m \u001b[0;34m-\u001b[0m \u001b[0;36m.1\u001b[0m \u001b[0;34m*\u001b[0m \u001b[0mfprime\u001b[0m\u001b[0;34m(\u001b[0m\u001b[0mx0\u001b[0m\u001b[0;34m)\u001b[0m\u001b[0;34m\u001b[0m\u001b[0;34m\u001b[0m\u001b[0m\n\u001b[0m\u001b[1;32m     10\u001b[0m     \u001b[0mxs\u001b[0m\u001b[0;34m[\u001b[0m\u001b[0mi\u001b[0m\u001b[0;34m]\u001b[0m\u001b[0;34m=\u001b[0m\u001b[0mx0\u001b[0m\u001b[0;34m\u001b[0m\u001b[0;34m\u001b[0m\u001b[0m\n\u001b[1;32m     11\u001b[0m     \u001b[0mys\u001b[0m\u001b[0;34m[\u001b[0m\u001b[0mi\u001b[0m\u001b[0;34m]\u001b[0m \u001b[0;34m=\u001b[0m \u001b[0mf\u001b[0m\u001b[0;34m(\u001b[0m\u001b[0mx0\u001b[0m\u001b[0;34m)\u001b[0m\u001b[0;34m\u001b[0m\u001b[0;34m\u001b[0m\u001b[0m\n",
      "\u001b[0;32m/tmp/ipykernel_403373/3543412309.py\u001b[0m in \u001b[0;36mfprime\u001b[0;34m(x)\u001b[0m\n\u001b[1;32m      2\u001b[0m     \u001b[0;32mreturn\u001b[0m \u001b[0;36m4\u001b[0m\u001b[0;34m*\u001b[0m\u001b[0mx\u001b[0m\u001b[0;34m**\u001b[0m\u001b[0;36m3\u001b[0m\u001b[0;34m-\u001b[0m\u001b[0;36m6\u001b[0m\u001b[0;34m*\u001b[0m\u001b[0mx\u001b[0m\u001b[0;34m**\u001b[0m\u001b[0;36m2\u001b[0m\u001b[0;34m\u001b[0m\u001b[0;34m\u001b[0m\u001b[0m\n\u001b[1;32m      3\u001b[0m \u001b[0;32mdef\u001b[0m \u001b[0mfprime\u001b[0m\u001b[0;34m(\u001b[0m\u001b[0mx\u001b[0m\u001b[0;34m)\u001b[0m\u001b[0;34m:\u001b[0m\u001b[0;34m\u001b[0m\u001b[0;34m\u001b[0m\u001b[0m\n\u001b[0;32m----> 4\u001b[0;31m     \u001b[0;32mreturn\u001b[0m \u001b[0;36m12\u001b[0m\u001b[0;34m*\u001b[0m\u001b[0mx\u001b[0m\u001b[0;34m**\u001b[0m\u001b[0;36m2\u001b[0m\u001b[0;34m-\u001b[0m\u001b[0;36m12\u001b[0m\u001b[0;34m*\u001b[0m\u001b[0mx\u001b[0m\u001b[0;34m\u001b[0m\u001b[0;34m\u001b[0m\u001b[0m\n\u001b[0m",
      "\u001b[0;31mOverflowError\u001b[0m: (34, 'Numerical result out of range')"
     ]
    }
   ],
   "source": [
    "x=np.linspace(-1,2,100)\n",
    "y=4*x**3-6*x**2\n",
    "pic=figure(title='Gradient Descent from x=2 on y=4x^3-6x^2, nu=.01')\n",
    "pic.line(x=x,y=y)\n",
    "x0=-1\n",
    "xs=np.zeros(10)\n",
    "ys=np.zeros(10)\n",
    "for i in range(10):\n",
    "    x1 = x0 - .1 * fprime(x0)\n",
    "    xs[i]=x0\n",
    "    ys[i] = f(x0)\n",
    "    x0=x1\n",
    "pic.scatter(x=xs,y=ys)\n",
    "show(pic)"
   ]
  },
  {
   "cell_type": "code",
   "execution_count": 91,
   "metadata": {},
   "outputs": [
    {
     "data": {
      "text/plain": [
       "array([-1.00000000e+00, -2.20000000e+00, -6.42400000e+00, -3.50390656e+01,\n",
       "       -7.92704176e+02, -3.78296273e+05, -8.58654473e+10, -4.42372503e+21,\n",
       "       -1.17416059e+43, -8.27191851e+85])"
      ]
     },
     "execution_count": 91,
     "metadata": {},
     "output_type": "execute_result"
    }
   ],
   "source": [
    "xs"
   ]
  },
  {
   "cell_type": "code",
   "execution_count": 110,
   "metadata": {},
   "outputs": [
    {
     "name": "stdout",
     "output_type": "stream",
     "text": [
      "2.00\n",
      "-0.11\n",
      "-0.24\n",
      "-0.56\n",
      "-1.49\n",
      "-5.42\n",
      "-42.23\n",
      "-1969.77\n",
      "-4101305.76\n",
      "-17762677089671.55\n"
     ]
    }
   ],
   "source": [
    "for x in xs:\n",
    "    print('{:.2f}'.format(x))"
   ]
  },
  {
   "cell_type": "code",
   "execution_count": 79,
   "metadata": {},
   "outputs": [
    {
     "data": {
      "text/html": [
       "\n",
       "\n",
       "\n",
       "\n",
       "\n",
       "\n",
       "  <div class=\"bk-root\" id=\"07a81504-c7e2-497f-88e3-b1c5f401353a\" data-root-id=\"9788\"></div>\n"
      ]
     },
     "metadata": {},
     "output_type": "display_data"
    },
    {
     "data": {
      "application/javascript": "(function(root) {\n  function embed_document(root) {\n    \n  const docs_json = {\"2f8c7678-eb16-4505-a2ca-9242c302004d\":{\"defs\":[],\"roots\":{\"references\":[{\"attributes\":{\"below\":[{\"id\":\"9799\"}],\"center\":[{\"id\":\"9802\"},{\"id\":\"9806\"}],\"left\":[{\"id\":\"9803\"}],\"renderers\":[{\"id\":\"9825\"}],\"title\":{\"id\":\"9789\"},\"toolbar\":{\"id\":\"9814\"},\"x_range\":{\"id\":\"9791\"},\"x_scale\":{\"id\":\"9795\"},\"y_range\":{\"id\":\"9793\"},\"y_scale\":{\"id\":\"9797\"}},\"id\":\"9788\",\"subtype\":\"Figure\",\"type\":\"Plot\"},{\"attributes\":{},\"id\":\"10104\",\"type\":\"BasicTickFormatter\"},{\"attributes\":{},\"id\":\"10107\",\"type\":\"BasicTickFormatter\"},{\"attributes\":{},\"id\":\"10108\",\"type\":\"AllLabels\"},{\"attributes\":{},\"id\":\"9811\",\"type\":\"ResetTool\"},{\"attributes\":{},\"id\":\"9810\",\"type\":\"SaveTool\"},{\"attributes\":{\"overlay\":{\"id\":\"9813\"}},\"id\":\"9809\",\"type\":\"BoxZoomTool\"},{\"attributes\":{},\"id\":\"10105\",\"type\":\"AllLabels\"},{\"attributes\":{},\"id\":\"9791\",\"type\":\"DataRange1d\"},{\"attributes\":{},\"id\":\"9807\",\"type\":\"PanTool\"},{\"attributes\":{},\"id\":\"9808\",\"type\":\"WheelZoomTool\"},{\"attributes\":{},\"id\":\"9804\",\"type\":\"BasicTicker\"},{\"attributes\":{\"axis\":{\"id\":\"9803\"},\"coordinates\":null,\"dimension\":1,\"group\":null,\"ticker\":null},\"id\":\"9806\",\"type\":\"Grid\"},{\"attributes\":{},\"id\":\"10109\",\"type\":\"UnionRenderers\"},{\"attributes\":{},\"id\":\"9812\",\"type\":\"HelpTool\"},{\"attributes\":{\"coordinates\":null,\"formatter\":{\"id\":\"10107\"},\"group\":null,\"major_label_policy\":{\"id\":\"10108\"},\"ticker\":{\"id\":\"9800\"}},\"id\":\"9799\",\"type\":\"LinearAxis\"},{\"attributes\":{},\"id\":\"10110\",\"type\":\"Selection\"},{\"attributes\":{},\"id\":\"9795\",\"type\":\"LinearScale\"},{\"attributes\":{\"line_color\":\"#1f77b4\",\"x\":{\"field\":\"x\"},\"y\":{\"field\":\"y\"}},\"id\":\"9822\",\"type\":\"Line\"},{\"attributes\":{\"axis\":{\"id\":\"9799\"},\"coordinates\":null,\"group\":null,\"ticker\":null},\"id\":\"9802\",\"type\":\"Grid\"},{\"attributes\":{},\"id\":\"9800\",\"type\":\"BasicTicker\"},{\"attributes\":{\"data\":{\"x\":{\"__ndarray__\":\"AAAAAAAAAMAFav1KgVr/vwrU+pUCtf6/ED744IMP/r8VqPUrBWr9vxoS83aGxPy/H3zwwQcf/L8k5u0MiXn7vylQ61cK1Pq/Lrrooosu+r80JObtDIn5vzmO4ziO4/i/Pvjggw8++L9DYt7OkJj3v0jM2xkS8/a/TjbZZJNN9r9SoNavFKj1v1gK1PqVAvW/XXTRRRdd9L9i3s6QmLfzv2dIzNsZEvO/bLLJJpts8r9yHMdxHMfxv3aGxLydIfG/fPDBBx988L8CtX6lQK3vvwyJeTtDYu6/Fl100UUX7b8gMW9nSMzrvywFav1Kgeq/Ntlkk0026b9ArV8pUOvnv0qBWr9SoOa/VFVVVVVV5b9eKVDrVwrkv2j9SoFav+K/dNFFF1104b9+pUCtXyngvxDzdobEvN2/JJtssskm2784Q2LezpDYv0zrVwrU+tW/ZJNNNtlk0794O0Ni3s7QvxjHcRzHccy/QBdddNFFx79oZ0jM2xnCvyBvZ0jM27m/AB988MEHr79Av1Kg1q+Uv4C/UqDWr5Q/QB988MEHrz9Ab2dIzNu5P3BnSMzbGcI/UBdddNFFxz8gx3Ecx3HMP4A7Q2LeztA/aJNNNtlk0z9Q61cK1PrVP0BDYt7OkNg/KJtssskm2z8Y83aGxLzdP4ClQK1fKeA/eNFFF1104T9s/UqBWr/iP2ApUOtXCuQ/WFVVVVVV5T9MgVq/UqDmP0StXylQ6+c/ONlkk0026T8wBWr9SoHqPyQxb2dIzOs/GF100UUX7T8QiXk7Q2LuPwS1fqVAre8/fvDBBx988D94hsS8nSHxP3Icx3Ecx/E/brLJJpts8j9oSMzbGRLzP2TezpCYt/M/XnTRRRdd9D9aCtT6lQL1P1Sg1q8UqPU/TjbZZJNN9j9KzNsZEvP2P0Ri3s6QmPc/QPjggw8++D86juM4juP4PzYk5u0Mifk/MLrooosu+j8qUOtXCtT6Pybm7QyJefs/IHzwwQcf/D8cEvN2hsT8Pxao9SsFav0/ED744IMP/j8M1PqVArX+PwZq/UqBWv8/AAAAAAAAAEA=\",\"dtype\":\"float64\",\"order\":\"little\",\"shape\":[100]},\"y\":{\"__ndarray__\":\"AAAAAAAATMB89i4Q35FKwLnLZ9oTMEnAAvZaf2raR8Ci67gfr5BGwOIiMtytUkXAEhJ31TIgRMB8LzgsCvlCwGzxJQEA3UHALs7wdODLQMAeeJJQ74o/wK5iv3cjkz3Ap0jJoPWvO8CiFhEN/uA5wDS59/3UJTjA+BzetBJ+NsB+LiVzT+k0wGjaLXojZzPARQ1ZCyf3McCwswdo8pgwwH10NaM7mC7AFBvmEoMgLMBUNOOh68kpwGOZ7tKlkyfAfSPKKOJ8JcDHqzcm0YQjwHQL+U2jqiHAYDegRRLbH8Bba/1OZpkcwDZljb2jjhnASNfTliu5FsDwc1TgXhcUwJDtkp+epxHABu0ltJfQDsBMgrAqj68KwLL/zK3l6AbA88mCSF15A8DERdkFuF0AwMavr+FvJfu/GcoLKT4q9r/3o9X3XsPxv6wNOMis1Ou/Y3jbB1Ex5b/WNWa1ZR/fv3oQudm0xdW/EE3VqT93zL+6O2z+bc7Av0RxWsMqurC/C3x0ILR6l78V/6KBhVRkvxp03gIyymO/tSWdVNqnlb9IYVU4qTutv7bADQYt0ru/oYjemaBPxr9TTomhVCfQvy20jJco2dW/lps0h1wj3L87FV5kAHbhv2BDL9qSDOW/EGsr0W3I6L9SH3B1mZzsv3x5jfkOPvC/g7wkuwEt8r8ooowVqRT0v+zz0x6J7vW/R3sJ7SW097+jATyWA1/5v4NQejCm6Pq/WDHT0ZFK/L+abVWQSn79v7rOD4JUff6/NB4RvTNB/79+JWhXbMP/vw6uI2eC/f+/WIFSAvro/7/caAM/V3//vwAuRTMeuv6/RJom9dKS/b8kd7aa+QL8vwiOAzoWBPq/eKgc6ayP97/YjxC+QZ/0v7AN7s5YLPG/4NaHY+xg6r8Q5UH5O0rhv4BjnyyiHsy/QOui6hbPwT/AQhKsBjXhP4As9xwSSe8/cPKc8G9e9z9wbF7ms87/P3Cd2GzofQRAGEpDWiF2CUCI12ewQtMOQHhwHzJFTBJA0IBgNZtkFUBwanNcQrQYQPR61KHZPBxAAAAAAAAAIEA=\",\"dtype\":\"float64\",\"order\":\"little\",\"shape\":[100]}},\"selected\":{\"id\":\"10110\"},\"selection_policy\":{\"id\":\"10109\"}},\"id\":\"9821\",\"type\":\"ColumnDataSource\"},{\"attributes\":{},\"id\":\"9793\",\"type\":\"DataRange1d\"},{\"attributes\":{},\"id\":\"9797\",\"type\":\"LinearScale\"},{\"attributes\":{\"line_alpha\":0.1,\"line_color\":\"#1f77b4\",\"x\":{\"field\":\"x\"},\"y\":{\"field\":\"y\"}},\"id\":\"9823\",\"type\":\"Line\"},{\"attributes\":{\"coordinates\":null,\"group\":null,\"text\":\"y=4x^3-6x^2\"},\"id\":\"9789\",\"type\":\"Title\"},{\"attributes\":{\"coordinates\":null,\"formatter\":{\"id\":\"10104\"},\"group\":null,\"major_label_policy\":{\"id\":\"10105\"},\"ticker\":{\"id\":\"9804\"}},\"id\":\"9803\",\"type\":\"LinearAxis\"},{\"attributes\":{\"bottom_units\":\"screen\",\"coordinates\":null,\"fill_alpha\":0.5,\"fill_color\":\"lightgrey\",\"group\":null,\"left_units\":\"screen\",\"level\":\"overlay\",\"line_alpha\":1.0,\"line_color\":\"black\",\"line_dash\":[4,4],\"line_width\":2,\"right_units\":\"screen\",\"syncable\":false,\"top_units\":\"screen\"},\"id\":\"9813\",\"type\":\"BoxAnnotation\"},{\"attributes\":{\"coordinates\":null,\"data_source\":{\"id\":\"9821\"},\"glyph\":{\"id\":\"9822\"},\"group\":null,\"hover_glyph\":null,\"muted_glyph\":{\"id\":\"9824\"},\"nonselection_glyph\":{\"id\":\"9823\"},\"view\":{\"id\":\"9826\"}},\"id\":\"9825\",\"type\":\"GlyphRenderer\"},{\"attributes\":{\"tools\":[{\"id\":\"9807\"},{\"id\":\"9808\"},{\"id\":\"9809\"},{\"id\":\"9810\"},{\"id\":\"9811\"},{\"id\":\"9812\"}]},\"id\":\"9814\",\"type\":\"Toolbar\"},{\"attributes\":{\"source\":{\"id\":\"9821\"}},\"id\":\"9826\",\"type\":\"CDSView\"},{\"attributes\":{\"line_alpha\":0.2,\"line_color\":\"#1f77b4\",\"x\":{\"field\":\"x\"},\"y\":{\"field\":\"y\"}},\"id\":\"9824\",\"type\":\"Line\"}],\"root_ids\":[\"9788\"]},\"title\":\"Bokeh Application\",\"version\":\"2.4.1\"}};\n  const render_items = [{\"docid\":\"2f8c7678-eb16-4505-a2ca-9242c302004d\",\"root_ids\":[\"9788\"],\"roots\":{\"9788\":\"07a81504-c7e2-497f-88e3-b1c5f401353a\"}}];\n  root.Bokeh.embed.embed_items_notebook(docs_json, render_items);\n\n  }\n  if (root.Bokeh !== undefined) {\n    embed_document(root);\n  } else {\n    let attempts = 0;\n    const timer = setInterval(function(root) {\n      if (root.Bokeh !== undefined) {\n        clearInterval(timer);\n        embed_document(root);\n      } else {\n        attempts++;\n        if (attempts > 100) {\n          clearInterval(timer);\n          console.log(\"Bokeh: ERROR: Unable to run BokehJS code because BokehJS library is missing\");\n        }\n      }\n    }, 10, root)\n  }\n})(window);",
      "application/vnd.bokehjs_exec.v0+json": ""
     },
     "metadata": {
      "application/vnd.bokehjs_exec.v0+json": {
       "id": "9788"
      }
     },
     "output_type": "display_data"
    }
   ],
   "source": [
    "x=np.linspace(-2,2,100)\n",
    "y=4*x**3-6*x**2\n",
    "pic=figure(title='y=4x^3-6x^2')\n",
    "pic.line(x=x,y=y)\n",
    "show(pic)"
   ]
  },
  {
   "cell_type": "code",
   "execution_count": 81,
   "metadata": {},
   "outputs": [
    {
     "data": {
      "text/plain": [
       "(24, -10)"
      ]
     },
     "execution_count": 81,
     "metadata": {},
     "output_type": "execute_result"
    }
   ],
   "source": [
    "fprime(-1),f(-1)"
   ]
  },
  {
   "cell_type": "code",
   "execution_count": 87,
   "metadata": {},
   "outputs": [],
   "source": [
    "xline=np.linspace(-2,-1,10)\n",
    "yline=24*(xline+1)-10"
   ]
  },
  {
   "cell_type": "code",
   "execution_count": 88,
   "metadata": {},
   "outputs": [
    {
     "data": {
      "text/html": [
       "<div style=\"display: table;\"><div style=\"display: table-row;\"><div style=\"display: table-cell;\"><b title=\"bokeh.models.renderers.GlyphRenderer\">GlyphRenderer</b>(</div><div style=\"display: table-cell;\">id&nbsp;=&nbsp;'10818', <span id=\"11112\" style=\"cursor: pointer;\">&hellip;)</span></div></div><div class=\"11111\" style=\"display: none;\"><div style=\"display: table-cell;\"></div><div style=\"display: table-cell;\">coordinates&nbsp;=&nbsp;None,</div></div><div class=\"11111\" style=\"display: none;\"><div style=\"display: table-cell;\"></div><div style=\"display: table-cell;\">data_source&nbsp;=&nbsp;ColumnDataSource(id='10814', ...),</div></div><div class=\"11111\" style=\"display: none;\"><div style=\"display: table-cell;\"></div><div style=\"display: table-cell;\">glyph&nbsp;=&nbsp;Line(id='10815', ...),</div></div><div class=\"11111\" style=\"display: none;\"><div style=\"display: table-cell;\"></div><div style=\"display: table-cell;\">group&nbsp;=&nbsp;None,</div></div><div class=\"11111\" style=\"display: none;\"><div style=\"display: table-cell;\"></div><div style=\"display: table-cell;\">hover_glyph&nbsp;=&nbsp;None,</div></div><div class=\"11111\" style=\"display: none;\"><div style=\"display: table-cell;\"></div><div style=\"display: table-cell;\">js_event_callbacks&nbsp;=&nbsp;{},</div></div><div class=\"11111\" style=\"display: none;\"><div style=\"display: table-cell;\"></div><div style=\"display: table-cell;\">js_property_callbacks&nbsp;=&nbsp;{},</div></div><div class=\"11111\" style=\"display: none;\"><div style=\"display: table-cell;\"></div><div style=\"display: table-cell;\">level&nbsp;=&nbsp;'glyph',</div></div><div class=\"11111\" style=\"display: none;\"><div style=\"display: table-cell;\"></div><div style=\"display: table-cell;\">muted&nbsp;=&nbsp;False,</div></div><div class=\"11111\" style=\"display: none;\"><div style=\"display: table-cell;\"></div><div style=\"display: table-cell;\">muted_glyph&nbsp;=&nbsp;Line(id='10817', ...),</div></div><div class=\"11111\" style=\"display: none;\"><div style=\"display: table-cell;\"></div><div style=\"display: table-cell;\">name&nbsp;=&nbsp;None,</div></div><div class=\"11111\" style=\"display: none;\"><div style=\"display: table-cell;\"></div><div style=\"display: table-cell;\">nonselection_glyph&nbsp;=&nbsp;Line(id='10816', ...),</div></div><div class=\"11111\" style=\"display: none;\"><div style=\"display: table-cell;\"></div><div style=\"display: table-cell;\">selection_glyph&nbsp;=&nbsp;'auto',</div></div><div class=\"11111\" style=\"display: none;\"><div style=\"display: table-cell;\"></div><div style=\"display: table-cell;\">subscribed_events&nbsp;=&nbsp;[],</div></div><div class=\"11111\" style=\"display: none;\"><div style=\"display: table-cell;\"></div><div style=\"display: table-cell;\">syncable&nbsp;=&nbsp;True,</div></div><div class=\"11111\" style=\"display: none;\"><div style=\"display: table-cell;\"></div><div style=\"display: table-cell;\">tags&nbsp;=&nbsp;[],</div></div><div class=\"11111\" style=\"display: none;\"><div style=\"display: table-cell;\"></div><div style=\"display: table-cell;\">view&nbsp;=&nbsp;CDSView(id='10819', ...),</div></div><div class=\"11111\" style=\"display: none;\"><div style=\"display: table-cell;\"></div><div style=\"display: table-cell;\">visible&nbsp;=&nbsp;True,</div></div><div class=\"11111\" style=\"display: none;\"><div style=\"display: table-cell;\"></div><div style=\"display: table-cell;\">x_range_name&nbsp;=&nbsp;'default',</div></div><div class=\"11111\" style=\"display: none;\"><div style=\"display: table-cell;\"></div><div style=\"display: table-cell;\">y_range_name&nbsp;=&nbsp;'default')</div></div></div>\n",
       "<script>\n",
       "(function() {\n",
       "  let expanded = false;\n",
       "  const ellipsis = document.getElementById(\"11112\");\n",
       "  ellipsis.addEventListener(\"click\", function() {\n",
       "    const rows = document.getElementsByClassName(\"11111\");\n",
       "    for (let i = 0; i < rows.length; i++) {\n",
       "      const el = rows[i];\n",
       "      el.style.display = expanded ? \"none\" : \"table-row\";\n",
       "    }\n",
       "    ellipsis.innerHTML = expanded ? \"&hellip;)\" : \"&lsaquo;&lsaquo;&lsaquo;\";\n",
       "    expanded = !expanded;\n",
       "  });\n",
       "})();\n",
       "</script>\n"
      ],
      "text/plain": [
       "GlyphRenderer(id='10818', ...)"
      ]
     },
     "execution_count": 88,
     "metadata": {},
     "output_type": "execute_result"
    }
   ],
   "source": [
    "pic.line(x=xline,y=yline,color='green')"
   ]
  },
  {
   "cell_type": "code",
   "execution_count": 89,
   "metadata": {},
   "outputs": [
    {
     "data": {
      "text/html": [
       "\n",
       "\n",
       "\n",
       "\n",
       "\n",
       "\n",
       "  <div class=\"bk-root\" id=\"ad58ae8f-cb77-4a38-bf96-697dc095bb3f\" data-root-id=\"9788\"></div>\n"
      ]
     },
     "metadata": {},
     "output_type": "display_data"
    },
    {
     "data": {
      "application/javascript": "(function(root) {\n  function embed_document(root) {\n    \n  const docs_json = {\"adafdef3-acb3-46c4-aeb3-78bd99a6ed3a\":{\"defs\":[],\"roots\":{\"references\":[{\"attributes\":{\"below\":[{\"id\":\"9799\"}],\"center\":[{\"id\":\"9802\"},{\"id\":\"9806\"}],\"left\":[{\"id\":\"9803\"}],\"renderers\":[{\"id\":\"9825\"},{\"id\":\"10166\"},{\"id\":\"10521\"},{\"id\":\"10818\"}],\"title\":{\"id\":\"9789\"},\"toolbar\":{\"id\":\"9814\"},\"x_range\":{\"id\":\"9791\"},\"x_scale\":{\"id\":\"9795\"},\"y_range\":{\"id\":\"9793\"},\"y_scale\":{\"id\":\"9797\"}},\"id\":\"9788\",\"subtype\":\"Figure\",\"type\":\"Plot\"},{\"attributes\":{},\"id\":\"10104\",\"type\":\"BasicTickFormatter\"},{\"attributes\":{},\"id\":\"10107\",\"type\":\"BasicTickFormatter\"},{\"attributes\":{},\"id\":\"10108\",\"type\":\"AllLabels\"},{\"attributes\":{},\"id\":\"9811\",\"type\":\"ResetTool\"},{\"attributes\":{},\"id\":\"9810\",\"type\":\"SaveTool\"},{\"attributes\":{},\"id\":\"10810\",\"type\":\"Selection\"},{\"attributes\":{\"overlay\":{\"id\":\"9813\"}},\"id\":\"9809\",\"type\":\"BoxZoomTool\"},{\"attributes\":{},\"id\":\"10105\",\"type\":\"AllLabels\"},{\"attributes\":{},\"id\":\"9791\",\"type\":\"DataRange1d\"},{\"attributes\":{\"coordinates\":null,\"data_source\":{\"id\":\"10517\"},\"glyph\":{\"id\":\"10518\"},\"group\":null,\"hover_glyph\":null,\"muted_glyph\":{\"id\":\"10520\"},\"nonselection_glyph\":{\"id\":\"10519\"},\"view\":{\"id\":\"10522\"}},\"id\":\"10521\",\"type\":\"GlyphRenderer\"},{\"attributes\":{},\"id\":\"9807\",\"type\":\"PanTool\"},{\"attributes\":{},\"id\":\"9808\",\"type\":\"WheelZoomTool\"},{\"attributes\":{\"line_alpha\":0.1,\"line_color\":\"green\",\"x\":{\"field\":\"x\"},\"y\":{\"field\":\"y\"}},\"id\":\"10816\",\"type\":\"Line\"},{\"attributes\":{},\"id\":\"9804\",\"type\":\"BasicTicker\"},{\"attributes\":{\"axis\":{\"id\":\"9803\"},\"coordinates\":null,\"dimension\":1,\"group\":null,\"ticker\":null},\"id\":\"9806\",\"type\":\"Grid\"},{\"attributes\":{},\"id\":\"10109\",\"type\":\"UnionRenderers\"},{\"attributes\":{},\"id\":\"9812\",\"type\":\"HelpTool\"},{\"attributes\":{\"coordinates\":null,\"formatter\":{\"id\":\"10107\"},\"group\":null,\"major_label_policy\":{\"id\":\"10108\"},\"ticker\":{\"id\":\"9800\"}},\"id\":\"9799\",\"type\":\"LinearAxis\"},{\"attributes\":{\"source\":{\"id\":\"10517\"}},\"id\":\"10522\",\"type\":\"CDSView\"},{\"attributes\":{},\"id\":\"10110\",\"type\":\"Selection\"},{\"attributes\":{},\"id\":\"9795\",\"type\":\"LinearScale\"},{\"attributes\":{\"line_color\":\"#1f77b4\",\"x\":{\"field\":\"x\"},\"y\":{\"field\":\"y\"}},\"id\":\"9822\",\"type\":\"Line\"},{\"attributes\":{\"data\":{\"x\":{\"__ndarray__\":\"AAAAAAAAAMAFav1KgVr/vwrU+pUCtf6/ED744IMP/r8VqPUrBWr9vxoS83aGxPy/H3zwwQcf/L8k5u0MiXn7vylQ61cK1Pq/Lrrooosu+r80JObtDIn5vzmO4ziO4/i/Pvjggw8++L9DYt7OkJj3v0jM2xkS8/a/TjbZZJNN9r9SoNavFKj1v1gK1PqVAvW/XXTRRRdd9L9i3s6QmLfzv2dIzNsZEvO/bLLJJpts8r9yHMdxHMfxv3aGxLydIfG/fPDBBx988L8CtX6lQK3vvwyJeTtDYu6/Fl100UUX7b8gMW9nSMzrvywFav1Kgeq/Ntlkk0026b9ArV8pUOvnv0qBWr9SoOa/VFVVVVVV5b9eKVDrVwrkv2j9SoFav+K/dNFFF1104b9+pUCtXyngvxDzdobEvN2/JJtssskm2784Q2LezpDYv0zrVwrU+tW/ZJNNNtlk0794O0Ni3s7QvxjHcRzHccy/QBdddNFFx79oZ0jM2xnCvyBvZ0jM27m/AB988MEHr79Av1Kg1q+Uv4C/UqDWr5Q/QB988MEHrz9Ab2dIzNu5P3BnSMzbGcI/UBdddNFFxz8gx3Ecx3HMP4A7Q2LeztA/aJNNNtlk0z9Q61cK1PrVP0BDYt7OkNg/KJtssskm2z8Y83aGxLzdP4ClQK1fKeA/eNFFF1104T9s/UqBWr/iP2ApUOtXCuQ/WFVVVVVV5T9MgVq/UqDmP0StXylQ6+c/ONlkk0026T8wBWr9SoHqPyQxb2dIzOs/GF100UUX7T8QiXk7Q2LuPwS1fqVAre8/fvDBBx988D94hsS8nSHxP3Icx3Ecx/E/brLJJpts8j9oSMzbGRLzP2TezpCYt/M/XnTRRRdd9D9aCtT6lQL1P1Sg1q8UqPU/TjbZZJNN9j9KzNsZEvP2P0Ri3s6QmPc/QPjggw8++D86juM4juP4PzYk5u0Mifk/MLrooosu+j8qUOtXCtT6Pybm7QyJefs/IHzwwQcf/D8cEvN2hsT8Pxao9SsFav0/ED744IMP/j8M1PqVArX+PwZq/UqBWv8/AAAAAAAAAEA=\",\"dtype\":\"float64\",\"order\":\"little\",\"shape\":[100]},\"y\":{\"__ndarray__\":\"AAAAAAAAQcCEDz744INAwAgffPDBB0DAGF100UUXP8AgfPDBBx8+wCebbLLJJj3ALrrooosuPMA22WSTTTY7wD744IMPPjrARRdddNFFOcBONtlkk004wFZVVVVVVTfAXXTRRRddNsBkk0022WQ1wGyyySabbDTAddFFF110M8B78MEHH3wywIQPPvjggzHAjC666KKLMMAmm2yyySYvwDXZZJNNNi3ARBdddNFFK8BWVVVVVVUpwGKTTTbZZCfAdNFFF110JcCDDz744IMjwJJNNtlkkyHAQhdddNFFH8Bgk0022WQbwIQPPvjggxfAoosuuuiiE8CADz744IMPwLwHH3zwwQfA8P///////79o8MEHH3zwvwAcfPDBB6+/IF100UUX7T8YPvjggw/+P9Amm2yyyQZAlC666KKLDkAsm2yyySYTQA4ffPDBBxdA6KKLLrroGkDMJptssskeQFhVVVVVVSFASBdddNFFI0A42WSTTTYlQCqbbLLJJidAGF100UUXKUAIH3zwwQcrQPrggw8++CxA7qKLLrroLkBusskmm2wwQGWTTTbZZDFAX3TRRRddMkBWVVVVVVUzQFA22WSTTTRARxdddNFFNUA++OCDDz42QDjZZJNNNjdAMLrooosuOEAom2yyySY5QCB88MEHHzpAGl100UUXO0AQPvjggw88QAgffPDBBz1AAgAAAAAAPkD44IMPPvg+QPTBBx988D9AddFFF110QEDywQcffPBAQG6yySabbEFA6aKLLrroQUBmk0022WRCQOKDDz744EJAXnTRRRddQ0DaZJNNNtlDQFZVVVVVVURA0kUXXXTRREBONtlkk01FQMsmm2yyyUVARhdddNFFRkDEBx988MFGQD/44IMPPkdAuuiiiy66R0A42WSTTTZIQLPJJptsskhAMLrooosuSUCsqqqqqqpJQCibbLLJJkpApIsuuuiiSkAgfPDBBx9LQJxssskmm0tAGF100UUXTECUTTbZZJNMQBA++OCDD01AjC666KKLTUAIH3zwwQdOQIQPPvjgg05AAAAAAAAAT0A=\",\"dtype\":\"float64\",\"order\":\"little\",\"shape\":[100]}},\"selected\":{\"id\":\"10453\"},\"selection_policy\":{\"id\":\"10452\"}},\"id\":\"10162\",\"type\":\"ColumnDataSource\"},{\"attributes\":{\"axis\":{\"id\":\"9799\"},\"coordinates\":null,\"group\":null,\"ticker\":null},\"id\":\"9802\",\"type\":\"Grid\"},{\"attributes\":{\"coordinates\":null,\"data_source\":{\"id\":\"10814\"},\"glyph\":{\"id\":\"10815\"},\"group\":null,\"hover_glyph\":null,\"muted_glyph\":{\"id\":\"10817\"},\"nonselection_glyph\":{\"id\":\"10816\"},\"view\":{\"id\":\"10819\"}},\"id\":\"10818\",\"type\":\"GlyphRenderer\"},{\"attributes\":{\"data\":{\"x\":{\"__ndarray__\":\"AAAAAAAAAMCO4ziO4zj+vxzHcRzHcfy/q6qqqqqq+r85juM4juP4v8dxHMdxHPe/VlVVVVVV9b/kOI7jOI7zv3Icx3Ecx/G/AAAAAAAA8L8=\",\"dtype\":\"float64\",\"order\":\"little\",\"shape\":[10]},\"y\":{\"__ndarray__\":\"AAAAAAAAQcCEDz744INAwAgffPDBB0DAGF100UUXP8AgfPDBBx8+wCebbLLJJj3ALrrooosuPMA22WSTTTY7wD744IMPPjrARRdddNFFOcBONtlkk004wFZVVVVVVTfAXXTRRRddNsBkk0022WQ1wGyyySabbDTAddFFF110M8B78MEHH3wywIQPPvjggzHAjC666KKLMMAmm2yyySYvwDXZZJNNNi3ARBdddNFFK8BWVVVVVVUpwGKTTTbZZCfAdNFFF110JcCDDz744IMjwJJNNtlkkyHAQhdddNFFH8Bgk0022WQbwIQPPvjggxfAoosuuuiiE8CADz744IMPwLwHH3zwwQfA8P///////79o8MEHH3zwvwAcfPDBB6+/IF100UUX7T8YPvjggw/+P9Amm2yyyQZAlC666KKLDkAsm2yyySYTQA4ffPDBBxdA6KKLLrroGkDMJptssskeQFhVVVVVVSFASBdddNFFI0A42WSTTTYlQCqbbLLJJidAGF100UUXKUAIH3zwwQcrQPrggw8++CxA7qKLLrroLkBusskmm2wwQGWTTTbZZDFAX3TRRRddMkBWVVVVVVUzQFA22WSTTTRARxdddNFFNUA++OCDDz42QDjZZJNNNjdAMLrooosuOEAom2yyySY5QCB88MEHHzpAGl100UUXO0AQPvjggw88QAgffPDBBz1AAgAAAAAAPkD44IMPPvg+QPTBBx988D9AddFFF110QEDywQcffPBAQG6yySabbEFA6aKLLrroQUBmk0022WRCQOKDDz744EJAXnTRRRddQ0DaZJNNNtlDQFZVVVVVVURA0kUXXXTRREBONtlkk01FQMsmm2yyyUVARhdddNFFRkDEBx988MFGQD/44IMPPkdAuuiiiy66R0A42WSTTTZIQLPJJptsskhAMLrooosuSUCsqqqqqqpJQCibbLLJJkpApIsuuuiiSkAgfPDBBx9LQJxssskmm0tAGF100UUXTECUTTbZZJNMQBA++OCDD01AjC666KKLTUAIH3zwwQdOQIQPPvjgg05AAAAAAAAAT0A=\",\"dtype\":\"float64\",\"order\":\"little\",\"shape\":[100]}},\"selected\":{\"id\":\"10810\"},\"selection_policy\":{\"id\":\"10809\"}},\"id\":\"10517\",\"type\":\"ColumnDataSource\"},{\"attributes\":{\"line_color\":\"#1f77b4\",\"x\":{\"field\":\"x\"},\"y\":{\"field\":\"y\"}},\"id\":\"10163\",\"type\":\"Line\"},{\"attributes\":{\"line_color\":\"green\",\"x\":{\"field\":\"x\"},\"y\":{\"field\":\"y\"}},\"id\":\"10518\",\"type\":\"Line\"},{\"attributes\":{},\"id\":\"9800\",\"type\":\"BasicTicker\"},{\"attributes\":{\"line_alpha\":0.2,\"line_color\":\"green\",\"x\":{\"field\":\"x\"},\"y\":{\"field\":\"y\"}},\"id\":\"10817\",\"type\":\"Line\"},{\"attributes\":{\"source\":{\"id\":\"10162\"}},\"id\":\"10167\",\"type\":\"CDSView\"},{\"attributes\":{\"line_alpha\":0.2,\"line_color\":\"green\",\"x\":{\"field\":\"x\"},\"y\":{\"field\":\"y\"}},\"id\":\"10520\",\"type\":\"Line\"},{\"attributes\":{\"data\":{\"x\":{\"__ndarray__\":\"AAAAAAAAAMAFav1KgVr/vwrU+pUCtf6/ED744IMP/r8VqPUrBWr9vxoS83aGxPy/H3zwwQcf/L8k5u0MiXn7vylQ61cK1Pq/Lrrooosu+r80JObtDIn5vzmO4ziO4/i/Pvjggw8++L9DYt7OkJj3v0jM2xkS8/a/TjbZZJNN9r9SoNavFKj1v1gK1PqVAvW/XXTRRRdd9L9i3s6QmLfzv2dIzNsZEvO/bLLJJpts8r9yHMdxHMfxv3aGxLydIfG/fPDBBx988L8CtX6lQK3vvwyJeTtDYu6/Fl100UUX7b8gMW9nSMzrvywFav1Kgeq/Ntlkk0026b9ArV8pUOvnv0qBWr9SoOa/VFVVVVVV5b9eKVDrVwrkv2j9SoFav+K/dNFFF1104b9+pUCtXyngvxDzdobEvN2/JJtssskm2784Q2LezpDYv0zrVwrU+tW/ZJNNNtlk0794O0Ni3s7QvxjHcRzHccy/QBdddNFFx79oZ0jM2xnCvyBvZ0jM27m/AB988MEHr79Av1Kg1q+Uv4C/UqDWr5Q/QB988MEHrz9Ab2dIzNu5P3BnSMzbGcI/UBdddNFFxz8gx3Ecx3HMP4A7Q2LeztA/aJNNNtlk0z9Q61cK1PrVP0BDYt7OkNg/KJtssskm2z8Y83aGxLzdP4ClQK1fKeA/eNFFF1104T9s/UqBWr/iP2ApUOtXCuQ/WFVVVVVV5T9MgVq/UqDmP0StXylQ6+c/ONlkk0026T8wBWr9SoHqPyQxb2dIzOs/GF100UUX7T8QiXk7Q2LuPwS1fqVAre8/fvDBBx988D94hsS8nSHxP3Icx3Ecx/E/brLJJpts8j9oSMzbGRLzP2TezpCYt/M/XnTRRRdd9D9aCtT6lQL1P1Sg1q8UqPU/TjbZZJNN9j9KzNsZEvP2P0Ri3s6QmPc/QPjggw8++D86juM4juP4PzYk5u0Mifk/MLrooosu+j8qUOtXCtT6Pybm7QyJefs/IHzwwQcf/D8cEvN2hsT8Pxao9SsFav0/ED744IMP/j8M1PqVArX+PwZq/UqBWv8/AAAAAAAAAEA=\",\"dtype\":\"float64\",\"order\":\"little\",\"shape\":[100]},\"y\":{\"__ndarray__\":\"AAAAAAAATMB89i4Q35FKwLnLZ9oTMEnAAvZaf2raR8Ci67gfr5BGwOIiMtytUkXAEhJ31TIgRMB8LzgsCvlCwGzxJQEA3UHALs7wdODLQMAeeJJQ74o/wK5iv3cjkz3Ap0jJoPWvO8CiFhEN/uA5wDS59/3UJTjA+BzetBJ+NsB+LiVzT+k0wGjaLXojZzPARQ1ZCyf3McCwswdo8pgwwH10NaM7mC7AFBvmEoMgLMBUNOOh68kpwGOZ7tKlkyfAfSPKKOJ8JcDHqzcm0YQjwHQL+U2jqiHAYDegRRLbH8Bba/1OZpkcwDZljb2jjhnASNfTliu5FsDwc1TgXhcUwJDtkp+epxHABu0ltJfQDsBMgrAqj68KwLL/zK3l6AbA88mCSF15A8DERdkFuF0AwMavr+FvJfu/GcoLKT4q9r/3o9X3XsPxv6wNOMis1Ou/Y3jbB1Ex5b/WNWa1ZR/fv3oQudm0xdW/EE3VqT93zL+6O2z+bc7Av0RxWsMqurC/C3x0ILR6l78V/6KBhVRkvxp03gIyymO/tSWdVNqnlb9IYVU4qTutv7bADQYt0ru/oYjemaBPxr9TTomhVCfQvy20jJco2dW/lps0h1wj3L87FV5kAHbhv2BDL9qSDOW/EGsr0W3I6L9SH3B1mZzsv3x5jfkOPvC/g7wkuwEt8r8ooowVqRT0v+zz0x6J7vW/R3sJ7SW097+jATyWA1/5v4NQejCm6Pq/WDHT0ZFK/L+abVWQSn79v7rOD4JUff6/NB4RvTNB/79+JWhXbMP/vw6uI2eC/f+/WIFSAvro/7/caAM/V3//vwAuRTMeuv6/RJom9dKS/b8kd7aa+QL8vwiOAzoWBPq/eKgc6ayP97/YjxC+QZ/0v7AN7s5YLPG/4NaHY+xg6r8Q5UH5O0rhv4BjnyyiHsy/QOui6hbPwT/AQhKsBjXhP4As9xwSSe8/cPKc8G9e9z9wbF7ms87/P3Cd2GzofQRAGEpDWiF2CUCI12ewQtMOQHhwHzJFTBJA0IBgNZtkFUBwanNcQrQYQPR61KHZPBxAAAAAAAAAIEA=\",\"dtype\":\"float64\",\"order\":\"little\",\"shape\":[100]}},\"selected\":{\"id\":\"10110\"},\"selection_policy\":{\"id\":\"10109\"}},\"id\":\"9821\",\"type\":\"ColumnDataSource\"},{\"attributes\":{\"line_color\":\"green\",\"x\":{\"field\":\"x\"},\"y\":{\"field\":\"y\"}},\"id\":\"10815\",\"type\":\"Line\"},{\"attributes\":{},\"id\":\"9793\",\"type\":\"DataRange1d\"},{\"attributes\":{\"data\":{\"x\":{\"__ndarray__\":\"AAAAAAAAAMCO4ziO4zj+vxzHcRzHcfy/q6qqqqqq+r85juM4juP4v8dxHMdxHPe/VlVVVVVV9b/kOI7jOI7zv3Icx3Ecx/G/AAAAAAAA8L8=\",\"dtype\":\"float64\",\"order\":\"little\",\"shape\":[10]},\"y\":{\"__ndarray__\":\"AAAAAAAAQcBVVVVVVVU/wKqqqqqqqjzAAAAAAAAAOsBWVVVVVVU3wKqqqqqqqjTAAQAAAAAAMsCsqqqqqqouwFZVVVVVVSnAAAAAAAAAJMA=\",\"dtype\":\"float64\",\"order\":\"little\",\"shape\":[10]}},\"selected\":{\"id\":\"11109\"},\"selection_policy\":{\"id\":\"11108\"}},\"id\":\"10814\",\"type\":\"ColumnDataSource\"},{\"attributes\":{},\"id\":\"9797\",\"type\":\"LinearScale\"},{\"attributes\":{\"line_alpha\":0.1,\"line_color\":\"#1f77b4\",\"x\":{\"field\":\"x\"},\"y\":{\"field\":\"y\"}},\"id\":\"9823\",\"type\":\"Line\"},{\"attributes\":{\"coordinates\":null,\"group\":null,\"text\":\"y=4x^3-6x^2\"},\"id\":\"9789\",\"type\":\"Title\"},{\"attributes\":{\"coordinates\":null,\"formatter\":{\"id\":\"10104\"},\"group\":null,\"major_label_policy\":{\"id\":\"10105\"},\"ticker\":{\"id\":\"9804\"}},\"id\":\"9803\",\"type\":\"LinearAxis\"},{\"attributes\":{},\"id\":\"10809\",\"type\":\"UnionRenderers\"},{\"attributes\":{\"source\":{\"id\":\"10814\"}},\"id\":\"10819\",\"type\":\"CDSView\"},{\"attributes\":{\"coordinates\":null,\"data_source\":{\"id\":\"10162\"},\"glyph\":{\"id\":\"10163\"},\"group\":null,\"hover_glyph\":null,\"muted_glyph\":{\"id\":\"10165\"},\"nonselection_glyph\":{\"id\":\"10164\"},\"view\":{\"id\":\"10167\"}},\"id\":\"10166\",\"type\":\"GlyphRenderer\"},{\"attributes\":{\"bottom_units\":\"screen\",\"coordinates\":null,\"fill_alpha\":0.5,\"fill_color\":\"lightgrey\",\"group\":null,\"left_units\":\"screen\",\"level\":\"overlay\",\"line_alpha\":1.0,\"line_color\":\"black\",\"line_dash\":[4,4],\"line_width\":2,\"right_units\":\"screen\",\"syncable\":false,\"top_units\":\"screen\"},\"id\":\"9813\",\"type\":\"BoxAnnotation\"},{\"attributes\":{},\"id\":\"10453\",\"type\":\"Selection\"},{\"attributes\":{\"coordinates\":null,\"data_source\":{\"id\":\"9821\"},\"glyph\":{\"id\":\"9822\"},\"group\":null,\"hover_glyph\":null,\"muted_glyph\":{\"id\":\"9824\"},\"nonselection_glyph\":{\"id\":\"9823\"},\"view\":{\"id\":\"9826\"}},\"id\":\"9825\",\"type\":\"GlyphRenderer\"},{\"attributes\":{\"line_alpha\":0.2,\"line_color\":\"#1f77b4\",\"x\":{\"field\":\"x\"},\"y\":{\"field\":\"y\"}},\"id\":\"10165\",\"type\":\"Line\"},{\"attributes\":{\"tools\":[{\"id\":\"9807\"},{\"id\":\"9808\"},{\"id\":\"9809\"},{\"id\":\"9810\"},{\"id\":\"9811\"},{\"id\":\"9812\"}]},\"id\":\"9814\",\"type\":\"Toolbar\"},{\"attributes\":{\"line_alpha\":0.1,\"line_color\":\"green\",\"x\":{\"field\":\"x\"},\"y\":{\"field\":\"y\"}},\"id\":\"10519\",\"type\":\"Line\"},{\"attributes\":{},\"id\":\"11108\",\"type\":\"UnionRenderers\"},{\"attributes\":{},\"id\":\"10452\",\"type\":\"UnionRenderers\"},{\"attributes\":{\"line_alpha\":0.1,\"line_color\":\"#1f77b4\",\"x\":{\"field\":\"x\"},\"y\":{\"field\":\"y\"}},\"id\":\"10164\",\"type\":\"Line\"},{\"attributes\":{\"source\":{\"id\":\"9821\"}},\"id\":\"9826\",\"type\":\"CDSView\"},{\"attributes\":{},\"id\":\"11109\",\"type\":\"Selection\"},{\"attributes\":{\"line_alpha\":0.2,\"line_color\":\"#1f77b4\",\"x\":{\"field\":\"x\"},\"y\":{\"field\":\"y\"}},\"id\":\"9824\",\"type\":\"Line\"}],\"root_ids\":[\"9788\"]},\"title\":\"Bokeh Application\",\"version\":\"2.4.1\"}};\n  const render_items = [{\"docid\":\"adafdef3-acb3-46c4-aeb3-78bd99a6ed3a\",\"root_ids\":[\"9788\"],\"roots\":{\"9788\":\"ad58ae8f-cb77-4a38-bf96-697dc095bb3f\"}}];\n  root.Bokeh.embed.embed_items_notebook(docs_json, render_items);\n\n  }\n  if (root.Bokeh !== undefined) {\n    embed_document(root);\n  } else {\n    let attempts = 0;\n    const timer = setInterval(function(root) {\n      if (root.Bokeh !== undefined) {\n        clearInterval(timer);\n        embed_document(root);\n      } else {\n        attempts++;\n        if (attempts > 100) {\n          clearInterval(timer);\n          console.log(\"Bokeh: ERROR: Unable to run BokehJS code because BokehJS library is missing\");\n        }\n      }\n    }, 10, root)\n  }\n})(window);",
      "application/vnd.bokehjs_exec.v0+json": ""
     },
     "metadata": {
      "application/vnd.bokehjs_exec.v0+json": {
       "id": "9788"
      }
     },
     "output_type": "display_data"
    }
   ],
   "source": [
    "show(pic)"
   ]
  },
  {
   "cell_type": "code",
   "execution_count": null,
   "metadata": {},
   "outputs": [],
   "source": []
  }
 ],
 "metadata": {
  "interpreter": {
   "hash": "4de1eb631fc111013b2f441024ec0dcd7a567c3d6a338a26d91722f9a102f561"
  },
  "kernelspec": {
   "display_name": "Python 3.9.7 ('base')",
   "language": "python",
   "name": "python3"
  },
  "language_info": {
   "codemirror_mode": {
    "name": "ipython",
    "version": 3
   },
   "file_extension": ".py",
   "mimetype": "text/x-python",
   "name": "python",
   "nbconvert_exporter": "python",
   "pygments_lexer": "ipython3",
   "version": "3.9.7"
  },
  "orig_nbformat": 4
 },
 "nbformat": 4,
 "nbformat_minor": 2
}
